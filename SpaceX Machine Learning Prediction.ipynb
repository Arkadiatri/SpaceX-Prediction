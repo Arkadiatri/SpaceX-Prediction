{
 "cells": [
  {
   "cell_type": "markdown",
   "metadata": {},
   "source": [
    "<center>\n",
    "    <img src=\"https://gitlab.com/ibm/skills-network/courses/placeholder101/-/raw/master/labs/module%201/images/IDSNlogo.png\" width=\"300\" alt=\"cognitiveclass.ai logo\"  />\n",
    "</center>\n"
   ]
  },
  {
   "cell_type": "markdown",
   "metadata": {},
   "source": [
    "# **Space X  Falcon 9 First Stage Landing Prediction**\n"
   ]
  },
  {
   "cell_type": "markdown",
   "metadata": {},
   "source": [
    "## Assignment:  Machine Learning Prediction\n"
   ]
  },
  {
   "cell_type": "markdown",
   "metadata": {},
   "source": [
    "Estimated time needed: **60** minutes\n"
   ]
  },
  {
   "cell_type": "markdown",
   "metadata": {},
   "source": [
    "Space X advertises Falcon 9 rocket launches on its website with a cost of 62 million dollars; other providers cost upward of 165 million dollars each, much of the savings is because Space X can reuse the first stage. Therefore if we can determine if the first stage will land, we can determine the cost of a launch. This information can be used if an alternate company wants to bid against space X for a rocket launch.   In this lab, you will create a machine learning pipeline  to predict if the first stage will land given the data from the preceding labs.\n"
   ]
  },
  {
   "cell_type": "markdown",
   "metadata": {},
   "source": [
    "![](https://cf-courses-data.s3.us.cloud-object-storage.appdomain.cloud/IBMDeveloperSkillsNetwork-DS0701EN-SkillsNetwork/api/Images/landing\\_1.gif)\n"
   ]
  },
  {
   "cell_type": "markdown",
   "metadata": {},
   "source": [
    "Several examples of an unsuccessful landing are shown here:\n"
   ]
  },
  {
   "cell_type": "markdown",
   "metadata": {},
   "source": [
    "![](https://cf-courses-data.s3.us.cloud-object-storage.appdomain.cloud/IBMDeveloperSkillsNetwork-DS0701EN-SkillsNetwork/api/Images/crash.gif)\n"
   ]
  },
  {
   "cell_type": "markdown",
   "metadata": {},
   "source": [
    "Most unsuccessful landings are planed. Space X; performs a controlled landing in the oceans.\n"
   ]
  },
  {
   "cell_type": "markdown",
   "metadata": {},
   "source": [
    "## Objectives\n"
   ]
  },
  {
   "cell_type": "markdown",
   "metadata": {},
   "source": [
    "Perform exploratory  Data Analysis and determine Training Labels\n",
    "\n",
    "*   create a column for the class\n",
    "*   Standardize the data\n",
    "*   Split into training data and test data\n",
    "\n",
    "\\-Find best Hyperparameter for SVM, Classification Trees and Logistic Regression\n",
    "\n",
    "*   Find the method performs best using test data\n"
   ]
  },
  {
   "cell_type": "markdown",
   "metadata": {},
   "source": []
  },
  {
   "cell_type": "markdown",
   "metadata": {},
   "source": [
    "***\n"
   ]
  },
  {
   "cell_type": "markdown",
   "metadata": {},
   "source": [
    "## Import Libraries and Define Auxiliary Functions\n"
   ]
  },
  {
   "cell_type": "markdown",
   "metadata": {},
   "source": [
    "We will import the following libraries for the lab\n"
   ]
  },
  {
   "cell_type": "code",
   "execution_count": 1,
   "metadata": {},
   "outputs": [],
   "source": [
    "# Pandas is a software library written for the Python programming language for data manipulation and analysis.\n",
    "import pandas as pd\n",
    "# NumPy is a library for the Python programming language, adding support for large, multi-dimensional arrays and matrices, along with a large collection of high-level mathematical functions to operate on these arrays\n",
    "import numpy as np\n",
    "# Matplotlib is a plotting library for python and pyplot gives us a MatLab like plotting framework. We will use this in our plotter function to plot data.\n",
    "import matplotlib.pyplot as plt\n",
    "#Seaborn is a Python data visualization library based on matplotlib. It provides a high-level interface for drawing attractive and informative statistical graphics\n",
    "import seaborn as sns\n",
    "# Preprocessing allows us to standarsize our data\n",
    "from sklearn import preprocessing\n",
    "# Allows us to split our data into training and testing data\n",
    "from sklearn.model_selection import train_test_split\n",
    "# Allows us to test parameters of classification algorithms and find the best one\n",
    "from sklearn.model_selection import GridSearchCV\n",
    "# Logistic Regression classification algorithm\n",
    "from sklearn.linear_model import LogisticRegression\n",
    "# Support Vector Machine classification algorithm\n",
    "from sklearn.svm import SVC\n",
    "# Decision Tree classification algorithm\n",
    "from sklearn.tree import DecisionTreeClassifier\n",
    "# K Nearest Neighbors classification algorithm\n",
    "from sklearn.neighbors import KNeighborsClassifier\n",
    "# Cross-Validation object\n",
    "from sklearn.model_selection import RepeatedKFold\n",
    "# For general sklearn access\n",
    "import sklearn\n",
    "import sklearn.feature_selection"
   ]
  },
  {
   "cell_type": "markdown",
   "metadata": {},
   "source": [
    "This function is to plot the confusion matrix.\n"
   ]
  },
  {
   "cell_type": "code",
   "execution_count": 2,
   "metadata": {},
   "outputs": [],
   "source": [
    "def plot_confusion_matrix(y,y_predict):\n",
    "    \"this function plots the confusion matrix\"\n",
    "    from sklearn.metrics import confusion_matrix\n",
    "\n",
    "    cm = confusion_matrix(y, y_predict)\n",
    "    ax= plt.subplot()\n",
    "    sns.heatmap(cm, annot=True, ax = ax); #annot=True to annotate cells\n",
    "    ax.set_xlabel('Predicted labels')\n",
    "    ax.set_ylabel('True labels')\n",
    "    ax.set_title('Confusion Matrix'); \n",
    "    ax.xaxis.set_ticklabels(['will not land', 'will land'])\n",
    "    ax.yaxis.set_ticklabels(['did not land', 'did land']);"
   ]
  },
  {
   "cell_type": "markdown",
   "metadata": {},
   "source": [
    "## Load the dataframe\n"
   ]
  },
  {
   "cell_type": "markdown",
   "metadata": {},
   "source": [
    "Load the data\n"
   ]
  },
  {
   "cell_type": "code",
   "execution_count": 3,
   "metadata": {},
   "outputs": [
    {
     "data": {
      "text/html": [
       "<div>\n",
       "<style scoped>\n",
       "    .dataframe tbody tr th:only-of-type {\n",
       "        vertical-align: middle;\n",
       "    }\n",
       "\n",
       "    .dataframe tbody tr th {\n",
       "        vertical-align: top;\n",
       "    }\n",
       "\n",
       "    .dataframe thead th {\n",
       "        text-align: right;\n",
       "    }\n",
       "</style>\n",
       "<table border=\"1\" class=\"dataframe\">\n",
       "  <thead>\n",
       "    <tr style=\"text-align: right;\">\n",
       "      <th></th>\n",
       "      <th>FlightNumber</th>\n",
       "      <th>Date</th>\n",
       "      <th>BoosterVersion</th>\n",
       "      <th>PayloadMass</th>\n",
       "      <th>Orbit</th>\n",
       "      <th>LaunchSite</th>\n",
       "      <th>Outcome</th>\n",
       "      <th>Flights</th>\n",
       "      <th>GridFins</th>\n",
       "      <th>Reused</th>\n",
       "      <th>Legs</th>\n",
       "      <th>LandingPad</th>\n",
       "      <th>Block</th>\n",
       "      <th>ReusedCount</th>\n",
       "      <th>Serial</th>\n",
       "      <th>Longitude</th>\n",
       "      <th>Latitude</th>\n",
       "      <th>Class</th>\n",
       "    </tr>\n",
       "  </thead>\n",
       "  <tbody>\n",
       "    <tr>\n",
       "      <th>0</th>\n",
       "      <td>1</td>\n",
       "      <td>2010-06-04</td>\n",
       "      <td>Falcon 9</td>\n",
       "      <td>6104.959412</td>\n",
       "      <td>LEO</td>\n",
       "      <td>CCAFS SLC 40</td>\n",
       "      <td>None None</td>\n",
       "      <td>1</td>\n",
       "      <td>False</td>\n",
       "      <td>False</td>\n",
       "      <td>False</td>\n",
       "      <td>NaN</td>\n",
       "      <td>1.0</td>\n",
       "      <td>0</td>\n",
       "      <td>B0003</td>\n",
       "      <td>-80.577366</td>\n",
       "      <td>28.561857</td>\n",
       "      <td>0</td>\n",
       "    </tr>\n",
       "    <tr>\n",
       "      <th>1</th>\n",
       "      <td>2</td>\n",
       "      <td>2012-05-22</td>\n",
       "      <td>Falcon 9</td>\n",
       "      <td>525.000000</td>\n",
       "      <td>LEO</td>\n",
       "      <td>CCAFS SLC 40</td>\n",
       "      <td>None None</td>\n",
       "      <td>1</td>\n",
       "      <td>False</td>\n",
       "      <td>False</td>\n",
       "      <td>False</td>\n",
       "      <td>NaN</td>\n",
       "      <td>1.0</td>\n",
       "      <td>0</td>\n",
       "      <td>B0005</td>\n",
       "      <td>-80.577366</td>\n",
       "      <td>28.561857</td>\n",
       "      <td>0</td>\n",
       "    </tr>\n",
       "    <tr>\n",
       "      <th>2</th>\n",
       "      <td>3</td>\n",
       "      <td>2013-03-01</td>\n",
       "      <td>Falcon 9</td>\n",
       "      <td>677.000000</td>\n",
       "      <td>ISS</td>\n",
       "      <td>CCAFS SLC 40</td>\n",
       "      <td>None None</td>\n",
       "      <td>1</td>\n",
       "      <td>False</td>\n",
       "      <td>False</td>\n",
       "      <td>False</td>\n",
       "      <td>NaN</td>\n",
       "      <td>1.0</td>\n",
       "      <td>0</td>\n",
       "      <td>B0007</td>\n",
       "      <td>-80.577366</td>\n",
       "      <td>28.561857</td>\n",
       "      <td>0</td>\n",
       "    </tr>\n",
       "    <tr>\n",
       "      <th>3</th>\n",
       "      <td>4</td>\n",
       "      <td>2013-09-29</td>\n",
       "      <td>Falcon 9</td>\n",
       "      <td>500.000000</td>\n",
       "      <td>PO</td>\n",
       "      <td>VAFB SLC 4E</td>\n",
       "      <td>False Ocean</td>\n",
       "      <td>1</td>\n",
       "      <td>False</td>\n",
       "      <td>False</td>\n",
       "      <td>False</td>\n",
       "      <td>NaN</td>\n",
       "      <td>1.0</td>\n",
       "      <td>0</td>\n",
       "      <td>B1003</td>\n",
       "      <td>-120.610829</td>\n",
       "      <td>34.632093</td>\n",
       "      <td>0</td>\n",
       "    </tr>\n",
       "    <tr>\n",
       "      <th>4</th>\n",
       "      <td>5</td>\n",
       "      <td>2013-12-03</td>\n",
       "      <td>Falcon 9</td>\n",
       "      <td>3170.000000</td>\n",
       "      <td>GTO</td>\n",
       "      <td>CCAFS SLC 40</td>\n",
       "      <td>None None</td>\n",
       "      <td>1</td>\n",
       "      <td>False</td>\n",
       "      <td>False</td>\n",
       "      <td>False</td>\n",
       "      <td>NaN</td>\n",
       "      <td>1.0</td>\n",
       "      <td>0</td>\n",
       "      <td>B1004</td>\n",
       "      <td>-80.577366</td>\n",
       "      <td>28.561857</td>\n",
       "      <td>0</td>\n",
       "    </tr>\n",
       "  </tbody>\n",
       "</table>\n",
       "</div>"
      ],
      "text/plain": [
       "   FlightNumber        Date BoosterVersion  PayloadMass Orbit    LaunchSite  \\\n",
       "0             1  2010-06-04       Falcon 9  6104.959412   LEO  CCAFS SLC 40   \n",
       "1             2  2012-05-22       Falcon 9   525.000000   LEO  CCAFS SLC 40   \n",
       "2             3  2013-03-01       Falcon 9   677.000000   ISS  CCAFS SLC 40   \n",
       "3             4  2013-09-29       Falcon 9   500.000000    PO   VAFB SLC 4E   \n",
       "4             5  2013-12-03       Falcon 9  3170.000000   GTO  CCAFS SLC 40   \n",
       "\n",
       "       Outcome  Flights  GridFins  Reused   Legs LandingPad  Block  \\\n",
       "0    None None        1     False   False  False        NaN    1.0   \n",
       "1    None None        1     False   False  False        NaN    1.0   \n",
       "2    None None        1     False   False  False        NaN    1.0   \n",
       "3  False Ocean        1     False   False  False        NaN    1.0   \n",
       "4    None None        1     False   False  False        NaN    1.0   \n",
       "\n",
       "   ReusedCount Serial   Longitude   Latitude  Class  \n",
       "0            0  B0003  -80.577366  28.561857      0  \n",
       "1            0  B0005  -80.577366  28.561857      0  \n",
       "2            0  B0007  -80.577366  28.561857      0  \n",
       "3            0  B1003 -120.610829  34.632093      0  \n",
       "4            0  B1004  -80.577366  28.561857      0  "
      ]
     },
     "execution_count": 3,
     "metadata": {},
     "output_type": "execute_result"
    }
   ],
   "source": [
    "data = pd.read_csv(\"https://cf-courses-data.s3.us.cloud-object-storage.appdomain.cloud/IBM-DS0321EN-SkillsNetwork/datasets/dataset_part_2.csv\")\n",
    "\n",
    "# If you were unable to complete the previous lab correctly you can uncomment and load this csv\n",
    "\n",
    "# data = pd.read_csv('https://cf-courses-data.s3.us.cloud-object-storage.appdomain.cloud/IBMDeveloperSkillsNetwork-DS0701EN-SkillsNetwork/api/dataset_part_2.csv')\n",
    "\n",
    "data.head()"
   ]
  },
  {
   "cell_type": "code",
   "execution_count": 4,
   "metadata": {},
   "outputs": [
    {
     "data": {
      "text/html": [
       "<div>\n",
       "<style scoped>\n",
       "    .dataframe tbody tr th:only-of-type {\n",
       "        vertical-align: middle;\n",
       "    }\n",
       "\n",
       "    .dataframe tbody tr th {\n",
       "        vertical-align: top;\n",
       "    }\n",
       "\n",
       "    .dataframe thead th {\n",
       "        text-align: right;\n",
       "    }\n",
       "</style>\n",
       "<table border=\"1\" class=\"dataframe\">\n",
       "  <thead>\n",
       "    <tr style=\"text-align: right;\">\n",
       "      <th></th>\n",
       "      <th>FlightNumber</th>\n",
       "      <th>PayloadMass</th>\n",
       "      <th>Flights</th>\n",
       "      <th>Block</th>\n",
       "      <th>ReusedCount</th>\n",
       "      <th>Orbit_ES-L1</th>\n",
       "      <th>Orbit_GEO</th>\n",
       "      <th>Orbit_GTO</th>\n",
       "      <th>Orbit_HEO</th>\n",
       "      <th>Orbit_ISS</th>\n",
       "      <th>...</th>\n",
       "      <th>Serial_B1058</th>\n",
       "      <th>Serial_B1059</th>\n",
       "      <th>Serial_B1060</th>\n",
       "      <th>Serial_B1062</th>\n",
       "      <th>GridFins_False</th>\n",
       "      <th>GridFins_True</th>\n",
       "      <th>Reused_False</th>\n",
       "      <th>Reused_True</th>\n",
       "      <th>Legs_False</th>\n",
       "      <th>Legs_True</th>\n",
       "    </tr>\n",
       "  </thead>\n",
       "  <tbody>\n",
       "    <tr>\n",
       "      <th>0</th>\n",
       "      <td>1.0</td>\n",
       "      <td>6104.959412</td>\n",
       "      <td>1.0</td>\n",
       "      <td>1.0</td>\n",
       "      <td>0.0</td>\n",
       "      <td>0.0</td>\n",
       "      <td>0.0</td>\n",
       "      <td>0.0</td>\n",
       "      <td>0.0</td>\n",
       "      <td>0.0</td>\n",
       "      <td>...</td>\n",
       "      <td>0.0</td>\n",
       "      <td>0.0</td>\n",
       "      <td>0.0</td>\n",
       "      <td>0.0</td>\n",
       "      <td>1.0</td>\n",
       "      <td>0.0</td>\n",
       "      <td>1.0</td>\n",
       "      <td>0.0</td>\n",
       "      <td>1.0</td>\n",
       "      <td>0.0</td>\n",
       "    </tr>\n",
       "    <tr>\n",
       "      <th>1</th>\n",
       "      <td>2.0</td>\n",
       "      <td>525.000000</td>\n",
       "      <td>1.0</td>\n",
       "      <td>1.0</td>\n",
       "      <td>0.0</td>\n",
       "      <td>0.0</td>\n",
       "      <td>0.0</td>\n",
       "      <td>0.0</td>\n",
       "      <td>0.0</td>\n",
       "      <td>0.0</td>\n",
       "      <td>...</td>\n",
       "      <td>0.0</td>\n",
       "      <td>0.0</td>\n",
       "      <td>0.0</td>\n",
       "      <td>0.0</td>\n",
       "      <td>1.0</td>\n",
       "      <td>0.0</td>\n",
       "      <td>1.0</td>\n",
       "      <td>0.0</td>\n",
       "      <td>1.0</td>\n",
       "      <td>0.0</td>\n",
       "    </tr>\n",
       "    <tr>\n",
       "      <th>2</th>\n",
       "      <td>3.0</td>\n",
       "      <td>677.000000</td>\n",
       "      <td>1.0</td>\n",
       "      <td>1.0</td>\n",
       "      <td>0.0</td>\n",
       "      <td>0.0</td>\n",
       "      <td>0.0</td>\n",
       "      <td>0.0</td>\n",
       "      <td>0.0</td>\n",
       "      <td>1.0</td>\n",
       "      <td>...</td>\n",
       "      <td>0.0</td>\n",
       "      <td>0.0</td>\n",
       "      <td>0.0</td>\n",
       "      <td>0.0</td>\n",
       "      <td>1.0</td>\n",
       "      <td>0.0</td>\n",
       "      <td>1.0</td>\n",
       "      <td>0.0</td>\n",
       "      <td>1.0</td>\n",
       "      <td>0.0</td>\n",
       "    </tr>\n",
       "    <tr>\n",
       "      <th>3</th>\n",
       "      <td>4.0</td>\n",
       "      <td>500.000000</td>\n",
       "      <td>1.0</td>\n",
       "      <td>1.0</td>\n",
       "      <td>0.0</td>\n",
       "      <td>0.0</td>\n",
       "      <td>0.0</td>\n",
       "      <td>0.0</td>\n",
       "      <td>0.0</td>\n",
       "      <td>0.0</td>\n",
       "      <td>...</td>\n",
       "      <td>0.0</td>\n",
       "      <td>0.0</td>\n",
       "      <td>0.0</td>\n",
       "      <td>0.0</td>\n",
       "      <td>1.0</td>\n",
       "      <td>0.0</td>\n",
       "      <td>1.0</td>\n",
       "      <td>0.0</td>\n",
       "      <td>1.0</td>\n",
       "      <td>0.0</td>\n",
       "    </tr>\n",
       "    <tr>\n",
       "      <th>4</th>\n",
       "      <td>5.0</td>\n",
       "      <td>3170.000000</td>\n",
       "      <td>1.0</td>\n",
       "      <td>1.0</td>\n",
       "      <td>0.0</td>\n",
       "      <td>0.0</td>\n",
       "      <td>0.0</td>\n",
       "      <td>1.0</td>\n",
       "      <td>0.0</td>\n",
       "      <td>0.0</td>\n",
       "      <td>...</td>\n",
       "      <td>0.0</td>\n",
       "      <td>0.0</td>\n",
       "      <td>0.0</td>\n",
       "      <td>0.0</td>\n",
       "      <td>1.0</td>\n",
       "      <td>0.0</td>\n",
       "      <td>1.0</td>\n",
       "      <td>0.0</td>\n",
       "      <td>1.0</td>\n",
       "      <td>0.0</td>\n",
       "    </tr>\n",
       "    <tr>\n",
       "      <th>...</th>\n",
       "      <td>...</td>\n",
       "      <td>...</td>\n",
       "      <td>...</td>\n",
       "      <td>...</td>\n",
       "      <td>...</td>\n",
       "      <td>...</td>\n",
       "      <td>...</td>\n",
       "      <td>...</td>\n",
       "      <td>...</td>\n",
       "      <td>...</td>\n",
       "      <td>...</td>\n",
       "      <td>...</td>\n",
       "      <td>...</td>\n",
       "      <td>...</td>\n",
       "      <td>...</td>\n",
       "      <td>...</td>\n",
       "      <td>...</td>\n",
       "      <td>...</td>\n",
       "      <td>...</td>\n",
       "      <td>...</td>\n",
       "      <td>...</td>\n",
       "    </tr>\n",
       "    <tr>\n",
       "      <th>85</th>\n",
       "      <td>86.0</td>\n",
       "      <td>15400.000000</td>\n",
       "      <td>2.0</td>\n",
       "      <td>5.0</td>\n",
       "      <td>2.0</td>\n",
       "      <td>0.0</td>\n",
       "      <td>0.0</td>\n",
       "      <td>0.0</td>\n",
       "      <td>0.0</td>\n",
       "      <td>0.0</td>\n",
       "      <td>...</td>\n",
       "      <td>0.0</td>\n",
       "      <td>0.0</td>\n",
       "      <td>1.0</td>\n",
       "      <td>0.0</td>\n",
       "      <td>0.0</td>\n",
       "      <td>1.0</td>\n",
       "      <td>0.0</td>\n",
       "      <td>1.0</td>\n",
       "      <td>0.0</td>\n",
       "      <td>1.0</td>\n",
       "    </tr>\n",
       "    <tr>\n",
       "      <th>86</th>\n",
       "      <td>87.0</td>\n",
       "      <td>15400.000000</td>\n",
       "      <td>3.0</td>\n",
       "      <td>5.0</td>\n",
       "      <td>2.0</td>\n",
       "      <td>0.0</td>\n",
       "      <td>0.0</td>\n",
       "      <td>0.0</td>\n",
       "      <td>0.0</td>\n",
       "      <td>0.0</td>\n",
       "      <td>...</td>\n",
       "      <td>1.0</td>\n",
       "      <td>0.0</td>\n",
       "      <td>0.0</td>\n",
       "      <td>0.0</td>\n",
       "      <td>0.0</td>\n",
       "      <td>1.0</td>\n",
       "      <td>0.0</td>\n",
       "      <td>1.0</td>\n",
       "      <td>0.0</td>\n",
       "      <td>1.0</td>\n",
       "    </tr>\n",
       "    <tr>\n",
       "      <th>87</th>\n",
       "      <td>88.0</td>\n",
       "      <td>15400.000000</td>\n",
       "      <td>6.0</td>\n",
       "      <td>5.0</td>\n",
       "      <td>5.0</td>\n",
       "      <td>0.0</td>\n",
       "      <td>0.0</td>\n",
       "      <td>0.0</td>\n",
       "      <td>0.0</td>\n",
       "      <td>0.0</td>\n",
       "      <td>...</td>\n",
       "      <td>0.0</td>\n",
       "      <td>0.0</td>\n",
       "      <td>0.0</td>\n",
       "      <td>0.0</td>\n",
       "      <td>0.0</td>\n",
       "      <td>1.0</td>\n",
       "      <td>0.0</td>\n",
       "      <td>1.0</td>\n",
       "      <td>0.0</td>\n",
       "      <td>1.0</td>\n",
       "    </tr>\n",
       "    <tr>\n",
       "      <th>88</th>\n",
       "      <td>89.0</td>\n",
       "      <td>15400.000000</td>\n",
       "      <td>3.0</td>\n",
       "      <td>5.0</td>\n",
       "      <td>2.0</td>\n",
       "      <td>0.0</td>\n",
       "      <td>0.0</td>\n",
       "      <td>0.0</td>\n",
       "      <td>0.0</td>\n",
       "      <td>0.0</td>\n",
       "      <td>...</td>\n",
       "      <td>0.0</td>\n",
       "      <td>0.0</td>\n",
       "      <td>1.0</td>\n",
       "      <td>0.0</td>\n",
       "      <td>0.0</td>\n",
       "      <td>1.0</td>\n",
       "      <td>0.0</td>\n",
       "      <td>1.0</td>\n",
       "      <td>0.0</td>\n",
       "      <td>1.0</td>\n",
       "    </tr>\n",
       "    <tr>\n",
       "      <th>89</th>\n",
       "      <td>90.0</td>\n",
       "      <td>3681.000000</td>\n",
       "      <td>1.0</td>\n",
       "      <td>5.0</td>\n",
       "      <td>0.0</td>\n",
       "      <td>0.0</td>\n",
       "      <td>0.0</td>\n",
       "      <td>0.0</td>\n",
       "      <td>0.0</td>\n",
       "      <td>0.0</td>\n",
       "      <td>...</td>\n",
       "      <td>0.0</td>\n",
       "      <td>0.0</td>\n",
       "      <td>0.0</td>\n",
       "      <td>1.0</td>\n",
       "      <td>0.0</td>\n",
       "      <td>1.0</td>\n",
       "      <td>1.0</td>\n",
       "      <td>0.0</td>\n",
       "      <td>0.0</td>\n",
       "      <td>1.0</td>\n",
       "    </tr>\n",
       "  </tbody>\n",
       "</table>\n",
       "<p>90 rows × 83 columns</p>\n",
       "</div>"
      ],
      "text/plain": [
       "    FlightNumber   PayloadMass  Flights  Block  ReusedCount  Orbit_ES-L1  \\\n",
       "0            1.0   6104.959412      1.0    1.0          0.0          0.0   \n",
       "1            2.0    525.000000      1.0    1.0          0.0          0.0   \n",
       "2            3.0    677.000000      1.0    1.0          0.0          0.0   \n",
       "3            4.0    500.000000      1.0    1.0          0.0          0.0   \n",
       "4            5.0   3170.000000      1.0    1.0          0.0          0.0   \n",
       "..           ...           ...      ...    ...          ...          ...   \n",
       "85          86.0  15400.000000      2.0    5.0          2.0          0.0   \n",
       "86          87.0  15400.000000      3.0    5.0          2.0          0.0   \n",
       "87          88.0  15400.000000      6.0    5.0          5.0          0.0   \n",
       "88          89.0  15400.000000      3.0    5.0          2.0          0.0   \n",
       "89          90.0   3681.000000      1.0    5.0          0.0          0.0   \n",
       "\n",
       "    Orbit_GEO  Orbit_GTO  Orbit_HEO  Orbit_ISS  ...  Serial_B1058  \\\n",
       "0         0.0        0.0        0.0        0.0  ...           0.0   \n",
       "1         0.0        0.0        0.0        0.0  ...           0.0   \n",
       "2         0.0        0.0        0.0        1.0  ...           0.0   \n",
       "3         0.0        0.0        0.0        0.0  ...           0.0   \n",
       "4         0.0        1.0        0.0        0.0  ...           0.0   \n",
       "..        ...        ...        ...        ...  ...           ...   \n",
       "85        0.0        0.0        0.0        0.0  ...           0.0   \n",
       "86        0.0        0.0        0.0        0.0  ...           1.0   \n",
       "87        0.0        0.0        0.0        0.0  ...           0.0   \n",
       "88        0.0        0.0        0.0        0.0  ...           0.0   \n",
       "89        0.0        0.0        0.0        0.0  ...           0.0   \n",
       "\n",
       "    Serial_B1059  Serial_B1060  Serial_B1062  GridFins_False  GridFins_True  \\\n",
       "0            0.0           0.0           0.0             1.0            0.0   \n",
       "1            0.0           0.0           0.0             1.0            0.0   \n",
       "2            0.0           0.0           0.0             1.0            0.0   \n",
       "3            0.0           0.0           0.0             1.0            0.0   \n",
       "4            0.0           0.0           0.0             1.0            0.0   \n",
       "..           ...           ...           ...             ...            ...   \n",
       "85           0.0           1.0           0.0             0.0            1.0   \n",
       "86           0.0           0.0           0.0             0.0            1.0   \n",
       "87           0.0           0.0           0.0             0.0            1.0   \n",
       "88           0.0           1.0           0.0             0.0            1.0   \n",
       "89           0.0           0.0           1.0             0.0            1.0   \n",
       "\n",
       "    Reused_False  Reused_True  Legs_False  Legs_True  \n",
       "0            1.0          0.0         1.0        0.0  \n",
       "1            1.0          0.0         1.0        0.0  \n",
       "2            1.0          0.0         1.0        0.0  \n",
       "3            1.0          0.0         1.0        0.0  \n",
       "4            1.0          0.0         1.0        0.0  \n",
       "..           ...          ...         ...        ...  \n",
       "85           0.0          1.0         0.0        1.0  \n",
       "86           0.0          1.0         0.0        1.0  \n",
       "87           0.0          1.0         0.0        1.0  \n",
       "88           0.0          1.0         0.0        1.0  \n",
       "89           1.0          0.0         0.0        1.0  \n",
       "\n",
       "[90 rows x 83 columns]"
      ]
     },
     "execution_count": 4,
     "metadata": {},
     "output_type": "execute_result"
    }
   ],
   "source": [
    "features = pd.read_csv('https://cf-courses-data.s3.us.cloud-object-storage.appdomain.cloud/IBM-DS0321EN-SkillsNetwork/datasets/dataset_part_3.csv')\n",
    "\n",
    "X = features.copy()\n",
    "\n",
    "# If you were unable to complete the previous lab correctly you can uncomment and load this csv\n",
    "\n",
    "# X = pd.read_csv('https://cf-courses-data.s3.us.cloud-object-storage.appdomain.cloud/IBMDeveloperSkillsNetwork-DS0701EN-SkillsNetwork/api/dataset_part_3.csv')\n",
    "\n",
    "X.head(100)"
   ]
  },
  {
   "cell_type": "markdown",
   "metadata": {},
   "source": [
    "## TASK  1\n"
   ]
  },
  {
   "cell_type": "markdown",
   "metadata": {},
   "source": [
    "Create a NumPy array from the column <code>Class</code> in <code>data</code>, by applying the method <code>to_numpy()</code>  then\n",
    "assign it  to the variable <code>Y</code>,make sure the output is a  Pandas series (only one bracket df\\['name of  column']).\n"
   ]
  },
  {
   "cell_type": "code",
   "execution_count": 5,
   "metadata": {},
   "outputs": [
    {
     "data": {
      "text/plain": [
       "array([0, 0, 0, 0, 0, 0, 1, 1, 0, 0, 0, 0, 1, 0, 0, 0, 1, 0, 0, 1, 1, 1,\n",
       "       1, 1, 0, 1, 1, 0, 1, 1, 0, 1, 1, 1, 0, 1, 1, 1, 1, 1, 1, 1, 1, 1,\n",
       "       1, 0, 0, 0, 1, 1, 0, 0, 1, 1, 1, 1, 1, 1, 1, 0, 0, 1, 1, 1, 1, 1,\n",
       "       1, 0, 1, 1, 1, 1, 0, 1, 0, 1, 0, 1, 1, 1, 1, 1, 1, 1, 1, 1, 1, 1,\n",
       "       1, 1], dtype=int64)"
      ]
     },
     "execution_count": 5,
     "metadata": {},
     "output_type": "execute_result"
    }
   ],
   "source": [
    "Y = data['Class'].to_numpy()\n",
    "Y"
   ]
  },
  {
   "cell_type": "code",
   "execution_count": 6,
   "metadata": {},
   "outputs": [],
   "source": [
    "df_results = pd.DataFrame(index=['Logistic Regression','Support Vector Machine','Decision Tree','K Nearest Neighbor'],\n",
    "                          columns=['Best Parameters','Train Accuracy','Test Accuracy'])"
   ]
  },
  {
   "cell_type": "markdown",
   "metadata": {},
   "source": [
    "## TASK  2\n"
   ]
  },
  {
   "cell_type": "markdown",
   "metadata": {},
   "source": [
    "Standardize the data in <code>X</code> then reassign it to the variable  <code>X</code> using the transform provided below.\n"
   ]
  },
  {
   "cell_type": "code",
   "execution_count": 7,
   "metadata": {},
   "outputs": [],
   "source": [
    "# students get this \n",
    "transform = preprocessing.StandardScaler()\n",
    "X = transform.fit_transform(X)\n",
    "# NOTE: the scaling should be done AFTER splitting to avoid biasing the input; a Pipeline is useful for this."
   ]
  },
  {
   "cell_type": "markdown",
   "metadata": {},
   "source": [
    "We split the data into training and testing data using the  function  <code>train_test_split</code>.   The training data is divided into validation data, a second set used for training  data; then the models are trained and hyperparameters are selected using the function <code>GridSearchCV</code>.\n"
   ]
  },
  {
   "cell_type": "markdown",
   "metadata": {},
   "source": [
    "## TASK  3\n"
   ]
  },
  {
   "cell_type": "markdown",
   "metadata": {},
   "source": [
    "Use the function train_test_split to split the data X and Y into training and test data. Set the parameter test_size to  0.2 and random_state to 2. The training data and test data should be assigned to the following labels.\n"
   ]
  },
  {
   "cell_type": "markdown",
   "metadata": {},
   "source": [
    "<code>X_train, X_test, Y_train, Y_test</code>\n"
   ]
  },
  {
   "cell_type": "code",
   "execution_count": 8,
   "metadata": {},
   "outputs": [],
   "source": [
    "X_train, X_test, Y_train, Y_test = train_test_split(X, Y, test_size=0.2, random_state=2)"
   ]
  },
  {
   "cell_type": "markdown",
   "metadata": {},
   "source": [
    "we can see we only have 18 test samples.\n"
   ]
  },
  {
   "cell_type": "code",
   "execution_count": 9,
   "metadata": {},
   "outputs": [
    {
     "data": {
      "text/plain": [
       "(18,)"
      ]
     },
     "execution_count": 9,
     "metadata": {},
     "output_type": "execute_result"
    }
   ],
   "source": [
    "Y_test.shape"
   ]
  },
  {
   "cell_type": "markdown",
   "metadata": {},
   "source": [
    "## TASK  4\n"
   ]
  },
  {
   "cell_type": "markdown",
   "metadata": {},
   "source": [
    "Create a logistic regression object  then create a  GridSearchCV object  <code>logreg_cv</code> with cv = 10.  Fit the object to find the best parameters from the dictionary <code>parameters</code>.\n"
   ]
  },
  {
   "cell_type": "code",
   "execution_count": 10,
   "metadata": {},
   "outputs": [],
   "source": [
    "parameters ={'C':[0.01,0.1,1],\n",
    "             'penalty':['l2'], # l1 lasso l2 ridge\n",
    "             'solver':['lbfgs'] # ‘newton-cg’, ‘lbfgs’, ‘liblinear’, ‘sag’, ‘saga’\n",
    "            }\n",
    "lr=LogisticRegression()"
   ]
  },
  {
   "cell_type": "code",
   "execution_count": 11,
   "metadata": {},
   "outputs": [],
   "source": [
    "logreg_cv = GridSearchCV(estimator=lr, param_grid=parameters, scoring=None, n_jobs=1, cv=10)\n",
    "logreg_cv.fit(X_train, Y_train);\n",
    "# Note this should be improved by explicitly choosing the crossvalidator object e.g. KFold, choosing a problem-derived score"
   ]
  },
  {
   "cell_type": "markdown",
   "metadata": {},
   "source": [
    "We output the <code>GridSearchCV</code> object for logistic regression. We display the best parameters using the data attribute <code>best_params\\_</code> and the accuracy on the validation data using the data attribute <code>best_score\\_</code>.\n"
   ]
  },
  {
   "cell_type": "code",
   "execution_count": 12,
   "metadata": {},
   "outputs": [
    {
     "name": "stdout",
     "output_type": "stream",
     "text": [
      "tuned hpyerparameters :(best parameters)  {'C': 0.01, 'penalty': 'l2', 'solver': 'lbfgs'}\n",
      "accuracy : 0.8464285714285713\n"
     ]
    }
   ],
   "source": [
    "print(\"tuned hpyerparameters :(best parameters) \",logreg_cv.best_params_)\n",
    "print(\"accuracy :\",logreg_cv.best_score_)"
   ]
  },
  {
   "cell_type": "code",
   "execution_count": 13,
   "metadata": {},
   "outputs": [],
   "source": [
    "df_results.iloc[0,0] = [logreg_cv.best_params_]\n",
    "df_results.iloc[0,1] = logreg_cv.best_score_"
   ]
  },
  {
   "cell_type": "markdown",
   "metadata": {},
   "source": [
    "## TASK  5\n"
   ]
  },
  {
   "cell_type": "markdown",
   "metadata": {},
   "source": [
    "Calculate the accuracy on the test data using the method <code>score</code>:\n"
   ]
  },
  {
   "cell_type": "code",
   "execution_count": 14,
   "metadata": {},
   "outputs": [
    {
     "data": {
      "text/plain": [
       "0.8333333333333334"
      ]
     },
     "execution_count": 14,
     "metadata": {},
     "output_type": "execute_result"
    }
   ],
   "source": [
    "logreg_cv.score(X_test, Y_test)"
   ]
  },
  {
   "cell_type": "code",
   "execution_count": 15,
   "metadata": {},
   "outputs": [],
   "source": [
    "df_results.iloc[0,2] = logreg_cv.score(X_test, Y_test)"
   ]
  },
  {
   "cell_type": "markdown",
   "metadata": {},
   "source": [
    "Lets look at the confusion matrix:\n"
   ]
  },
  {
   "cell_type": "code",
   "execution_count": 16,
   "metadata": {},
   "outputs": [
    {
     "data": {
      "image/png": "[encoded data removed]",
      "text/plain": [
       "<Figure size 432x288 with 2 Axes>"
      ]
     },
     "metadata": {
      "needs_background": "light"
     },
     "output_type": "display_data"
    }
   ],
   "source": [
    "yhat=logreg_cv.predict(X_test)\n",
    "plot_confusion_matrix(Y_test,yhat)"
   ]
  },
  {
   "cell_type": "markdown",
   "metadata": {},
   "source": [
    "Examining the confusion matrix, we see that logistic regression can distinguish between the different classes.  We see that the major problem is false positives.\n"
   ]
  },
  {
   "cell_type": "markdown",
   "metadata": {},
   "source": [
    "## TASK  6\n"
   ]
  },
  {
   "cell_type": "markdown",
   "metadata": {},
   "source": [
    "Create a support vector machine object then  create a  <code>GridSearchCV</code> object  <code>svm_cv</code> with cv - 10.  Fit the object to find the best parameters from the dictionary <code>parameters</code>.\n"
   ]
  },
  {
   "cell_type": "code",
   "execution_count": 17,
   "metadata": {},
   "outputs": [],
   "source": [
    "parameters = {'kernel':('linear', 'rbf','poly','rbf', 'sigmoid'),\n",
    "              'C': np.logspace(-3, 3, 5),\n",
    "              'gamma':np.logspace(-3, 3, 5)}\n",
    "svm = SVC()"
   ]
  },
  {
   "cell_type": "code",
   "execution_count": 18,
   "metadata": {},
   "outputs": [],
   "source": [
    "svm_cv = GridSearchCV(estimator=svm, param_grid=parameters, scoring=None, n_jobs=1, cv=10)\n",
    "svm_cv.fit(X_train, Y_train);"
   ]
  },
  {
   "cell_type": "code",
   "execution_count": 19,
   "metadata": {},
   "outputs": [
    {
     "name": "stdout",
     "output_type": "stream",
     "text": [
      "tuned hpyerparameters :(best parameters)  {'C': 1.0, 'gamma': 0.03162277660168379, 'kernel': 'sigmoid'}\n",
      "accuracy : 0.8482142857142856\n"
     ]
    }
   ],
   "source": [
    "print(\"tuned hpyerparameters :(best parameters) \",svm_cv.best_params_)\n",
    "print(\"accuracy :\",svm_cv.best_score_)"
   ]
  },
  {
   "cell_type": "code",
   "execution_count": 20,
   "metadata": {},
   "outputs": [
    {
     "data": {
      "text/html": [
       "<div>\n",
       "<style scoped>\n",
       "    .dataframe tbody tr th:only-of-type {\n",
       "        vertical-align: middle;\n",
       "    }\n",
       "\n",
       "    .dataframe tbody tr th {\n",
       "        vertical-align: top;\n",
       "    }\n",
       "\n",
       "    .dataframe thead th {\n",
       "        text-align: right;\n",
       "    }\n",
       "</style>\n",
       "<table border=\"1\" class=\"dataframe\">\n",
       "  <thead>\n",
       "    <tr style=\"text-align: right;\">\n",
       "      <th></th>\n",
       "      <th>Best Parameters</th>\n",
       "      <th>Train Accuracy</th>\n",
       "      <th>Test Accuracy</th>\n",
       "    </tr>\n",
       "  </thead>\n",
       "  <tbody>\n",
       "    <tr>\n",
       "      <th>Logistic Regression</th>\n",
       "      <td>[{'C': 0.01, 'penalty': 'l2', 'solver': 'lbfgs'}]</td>\n",
       "      <td>0.846429</td>\n",
       "      <td>0.833333</td>\n",
       "    </tr>\n",
       "    <tr>\n",
       "      <th>Support Vector Machine</th>\n",
       "      <td>NaN</td>\n",
       "      <td>NaN</td>\n",
       "      <td>NaN</td>\n",
       "    </tr>\n",
       "    <tr>\n",
       "      <th>Decision Tree</th>\n",
       "      <td>NaN</td>\n",
       "      <td>NaN</td>\n",
       "      <td>NaN</td>\n",
       "    </tr>\n",
       "    <tr>\n",
       "      <th>K Nearest Neighbor</th>\n",
       "      <td>NaN</td>\n",
       "      <td>NaN</td>\n",
       "      <td>NaN</td>\n",
       "    </tr>\n",
       "  </tbody>\n",
       "</table>\n",
       "</div>"
      ],
      "text/plain": [
       "                                                          Best Parameters  \\\n",
       "Logistic Regression     [{'C': 0.01, 'penalty': 'l2', 'solver': 'lbfgs'}]   \n",
       "Support Vector Machine                                                NaN   \n",
       "Decision Tree                                                         NaN   \n",
       "K Nearest Neighbor                                                    NaN   \n",
       "\n",
       "                       Train Accuracy Test Accuracy  \n",
       "Logistic Regression          0.846429      0.833333  \n",
       "Support Vector Machine            NaN           NaN  \n",
       "Decision Tree                     NaN           NaN  \n",
       "K Nearest Neighbor                NaN           NaN  "
      ]
     },
     "execution_count": 20,
     "metadata": {},
     "output_type": "execute_result"
    }
   ],
   "source": [
    "df_results"
   ]
  },
  {
   "cell_type": "markdown",
   "metadata": {},
   "source": [
    "## TASK  7\n"
   ]
  },
  {
   "cell_type": "markdown",
   "metadata": {},
   "source": [
    "Calculate the accuracy on the test data using the method <code>score</code>:\n"
   ]
  },
  {
   "cell_type": "code",
   "execution_count": 21,
   "metadata": {},
   "outputs": [
    {
     "data": {
      "text/plain": [
       "0.8333333333333334"
      ]
     },
     "execution_count": 21,
     "metadata": {},
     "output_type": "execute_result"
    }
   ],
   "source": [
    "svm_cv.score(X_test, Y_test)"
   ]
  },
  {
   "cell_type": "markdown",
   "metadata": {},
   "source": [
    "We can plot the confusion matrix\n"
   ]
  },
  {
   "cell_type": "code",
   "execution_count": 22,
   "metadata": {},
   "outputs": [
    {
     "data": {
      "image/png": "[encoded data removed]",
      "text/plain": [
       "<Figure size 432x288 with 2 Axes>"
      ]
     },
     "metadata": {
      "needs_background": "light"
     },
     "output_type": "display_data"
    }
   ],
   "source": [
    "yhat=svm_cv.predict(X_test)\n",
    "plot_confusion_matrix(Y_test,yhat)"
   ]
  },
  {
   "cell_type": "markdown",
   "metadata": {},
   "source": [
    "These results are identical to that of the logistic regression"
   ]
  },
  {
   "cell_type": "code",
   "execution_count": 23,
   "metadata": {},
   "outputs": [],
   "source": [
    "ii = 1\n",
    "gg = svm_cv\n",
    "df_results.iloc[ii,0] = [gg.best_params_]\n",
    "df_results.iloc[ii,1] = gg.best_score_\n",
    "df_results.iloc[ii,2] = gg.score(X_test, Y_test)"
   ]
  },
  {
   "cell_type": "markdown",
   "metadata": {},
   "source": [
    "## TASK  8\n"
   ]
  },
  {
   "cell_type": "markdown",
   "metadata": {},
   "source": [
    "Create a decision tree classifier object then  create a  <code>GridSearchCV</code> object  <code>tree_cv</code> with cv = 10.  Fit the object to find the best parameters from the dictionary <code>parameters</code>.\n"
   ]
  },
  {
   "cell_type": "code",
   "execution_count": 24,
   "metadata": {},
   "outputs": [],
   "source": [
    "parameters = {'criterion': ['gini', 'entropy'],\n",
    "     'splitter': ['best', 'random'],\n",
    "     'max_depth': [2*n for n in range(1,10)],\n",
    "     'max_features': ['auto', 'sqrt'],\n",
    "     'min_samples_leaf': [1, 2, 4],\n",
    "     'min_samples_split': [2, 5, 10]}\n",
    "\n",
    "tree = DecisionTreeClassifier()"
   ]
  },
  {
   "cell_type": "code",
   "execution_count": 25,
   "metadata": {},
   "outputs": [],
   "source": [
    "tree_cv = GridSearchCV(estimator=tree, param_grid=parameters, scoring=None, n_jobs=1, cv=10)\n",
    "tree_cv.fit(X_train, Y_train);"
   ]
  },
  {
   "cell_type": "code",
   "execution_count": 26,
   "metadata": {},
   "outputs": [
    {
     "name": "stdout",
     "output_type": "stream",
     "text": [
      "tuned hpyerparameters :(best parameters)  {'criterion': 'gini', 'max_depth': 10, 'max_features': 'auto', 'min_samples_leaf': 1, 'min_samples_split': 2, 'splitter': 'best'}\n",
      "accuracy : 0.8767857142857143\n"
     ]
    }
   ],
   "source": [
    "print(\"tuned hpyerparameters :(best parameters) \",tree_cv.best_params_)\n",
    "print(\"accuracy :\",tree_cv.best_score_)"
   ]
  },
  {
   "cell_type": "markdown",
   "metadata": {},
   "source": [
    "## TASK  9\n"
   ]
  },
  {
   "cell_type": "markdown",
   "metadata": {},
   "source": [
    "Calculate the accuracy of tree_cv on the test data using the method <code>score</code>:\n"
   ]
  },
  {
   "cell_type": "code",
   "execution_count": 27,
   "metadata": {},
   "outputs": [
    {
     "data": {
      "text/plain": [
       "0.7777777777777778"
      ]
     },
     "execution_count": 27,
     "metadata": {},
     "output_type": "execute_result"
    }
   ],
   "source": [
    "tree_cv.score(X_test, Y_test)"
   ]
  },
  {
   "cell_type": "markdown",
   "metadata": {},
   "source": [
    "We can plot the confusion matrix\n"
   ]
  },
  {
   "cell_type": "code",
   "execution_count": 28,
   "metadata": {},
   "outputs": [
    {
     "data": {
      "image/png": "[encoded data removed]",
      "text/plain": [
       "<Figure size 432x288 with 2 Axes>"
      ]
     },
     "metadata": {
      "needs_background": "light"
     },
     "output_type": "display_data"
    }
   ],
   "source": [
    "yhat = tree_cv.predict(X_test)\n",
    "plot_confusion_matrix(Y_test,yhat)"
   ]
  },
  {
   "cell_type": "markdown",
   "metadata": {},
   "source": [
    "The decision tree is slightly better with false positives, but much worse with false negatives."
   ]
  },
  {
   "cell_type": "code",
   "execution_count": 29,
   "metadata": {},
   "outputs": [],
   "source": [
    "ii = 2\n",
    "gg = tree_cv\n",
    "df_results.iloc[ii,0] = [gg.best_params_]\n",
    "df_results.iloc[ii,1] = gg.best_score_\n",
    "df_results.iloc[ii,2] = gg.score(X_test, Y_test)"
   ]
  },
  {
   "cell_type": "markdown",
   "metadata": {},
   "source": [
    "## TASK  10\n"
   ]
  },
  {
   "cell_type": "markdown",
   "metadata": {},
   "source": [
    "Create a k nearest neighbors object then  create a  <code>GridSearchCV</code> object  <code>knn_cv</code> with cv = 10.  Fit the object to find the best parameters from the dictionary <code>parameters</code>.\n"
   ]
  },
  {
   "cell_type": "code",
   "execution_count": 30,
   "metadata": {},
   "outputs": [],
   "source": [
    "parameters = {'n_neighbors': [1, 2, 3, 4, 5, 6, 7, 8, 9, 10],\n",
    "              'algorithm': ['auto', 'ball_tree', 'kd_tree', 'brute'],\n",
    "              'p': [1,2]}\n",
    "\n",
    "KNN = KNeighborsClassifier()"
   ]
  },
  {
   "cell_type": "code",
   "execution_count": 31,
   "metadata": {},
   "outputs": [],
   "source": [
    "knn_cv = GridSearchCV(estimator=KNN, param_grid=parameters, scoring=None, n_jobs=1, cv=10)\n",
    "knn_cv.fit(X_train, Y_train);"
   ]
  },
  {
   "cell_type": "code",
   "execution_count": 32,
   "metadata": {},
   "outputs": [
    {
     "name": "stdout",
     "output_type": "stream",
     "text": [
      "tuned hpyerparameters :(best parameters)  {'algorithm': 'auto', 'n_neighbors': 10, 'p': 1}\n",
      "accuracy : 0.8482142857142858\n"
     ]
    }
   ],
   "source": [
    "print(\"tuned hpyerparameters :(best parameters) \",knn_cv.best_params_)\n",
    "print(\"accuracy :\",knn_cv.best_score_)"
   ]
  },
  {
   "cell_type": "markdown",
   "metadata": {},
   "source": [
    "## TASK  11\n"
   ]
  },
  {
   "cell_type": "markdown",
   "metadata": {},
   "source": [
    "Calculate the accuracy of tree_cv on the test data using the method <code>score</code>:\n"
   ]
  },
  {
   "cell_type": "code",
   "execution_count": 33,
   "metadata": {},
   "outputs": [
    {
     "data": {
      "text/plain": [
       "0.8333333333333334"
      ]
     },
     "execution_count": 33,
     "metadata": {},
     "output_type": "execute_result"
    }
   ],
   "source": [
    "knn_cv.score(X_test,Y_test)"
   ]
  },
  {
   "cell_type": "markdown",
   "metadata": {},
   "source": [
    "We can plot the confusion matrix\n"
   ]
  },
  {
   "cell_type": "code",
   "execution_count": 34,
   "metadata": {
    "tags": []
   },
   "outputs": [
    {
     "data": {
      "image/png": "[encoded data removed]",
      "text/plain": [
       "<Figure size 432x288 with 2 Axes>"
      ]
     },
     "metadata": {
      "needs_background": "light"
     },
     "output_type": "display_data"
    }
   ],
   "source": [
    "yhat = knn_cv.predict(X_test)\n",
    "plot_confusion_matrix(Y_test,yhat)"
   ]
  },
  {
   "cell_type": "markdown",
   "metadata": {},
   "source": [
    "The K-Nearest Neighbors model is similar to the first two."
   ]
  },
  {
   "cell_type": "code",
   "execution_count": 35,
   "metadata": {},
   "outputs": [],
   "source": [
    "ii = 3\n",
    "gg = knn_cv\n",
    "df_results.iloc[ii,0] = [gg.best_params_]\n",
    "df_results.iloc[ii,1] = gg.best_score_\n",
    "df_results.iloc[ii,2] = gg.score(X_test, Y_test)"
   ]
  },
  {
   "cell_type": "markdown",
   "metadata": {},
   "source": [
    "## TASK  12\n"
   ]
  },
  {
   "cell_type": "markdown",
   "metadata": {},
   "source": [
    "Find the method performs best:\n"
   ]
  },
  {
   "cell_type": "markdown",
   "metadata": {},
   "source": [
    "The Logistic Regression, Support Vector Machine, and K-Nearest Neighbors models perform identically and much better than the Decision Tree model on the single test/train split set considered."
   ]
  },
  {
   "cell_type": "code",
   "execution_count": 36,
   "metadata": {},
   "outputs": [
    {
     "data": {
      "text/html": [
       "<div>\n",
       "<style scoped>\n",
       "    .dataframe tbody tr th:only-of-type {\n",
       "        vertical-align: middle;\n",
       "    }\n",
       "\n",
       "    .dataframe tbody tr th {\n",
       "        vertical-align: top;\n",
       "    }\n",
       "\n",
       "    .dataframe thead th {\n",
       "        text-align: right;\n",
       "    }\n",
       "</style>\n",
       "<table border=\"1\" class=\"dataframe\">\n",
       "  <thead>\n",
       "    <tr style=\"text-align: right;\">\n",
       "      <th></th>\n",
       "      <th>Best Parameters</th>\n",
       "      <th>Train Accuracy</th>\n",
       "      <th>Test Accuracy</th>\n",
       "    </tr>\n",
       "  </thead>\n",
       "  <tbody>\n",
       "    <tr>\n",
       "      <th>Logistic Regression</th>\n",
       "      <td>[{'C': 0.01, 'penalty': 'l2', 'solver': 'lbfgs'}]</td>\n",
       "      <td>0.846429</td>\n",
       "      <td>0.833333</td>\n",
       "    </tr>\n",
       "    <tr>\n",
       "      <th>Support Vector Machine</th>\n",
       "      <td>[{'C': 1.0, 'gamma': 0.03162277660168379, 'ker...</td>\n",
       "      <td>0.848214</td>\n",
       "      <td>0.833333</td>\n",
       "    </tr>\n",
       "    <tr>\n",
       "      <th>Decision Tree</th>\n",
       "      <td>[{'criterion': 'gini', 'max_depth': 10, 'max_f...</td>\n",
       "      <td>0.876786</td>\n",
       "      <td>0.777778</td>\n",
       "    </tr>\n",
       "    <tr>\n",
       "      <th>K Nearest Neighbor</th>\n",
       "      <td>[{'algorithm': 'auto', 'n_neighbors': 10, 'p':...</td>\n",
       "      <td>0.848214</td>\n",
       "      <td>0.833333</td>\n",
       "    </tr>\n",
       "  </tbody>\n",
       "</table>\n",
       "</div>"
      ],
      "text/plain": [
       "                                                          Best Parameters  \\\n",
       "Logistic Regression     [{'C': 0.01, 'penalty': 'l2', 'solver': 'lbfgs'}]   \n",
       "Support Vector Machine  [{'C': 1.0, 'gamma': 0.03162277660168379, 'ker...   \n",
       "Decision Tree           [{'criterion': 'gini', 'max_depth': 10, 'max_f...   \n",
       "K Nearest Neighbor      [{'algorithm': 'auto', 'n_neighbors': 10, 'p':...   \n",
       "\n",
       "                       Train Accuracy Test Accuracy  \n",
       "Logistic Regression          0.846429      0.833333  \n",
       "Support Vector Machine       0.848214      0.833333  \n",
       "Decision Tree                0.876786      0.777778  \n",
       "K Nearest Neighbor           0.848214      0.833333  "
      ]
     },
     "execution_count": 36,
     "metadata": {},
     "output_type": "execute_result"
    }
   ],
   "source": [
    "df_results"
   ]
  },
  {
   "cell_type": "code",
   "execution_count": 37,
   "metadata": {},
   "outputs": [
    {
     "data": {
      "image/png": "[encoded data removed]",
      "text/plain": [
       "<Figure size 432x288 with 1 Axes>"
      ]
     },
     "metadata": {
      "needs_background": "light"
     },
     "output_type": "display_data"
    }
   ],
   "source": [
    "df_results.reset_index().plot(kind='bar',x='index',y=['Train Accuracy','Test Accuracy'],rot=10,title='Tuned Model Results', xlabel='Model', ylabel='Accuracy');\n",
    "plt.legend(loc='upper left');\n",
    "plt.ylim([0.6,0.95]);"
   ]
  },
  {
   "cell_type": "markdown",
   "metadata": {},
   "source": [
    "# Extensions"
   ]
  },
  {
   "cell_type": "markdown",
   "metadata": {},
   "source": [
    "## Improved cross-validation\n",
    "\n",
    "To determine the preferred method, we can re-run the analysis with multiple split instances.  It would also be useful to decrease the number of folds to smooth the prediction."
   ]
  },
  {
   "cell_type": "code",
   "execution_count": 38,
   "metadata": {},
   "outputs": [],
   "source": [
    "df_results.insert(3,'RKF10x10 Best Parameters',0)\n",
    "df_results.insert(4,'RKF10x10 Train Accuracy',0)\n",
    "df_results.insert(5,'RKF10x10 Test Accuracy',0)"
   ]
  },
  {
   "cell_type": "code",
   "execution_count": 39,
   "metadata": {},
   "outputs": [
    {
     "name": "stdout",
     "output_type": "stream",
     "text": [
      "LOGISTIC REGRESSION\n",
      "tuned hpyerparameters :(best parameters)  {'C': 0.01, 'penalty': 'l2', 'solver': 'lbfgs'}\n",
      "train accuracy : 0.8230357142857143\n",
      "test accuracy: 0.8333333333333334\n"
     ]
    },
    {
     "data": {
      "image/png": "[encoded data removed]",
      "text/plain": [
       "<Figure size 432x288 with 2 Axes>"
      ]
     },
     "metadata": {
      "needs_background": "light"
     },
     "output_type": "display_data"
    }
   ],
   "source": [
    "print('LOGISTIC REGRESSION')\n",
    "cv = RepeatedKFold(n_splits=10, n_repeats=10, random_state=2)\n",
    "parameters ={'C':[0.01,0.1,1],\n",
    "             'penalty':['l2'], # l1 lasso l2 ridge\n",
    "             'solver':['lbfgs'] # ‘newton-cg’, ‘lbfgs’, ‘liblinear’, ‘sag’, ‘saga’\n",
    "            }\n",
    "est=LogisticRegression()\n",
    "grid = GridSearchCV(estimator=est, param_grid=parameters, scoring=None, n_jobs=1, cv=cv)\n",
    "grid.fit(X_train,Y_train)\n",
    "print(\"tuned hpyerparameters :(best parameters) \",grid.best_params_)\n",
    "print(\"train accuracy :\",grid.best_score_)\n",
    "print(\"test accuracy:\",grid.score(X_test, Y_test))\n",
    "yhat=grid.predict(X_test)\n",
    "plot_confusion_matrix(Y_test,yhat)\n",
    "ii = 0\n",
    "df_results.iloc[ii,3] = [grid.best_params_]\n",
    "df_results.iloc[ii,4] = grid.best_score_\n",
    "df_results.iloc[ii,5] = grid.score(X_test, Y_test)"
   ]
  },
  {
   "cell_type": "code",
   "execution_count": 40,
   "metadata": {},
   "outputs": [
    {
     "name": "stdout",
     "output_type": "stream",
     "text": [
      "SUPPORT VECTOR MACHINE\n",
      "tuned hpyerparameters :(best parameters)  {'C': 1.0, 'gamma': 0.03162277660168379, 'kernel': 'sigmoid'}\n",
      "train accuracy : 0.8239285714285713\n",
      "test accuracy: 0.8333333333333334\n"
     ]
    },
    {
     "data": {
      "image/png": "[encoded data removed]",
      "text/plain": [
       "<Figure size 432x288 with 2 Axes>"
      ]
     },
     "metadata": {
      "needs_background": "light"
     },
     "output_type": "display_data"
    }
   ],
   "source": [
    "print('SUPPORT VECTOR MACHINE')\n",
    "cv = RepeatedKFold(n_splits=10, n_repeats=10, random_state=2)\n",
    "parameters = {'kernel':('linear', 'rbf','poly','rbf', 'sigmoid'),\n",
    "              'C': np.logspace(-3, 3, 5),\n",
    "              'gamma':np.logspace(-3, 3, 5)}\n",
    "est = SVC()\n",
    "grid = GridSearchCV(estimator=est, param_grid=parameters, scoring=None, n_jobs=1, cv=cv)\n",
    "grid.fit(X_train,Y_train)\n",
    "print(\"tuned hpyerparameters :(best parameters) \",grid.best_params_)\n",
    "print(\"train accuracy :\",grid.best_score_)\n",
    "print(\"test accuracy:\",grid.score(X_test, Y_test))\n",
    "yhat=grid.predict(X_test)\n",
    "plot_confusion_matrix(Y_test,yhat)\n",
    "ii = 1\n",
    "df_results.iloc[ii,3] = [grid.best_params_]\n",
    "df_results.iloc[ii,4] = grid.best_score_\n",
    "df_results.iloc[ii,5] = grid.score(X_test, Y_test)"
   ]
  },
  {
   "cell_type": "code",
   "execution_count": 41,
   "metadata": {},
   "outputs": [
    {
     "name": "stdout",
     "output_type": "stream",
     "text": [
      "DECISION TREE\n",
      "tuned hpyerparameters :(best parameters)  {'criterion': 'entropy', 'max_depth': 4, 'max_features': 'sqrt', 'min_samples_leaf': 1, 'min_samples_split': 10, 'splitter': 'random'}\n",
      "train accuracy : 0.8273214285714284\n",
      "test accuracy: 0.8333333333333334\n"
     ]
    },
    {
     "data": {
      "image/png": "[encoded data removed]",
      "text/plain": [
       "<Figure size 432x288 with 2 Axes>"
      ]
     },
     "metadata": {
      "needs_background": "light"
     },
     "output_type": "display_data"
    }
   ],
   "source": [
    "print('DECISION TREE')\n",
    "cv = RepeatedKFold(n_splits=10, n_repeats=10, random_state=2)\n",
    "parameters = {'criterion': ['gini', 'entropy'],\n",
    "     'splitter': ['best', 'random'],\n",
    "     'max_depth': [2*n for n in range(1,10)],\n",
    "     'max_features': ['auto', 'sqrt'],\n",
    "     'min_samples_leaf': [1, 2, 4],\n",
    "     'min_samples_split': [2, 5, 10]}\n",
    "est = DecisionTreeClassifier()\n",
    "grid = GridSearchCV(estimator=est, param_grid=parameters, scoring=None, n_jobs=1, cv=cv)\n",
    "grid.fit(X_train,Y_train)\n",
    "print(\"tuned hpyerparameters :(best parameters) \",grid.best_params_)\n",
    "print(\"train accuracy :\",grid.best_score_)\n",
    "print(\"test accuracy:\",grid.score(X_test, Y_test))\n",
    "yhat=grid.predict(X_test)\n",
    "plot_confusion_matrix(Y_test,yhat)\n",
    "ii = 2\n",
    "df_results.iloc[ii,3] = [grid.best_params_]\n",
    "df_results.iloc[ii,4] = grid.best_score_\n",
    "df_results.iloc[ii,5] = grid.score(X_test, Y_test)"
   ]
  },
  {
   "cell_type": "code",
   "execution_count": 42,
   "metadata": {},
   "outputs": [
    {
     "name": "stdout",
     "output_type": "stream",
     "text": [
      "K NEAREST NEIGHBORS\n",
      "tuned hpyerparameters :(best parameters)  {'algorithm': 'auto', 'n_neighbors': 9, 'p': 1}\n",
      "train accuracy : 0.8435714285714284\n",
      "test accuracy: 0.8333333333333334\n"
     ]
    },
    {
     "data": {
      "image/png": "[encoded data removed]",
      "text/plain": [
       "<Figure size 432x288 with 2 Axes>"
      ]
     },
     "metadata": {
      "needs_background": "light"
     },
     "output_type": "display_data"
    }
   ],
   "source": [
    "print('K NEAREST NEIGHBORS')\n",
    "cv = RepeatedKFold(n_splits=10, n_repeats=10, random_state=2)\n",
    "parameters = {'n_neighbors': [1, 2, 3, 4, 5, 6, 7, 8, 9, 10],\n",
    "              'algorithm': ['auto', 'ball_tree', 'kd_tree', 'brute'],\n",
    "              'p': [1,2]}\n",
    "est = KNeighborsClassifier()\n",
    "grid = GridSearchCV(estimator=est, param_grid=parameters, scoring=None, n_jobs=1, cv=cv)\n",
    "grid.fit(X_train,Y_train)\n",
    "print(\"tuned hpyerparameters :(best parameters) \",grid.best_params_)\n",
    "print(\"train accuracy :\",grid.best_score_)\n",
    "print(\"test accuracy:\",grid.score(X_test, Y_test))\n",
    "yhat=grid.predict(X_test)\n",
    "plot_confusion_matrix(Y_test,yhat)\n",
    "ii = 3\n",
    "df_results.iloc[ii,3] = [grid.best_params_]\n",
    "df_results.iloc[ii,4] = grid.best_score_\n",
    "df_results.iloc[ii,5] = grid.score(X_test, Y_test)"
   ]
  },
  {
   "cell_type": "markdown",
   "metadata": {},
   "source": [
    "Similar results are obtained with this additional cross-validation, except for the Decision Tree which has a significantly better score.  Despite the better Decision Tree score, the apparent accuracy may be due to the random state for the initial test-train split and a form of overfitting (or just luck).  Let's try with another split:"
   ]
  },
  {
   "cell_type": "code",
   "execution_count": 43,
   "metadata": {},
   "outputs": [
    {
     "data": {
      "text/html": [
       "<div>\n",
       "<style scoped>\n",
       "    .dataframe tbody tr th:only-of-type {\n",
       "        vertical-align: middle;\n",
       "    }\n",
       "\n",
       "    .dataframe tbody tr th {\n",
       "        vertical-align: top;\n",
       "    }\n",
       "\n",
       "    .dataframe thead th {\n",
       "        text-align: right;\n",
       "    }\n",
       "</style>\n",
       "<table border=\"1\" class=\"dataframe\">\n",
       "  <thead>\n",
       "    <tr style=\"text-align: right;\">\n",
       "      <th></th>\n",
       "      <th>Best Parameters</th>\n",
       "      <th>Train Accuracy</th>\n",
       "      <th>Test Accuracy</th>\n",
       "      <th>RKF10x10 Best Parameters</th>\n",
       "      <th>RKF10x10 Train Accuracy</th>\n",
       "      <th>RKF10x10 Test Accuracy</th>\n",
       "    </tr>\n",
       "  </thead>\n",
       "  <tbody>\n",
       "    <tr>\n",
       "      <th>Logistic Regression</th>\n",
       "      <td>[{'C': 0.01, 'penalty': 'l2', 'solver': 'lbfgs'}]</td>\n",
       "      <td>0.846429</td>\n",
       "      <td>0.833333</td>\n",
       "      <td>{'C': 0.01, 'penalty': 'l2', 'solver': 'lbfgs'}</td>\n",
       "      <td>0.823036</td>\n",
       "      <td>0.833333</td>\n",
       "    </tr>\n",
       "    <tr>\n",
       "      <th>Support Vector Machine</th>\n",
       "      <td>[{'C': 1.0, 'gamma': 0.03162277660168379, 'ker...</td>\n",
       "      <td>0.848214</td>\n",
       "      <td>0.833333</td>\n",
       "      <td>{'C': 1.0, 'gamma': 0.03162277660168379, 'kern...</td>\n",
       "      <td>0.823929</td>\n",
       "      <td>0.833333</td>\n",
       "    </tr>\n",
       "    <tr>\n",
       "      <th>Decision Tree</th>\n",
       "      <td>[{'criterion': 'gini', 'max_depth': 10, 'max_f...</td>\n",
       "      <td>0.876786</td>\n",
       "      <td>0.777778</td>\n",
       "      <td>{'criterion': 'entropy', 'max_depth': 4, 'max_...</td>\n",
       "      <td>0.827321</td>\n",
       "      <td>0.833333</td>\n",
       "    </tr>\n",
       "    <tr>\n",
       "      <th>K Nearest Neighbor</th>\n",
       "      <td>[{'algorithm': 'auto', 'n_neighbors': 10, 'p':...</td>\n",
       "      <td>0.848214</td>\n",
       "      <td>0.833333</td>\n",
       "      <td>{'algorithm': 'auto', 'n_neighbors': 9, 'p': 1}</td>\n",
       "      <td>0.843571</td>\n",
       "      <td>0.833333</td>\n",
       "    </tr>\n",
       "  </tbody>\n",
       "</table>\n",
       "</div>"
      ],
      "text/plain": [
       "                                                          Best Parameters  \\\n",
       "Logistic Regression     [{'C': 0.01, 'penalty': 'l2', 'solver': 'lbfgs'}]   \n",
       "Support Vector Machine  [{'C': 1.0, 'gamma': 0.03162277660168379, 'ker...   \n",
       "Decision Tree           [{'criterion': 'gini', 'max_depth': 10, 'max_f...   \n",
       "K Nearest Neighbor      [{'algorithm': 'auto', 'n_neighbors': 10, 'p':...   \n",
       "\n",
       "                       Train Accuracy Test Accuracy  \\\n",
       "Logistic Regression          0.846429      0.833333   \n",
       "Support Vector Machine       0.848214      0.833333   \n",
       "Decision Tree                0.876786      0.777778   \n",
       "K Nearest Neighbor           0.848214      0.833333   \n",
       "\n",
       "                                                 RKF10x10 Best Parameters  \\\n",
       "Logistic Regression       {'C': 0.01, 'penalty': 'l2', 'solver': 'lbfgs'}   \n",
       "Support Vector Machine  {'C': 1.0, 'gamma': 0.03162277660168379, 'kern...   \n",
       "Decision Tree           {'criterion': 'entropy', 'max_depth': 4, 'max_...   \n",
       "K Nearest Neighbor        {'algorithm': 'auto', 'n_neighbors': 9, 'p': 1}   \n",
       "\n",
       "                        RKF10x10 Train Accuracy  RKF10x10 Test Accuracy  \n",
       "Logistic Regression                    0.823036                0.833333  \n",
       "Support Vector Machine                 0.823929                0.833333  \n",
       "Decision Tree                          0.827321                0.833333  \n",
       "K Nearest Neighbor                     0.843571                0.833333  "
      ]
     },
     "execution_count": 43,
     "metadata": {},
     "output_type": "execute_result"
    }
   ],
   "source": [
    "df_results"
   ]
  },
  {
   "cell_type": "code",
   "execution_count": 44,
   "metadata": {},
   "outputs": [
    {
     "data": {
      "image/png": "[encoded data removed]",
      "text/plain": [
       "<Figure size 432x288 with 1 Axes>"
      ]
     },
     "metadata": {
      "needs_background": "light"
     },
     "output_type": "display_data"
    }
   ],
   "source": [
    "df_results.reset_index().plot(kind='bar',x='index',y=['RKF10x10 Train Accuracy','RKF10x10 Test Accuracy'],rot=10,title='Tuned Model Results', xlabel='Model', ylabel='Accuracy');\n",
    "plt.legend(loc='upper left');\n",
    "plt.ylim([0.6,0.95]);"
   ]
  },
  {
   "cell_type": "markdown",
   "metadata": {},
   "source": [
    "## Alternate Test-Train Split"
   ]
  },
  {
   "cell_type": "code",
   "execution_count": 45,
   "metadata": {},
   "outputs": [],
   "source": [
    "X_train, X_test, Y_train, Y_test = train_test_split(X, Y, test_size=0.2, random_state=0)"
   ]
  },
  {
   "cell_type": "code",
   "execution_count": 46,
   "metadata": {},
   "outputs": [],
   "source": [
    "df_results.insert(6,'TT2 RKF10x10 Best Parameters',0)\n",
    "df_results.insert(7,'TT2 RKF10x10 Train Accuracy',0)\n",
    "df_results.insert(8,'TT2 RKF10x10 Test Accuracy',0)"
   ]
  },
  {
   "cell_type": "code",
   "execution_count": 47,
   "metadata": {},
   "outputs": [
    {
     "name": "stdout",
     "output_type": "stream",
     "text": [
      "LOGISTIC REGRESSION\n",
      "tuned hpyerparameters :(best parameters)  {'C': 0.1, 'penalty': 'l2', 'solver': 'lbfgs'}\n",
      "train accuracy : 0.8174999999999997\n",
      "test accuracy: 0.8333333333333334\n"
     ]
    },
    {
     "data": {
      "image/png": "[encoded data removed]",
      "text/plain": [
       "<Figure size 432x288 with 2 Axes>"
      ]
     },
     "metadata": {
      "needs_background": "light"
     },
     "output_type": "display_data"
    }
   ],
   "source": [
    "print('LOGISTIC REGRESSION')\n",
    "cv = RepeatedKFold(n_splits=10, n_repeats=10, random_state=2)\n",
    "parameters ={'C':[0.01,0.1,1],\n",
    "             'penalty':['l2'], # l1 lasso l2 ridge\n",
    "             'solver':['lbfgs'] # ‘newton-cg’, ‘lbfgs’, ‘liblinear’, ‘sag’, ‘saga’\n",
    "            }\n",
    "est=LogisticRegression()\n",
    "grid = GridSearchCV(estimator=est, param_grid=parameters, scoring=None, n_jobs=1, cv=cv)\n",
    "grid.fit(X_train,Y_train)\n",
    "print(\"tuned hpyerparameters :(best parameters) \",grid.best_params_)\n",
    "print(\"train accuracy :\",grid.best_score_)\n",
    "print(\"test accuracy:\",grid.score(X_test, Y_test))\n",
    "yhat=grid.predict(X_test)\n",
    "plot_confusion_matrix(Y_test,yhat)\n",
    "ii = 0\n",
    "df_results.iloc[ii,6] = [grid.best_params_]\n",
    "df_results.iloc[ii,7] = grid.best_score_\n",
    "df_results.iloc[ii,8] = grid.score(X_test, Y_test)"
   ]
  },
  {
   "cell_type": "code",
   "execution_count": 48,
   "metadata": {},
   "outputs": [
    {
     "name": "stdout",
     "output_type": "stream",
     "text": [
      "SUPPORT VECTOR MACHINE\n",
      "tuned hpyerparameters :(best parameters)  {'C': 1.0, 'gamma': 0.03162277660168379, 'kernel': 'sigmoid'}\n",
      "train accuracy : 0.8432142857142858\n",
      "test accuracy: 0.8333333333333334\n"
     ]
    },
    {
     "data": {
      "image/png": "[encoded data removed]",
      "text/plain": [
       "<Figure size 432x288 with 2 Axes>"
      ]
     },
     "metadata": {
      "needs_background": "light"
     },
     "output_type": "display_data"
    }
   ],
   "source": [
    "print('SUPPORT VECTOR MACHINE')\n",
    "cv = RepeatedKFold(n_splits=10, n_repeats=10, random_state=2)\n",
    "parameters = {'kernel':('linear', 'rbf','poly','rbf', 'sigmoid'),\n",
    "              'C': np.logspace(-3, 3, 5),\n",
    "              'gamma':np.logspace(-3, 3, 5)}\n",
    "est = SVC()\n",
    "grid = GridSearchCV(estimator=est, param_grid=parameters, scoring=None, n_jobs=1, cv=cv)\n",
    "grid.fit(X_train,Y_train)\n",
    "print(\"tuned hpyerparameters :(best parameters) \",grid.best_params_)\n",
    "print(\"train accuracy :\",grid.best_score_)\n",
    "print(\"test accuracy:\",grid.score(X_test, Y_test))\n",
    "yhat=grid.predict(X_test)\n",
    "plot_confusion_matrix(Y_test,yhat)\n",
    "ii = 1\n",
    "df_results.iloc[ii,6] = [grid.best_params_]\n",
    "df_results.iloc[ii,7] = grid.best_score_\n",
    "df_results.iloc[ii,8] = grid.score(X_test, Y_test)"
   ]
  },
  {
   "cell_type": "code",
   "execution_count": 49,
   "metadata": {},
   "outputs": [
    {
     "name": "stdout",
     "output_type": "stream",
     "text": [
      "DECISION TREE\n",
      "tuned hpyerparameters :(best parameters)  {'criterion': 'entropy', 'max_depth': 4, 'max_features': 'auto', 'min_samples_leaf': 2, 'min_samples_split': 10, 'splitter': 'best'}\n",
      "train accuracy : 0.8533928571428572\n",
      "test accuracy: 0.8333333333333334\n"
     ]
    },
    {
     "data": {
      "image/png": "[encoded data removed]",
      "text/plain": [
       "<Figure size 432x288 with 2 Axes>"
      ]
     },
     "metadata": {
      "needs_background": "light"
     },
     "output_type": "display_data"
    }
   ],
   "source": [
    "print('DECISION TREE')\n",
    "cv = RepeatedKFold(n_splits=10, n_repeats=10, random_state=2)\n",
    "parameters = {'criterion': ['gini', 'entropy'],\n",
    "     'splitter': ['best', 'random'],\n",
    "     'max_depth': [2*n for n in range(1,10)],\n",
    "     'max_features': ['auto', 'sqrt'],\n",
    "     'min_samples_leaf': [1, 2, 4],\n",
    "     'min_samples_split': [2, 5, 10]}\n",
    "est = DecisionTreeClassifier()\n",
    "grid = GridSearchCV(estimator=est, param_grid=parameters, scoring=None, n_jobs=1, cv=cv)\n",
    "grid.fit(X_train,Y_train)\n",
    "print(\"tuned hpyerparameters :(best parameters) \",grid.best_params_)\n",
    "print(\"train accuracy :\",grid.best_score_)\n",
    "print(\"test accuracy:\",grid.score(X_test, Y_test))\n",
    "yhat=grid.predict(X_test)\n",
    "plot_confusion_matrix(Y_test,yhat)\n",
    "ii = 2\n",
    "df_results.iloc[ii,6] = [grid.best_params_]\n",
    "df_results.iloc[ii,7] = grid.best_score_\n",
    "df_results.iloc[ii,8] = grid.score(X_test, Y_test)"
   ]
  },
  {
   "cell_type": "code",
   "execution_count": 50,
   "metadata": {},
   "outputs": [
    {
     "name": "stdout",
     "output_type": "stream",
     "text": [
      "K NEAREST NEIGHBORS\n",
      "tuned hpyerparameters :(best parameters)  {'algorithm': 'auto', 'n_neighbors': 5, 'p': 1}\n",
      "train accuracy : 0.8505357142857142\n",
      "test accuracy: 0.7777777777777778\n"
     ]
    },
    {
     "data": {
      "image/png": "[encoded data removed]",
      "text/plain": [
       "<Figure size 432x288 with 2 Axes>"
      ]
     },
     "metadata": {
      "needs_background": "light"
     },
     "output_type": "display_data"
    }
   ],
   "source": [
    "print('K NEAREST NEIGHBORS')\n",
    "cv = RepeatedKFold(n_splits=10, n_repeats=10, random_state=2)\n",
    "parameters = {'n_neighbors': [1, 2, 3, 4, 5, 6, 7, 8, 9, 10],\n",
    "              'algorithm': ['auto', 'ball_tree', 'kd_tree', 'brute'],\n",
    "              'p': [1,2]}\n",
    "est = KNeighborsClassifier()\n",
    "grid = GridSearchCV(estimator=est, param_grid=parameters, scoring=None, n_jobs=1, cv=cv)\n",
    "grid.fit(X_train,Y_train)\n",
    "print(\"tuned hpyerparameters :(best parameters) \",grid.best_params_)\n",
    "print(\"train accuracy :\",grid.best_score_)\n",
    "print(\"test accuracy:\",grid.score(X_test, Y_test))\n",
    "yhat=grid.predict(X_test)\n",
    "plot_confusion_matrix(Y_test,yhat)\n",
    "ii = 3\n",
    "df_results.iloc[ii,6] = [grid.best_params_]\n",
    "df_results.iloc[ii,7] = grid.best_score_\n",
    "df_results.iloc[ii,8] = grid.score(X_test, Y_test)"
   ]
  },
  {
   "cell_type": "markdown",
   "metadata": {},
   "source": [
    "This time Decision Tree is worse, indicating overfitting.\n",
    "\n",
    "Either Logistic Regression or Support Vector Machine is our current choice for model, with slight preference for Support Vector Machine with a higher cross-validation training accuracy score."
   ]
  },
  {
   "cell_type": "code",
   "execution_count": 51,
   "metadata": {},
   "outputs": [
    {
     "data": {
      "text/html": [
       "<div>\n",
       "<style scoped>\n",
       "    .dataframe tbody tr th:only-of-type {\n",
       "        vertical-align: middle;\n",
       "    }\n",
       "\n",
       "    .dataframe tbody tr th {\n",
       "        vertical-align: top;\n",
       "    }\n",
       "\n",
       "    .dataframe thead th {\n",
       "        text-align: right;\n",
       "    }\n",
       "</style>\n",
       "<table border=\"1\" class=\"dataframe\">\n",
       "  <thead>\n",
       "    <tr style=\"text-align: right;\">\n",
       "      <th></th>\n",
       "      <th>Best Parameters</th>\n",
       "      <th>Train Accuracy</th>\n",
       "      <th>Test Accuracy</th>\n",
       "      <th>RKF10x10 Best Parameters</th>\n",
       "      <th>RKF10x10 Train Accuracy</th>\n",
       "      <th>RKF10x10 Test Accuracy</th>\n",
       "      <th>TT2 RKF10x10 Best Parameters</th>\n",
       "      <th>TT2 RKF10x10 Train Accuracy</th>\n",
       "      <th>TT2 RKF10x10 Test Accuracy</th>\n",
       "    </tr>\n",
       "  </thead>\n",
       "  <tbody>\n",
       "    <tr>\n",
       "      <th>Logistic Regression</th>\n",
       "      <td>[{'C': 0.01, 'penalty': 'l2', 'solver': 'lbfgs'}]</td>\n",
       "      <td>0.846429</td>\n",
       "      <td>0.833333</td>\n",
       "      <td>{'C': 0.01, 'penalty': 'l2', 'solver': 'lbfgs'}</td>\n",
       "      <td>0.823036</td>\n",
       "      <td>0.833333</td>\n",
       "      <td>{'C': 0.1, 'penalty': 'l2', 'solver': 'lbfgs'}</td>\n",
       "      <td>0.817500</td>\n",
       "      <td>0.833333</td>\n",
       "    </tr>\n",
       "    <tr>\n",
       "      <th>Support Vector Machine</th>\n",
       "      <td>[{'C': 1.0, 'gamma': 0.03162277660168379, 'ker...</td>\n",
       "      <td>0.848214</td>\n",
       "      <td>0.833333</td>\n",
       "      <td>{'C': 1.0, 'gamma': 0.03162277660168379, 'kern...</td>\n",
       "      <td>0.823929</td>\n",
       "      <td>0.833333</td>\n",
       "      <td>{'C': 1.0, 'gamma': 0.03162277660168379, 'kern...</td>\n",
       "      <td>0.843214</td>\n",
       "      <td>0.833333</td>\n",
       "    </tr>\n",
       "    <tr>\n",
       "      <th>Decision Tree</th>\n",
       "      <td>[{'criterion': 'gini', 'max_depth': 10, 'max_f...</td>\n",
       "      <td>0.876786</td>\n",
       "      <td>0.777778</td>\n",
       "      <td>{'criterion': 'entropy', 'max_depth': 4, 'max_...</td>\n",
       "      <td>0.827321</td>\n",
       "      <td>0.833333</td>\n",
       "      <td>{'criterion': 'entropy', 'max_depth': 4, 'max_...</td>\n",
       "      <td>0.853393</td>\n",
       "      <td>0.833333</td>\n",
       "    </tr>\n",
       "    <tr>\n",
       "      <th>K Nearest Neighbor</th>\n",
       "      <td>[{'algorithm': 'auto', 'n_neighbors': 10, 'p':...</td>\n",
       "      <td>0.848214</td>\n",
       "      <td>0.833333</td>\n",
       "      <td>{'algorithm': 'auto', 'n_neighbors': 9, 'p': 1}</td>\n",
       "      <td>0.843571</td>\n",
       "      <td>0.833333</td>\n",
       "      <td>{'algorithm': 'auto', 'n_neighbors': 5, 'p': 1}</td>\n",
       "      <td>0.850536</td>\n",
       "      <td>0.777778</td>\n",
       "    </tr>\n",
       "  </tbody>\n",
       "</table>\n",
       "</div>"
      ],
      "text/plain": [
       "                                                          Best Parameters  \\\n",
       "Logistic Regression     [{'C': 0.01, 'penalty': 'l2', 'solver': 'lbfgs'}]   \n",
       "Support Vector Machine  [{'C': 1.0, 'gamma': 0.03162277660168379, 'ker...   \n",
       "Decision Tree           [{'criterion': 'gini', 'max_depth': 10, 'max_f...   \n",
       "K Nearest Neighbor      [{'algorithm': 'auto', 'n_neighbors': 10, 'p':...   \n",
       "\n",
       "                       Train Accuracy Test Accuracy  \\\n",
       "Logistic Regression          0.846429      0.833333   \n",
       "Support Vector Machine       0.848214      0.833333   \n",
       "Decision Tree                0.876786      0.777778   \n",
       "K Nearest Neighbor           0.848214      0.833333   \n",
       "\n",
       "                                                 RKF10x10 Best Parameters  \\\n",
       "Logistic Regression       {'C': 0.01, 'penalty': 'l2', 'solver': 'lbfgs'}   \n",
       "Support Vector Machine  {'C': 1.0, 'gamma': 0.03162277660168379, 'kern...   \n",
       "Decision Tree           {'criterion': 'entropy', 'max_depth': 4, 'max_...   \n",
       "K Nearest Neighbor        {'algorithm': 'auto', 'n_neighbors': 9, 'p': 1}   \n",
       "\n",
       "                        RKF10x10 Train Accuracy  RKF10x10 Test Accuracy  \\\n",
       "Logistic Regression                    0.823036                0.833333   \n",
       "Support Vector Machine                 0.823929                0.833333   \n",
       "Decision Tree                          0.827321                0.833333   \n",
       "K Nearest Neighbor                     0.843571                0.833333   \n",
       "\n",
       "                                             TT2 RKF10x10 Best Parameters  \\\n",
       "Logistic Regression        {'C': 0.1, 'penalty': 'l2', 'solver': 'lbfgs'}   \n",
       "Support Vector Machine  {'C': 1.0, 'gamma': 0.03162277660168379, 'kern...   \n",
       "Decision Tree           {'criterion': 'entropy', 'max_depth': 4, 'max_...   \n",
       "K Nearest Neighbor        {'algorithm': 'auto', 'n_neighbors': 5, 'p': 1}   \n",
       "\n",
       "                        TT2 RKF10x10 Train Accuracy  \\\n",
       "Logistic Regression                        0.817500   \n",
       "Support Vector Machine                     0.843214   \n",
       "Decision Tree                              0.853393   \n",
       "K Nearest Neighbor                         0.850536   \n",
       "\n",
       "                        TT2 RKF10x10 Test Accuracy  \n",
       "Logistic Regression                       0.833333  \n",
       "Support Vector Machine                    0.833333  \n",
       "Decision Tree                             0.833333  \n",
       "K Nearest Neighbor                        0.777778  "
      ]
     },
     "execution_count": 51,
     "metadata": {},
     "output_type": "execute_result"
    }
   ],
   "source": [
    "df_results"
   ]
  },
  {
   "cell_type": "code",
   "execution_count": 52,
   "metadata": {},
   "outputs": [
    {
     "data": {
      "image/png": "[encoded data removed]",
      "text/plain": [
       "<Figure size 432x288 with 1 Axes>"
      ]
     },
     "metadata": {
      "needs_background": "light"
     },
     "output_type": "display_data"
    }
   ],
   "source": [
    "df_results.reset_index().plot(kind='bar',x='index',y=['TT2 RKF10x10 Train Accuracy','TT2 RKF10x10 Test Accuracy'],rot=10,title='Tuned Model Results', xlabel='Model', ylabel='Accuracy');\n",
    "plt.legend(loc='upper left');\n",
    "plt.ylim([0.6,0.95]);"
   ]
  },
  {
   "cell_type": "markdown",
   "metadata": {},
   "source": [
    "## Feature Importance"
   ]
  },
  {
   "cell_type": "markdown",
   "metadata": {},
   "source": [
    "Not all of the 83 features are likely to be of equal importance.  There are several ways we can narrow down the number of features considered:\n",
    "* Calculate f-values and for each feature and take only the most predictive\n",
    "* Perform principal component analysis and retain only those features that explain the most variance"
   ]
  },
  {
   "cell_type": "markdown",
   "metadata": {},
   "source": [
    "### Principal Component Analysis"
   ]
  },
  {
   "cell_type": "markdown",
   "metadata": {},
   "source": [
    "One appealing feature of principal component analysis is that it implicitly consolidates covariation among features."
   ]
  },
  {
   "cell_type": "code",
   "execution_count": 53,
   "metadata": {},
   "outputs": [
    {
     "data": {
      "text/html": [
       "<div>\n",
       "<style scoped>\n",
       "    .dataframe tbody tr th:only-of-type {\n",
       "        vertical-align: middle;\n",
       "    }\n",
       "\n",
       "    .dataframe tbody tr th {\n",
       "        vertical-align: top;\n",
       "    }\n",
       "\n",
       "    .dataframe thead th {\n",
       "        text-align: right;\n",
       "    }\n",
       "</style>\n",
       "<table border=\"1\" class=\"dataframe\">\n",
       "  <thead>\n",
       "    <tr style=\"text-align: right;\">\n",
       "      <th></th>\n",
       "      <th>0</th>\n",
       "      <th>1</th>\n",
       "      <th>2</th>\n",
       "      <th>3</th>\n",
       "      <th>4</th>\n",
       "      <th>5</th>\n",
       "      <th>6</th>\n",
       "      <th>7</th>\n",
       "      <th>8</th>\n",
       "      <th>9</th>\n",
       "      <th>...</th>\n",
       "      <th>73</th>\n",
       "      <th>74</th>\n",
       "      <th>75</th>\n",
       "      <th>76</th>\n",
       "      <th>77</th>\n",
       "      <th>78</th>\n",
       "      <th>79</th>\n",
       "      <th>80</th>\n",
       "      <th>81</th>\n",
       "      <th>82</th>\n",
       "    </tr>\n",
       "  </thead>\n",
       "  <tbody>\n",
       "    <tr>\n",
       "      <th>0</th>\n",
       "      <td>-4.909343</td>\n",
       "      <td>2.102922</td>\n",
       "      <td>0.215068</td>\n",
       "      <td>-1.788056</td>\n",
       "      <td>-0.332740</td>\n",
       "      <td>-1.363432</td>\n",
       "      <td>-3.117420</td>\n",
       "      <td>1.335301</td>\n",
       "      <td>-1.139545</td>\n",
       "      <td>-1.660355</td>\n",
       "      <td>...</td>\n",
       "      <td>1.959370e-16</td>\n",
       "      <td>-1.158928e-16</td>\n",
       "      <td>-7.965953e-17</td>\n",
       "      <td>1.845706e-16</td>\n",
       "      <td>-1.404906e-17</td>\n",
       "      <td>2.625437e-18</td>\n",
       "      <td>-5.310933e-17</td>\n",
       "      <td>2.790360e-17</td>\n",
       "      <td>-6.294229e-17</td>\n",
       "      <td>3.115643e-17</td>\n",
       "    </tr>\n",
       "    <tr>\n",
       "      <th>1</th>\n",
       "      <td>-5.231096</td>\n",
       "      <td>1.823497</td>\n",
       "      <td>0.184240</td>\n",
       "      <td>-2.016151</td>\n",
       "      <td>-0.151100</td>\n",
       "      <td>-1.251304</td>\n",
       "      <td>-2.532254</td>\n",
       "      <td>1.586292</td>\n",
       "      <td>-1.160700</td>\n",
       "      <td>-1.459627</td>\n",
       "      <td>...</td>\n",
       "      <td>1.959370e-16</td>\n",
       "      <td>-1.158928e-16</td>\n",
       "      <td>-7.965953e-17</td>\n",
       "      <td>1.845706e-16</td>\n",
       "      <td>-1.404906e-17</td>\n",
       "      <td>2.625437e-18</td>\n",
       "      <td>-5.310933e-17</td>\n",
       "      <td>2.790360e-17</td>\n",
       "      <td>-6.294229e-17</td>\n",
       "      <td>3.115643e-17</td>\n",
       "    </tr>\n",
       "    <tr>\n",
       "      <th>2</th>\n",
       "      <td>-4.945914</td>\n",
       "      <td>1.524776</td>\n",
       "      <td>-0.183703</td>\n",
       "      <td>-1.962335</td>\n",
       "      <td>-0.694782</td>\n",
       "      <td>1.357545</td>\n",
       "      <td>0.094652</td>\n",
       "      <td>-1.054539</td>\n",
       "      <td>0.471459</td>\n",
       "      <td>1.117323</td>\n",
       "      <td>...</td>\n",
       "      <td>1.959370e-16</td>\n",
       "      <td>-1.158928e-16</td>\n",
       "      <td>-7.965953e-17</td>\n",
       "      <td>1.845706e-16</td>\n",
       "      <td>-1.404906e-17</td>\n",
       "      <td>2.625437e-18</td>\n",
       "      <td>-5.310933e-17</td>\n",
       "      <td>2.790360e-17</td>\n",
       "      <td>-6.294229e-17</td>\n",
       "      <td>3.115643e-17</td>\n",
       "    </tr>\n",
       "    <tr>\n",
       "      <th>3</th>\n",
       "      <td>-4.489703</td>\n",
       "      <td>1.080003</td>\n",
       "      <td>4.872438</td>\n",
       "      <td>0.012778</td>\n",
       "      <td>-0.175761</td>\n",
       "      <td>0.664685</td>\n",
       "      <td>-0.970878</td>\n",
       "      <td>-1.031542</td>\n",
       "      <td>0.210331</td>\n",
       "      <td>1.146135</td>\n",
       "      <td>...</td>\n",
       "      <td>1.959370e-16</td>\n",
       "      <td>-1.158928e-16</td>\n",
       "      <td>-7.965953e-17</td>\n",
       "      <td>1.845706e-16</td>\n",
       "      <td>-1.404906e-17</td>\n",
       "      <td>2.625437e-18</td>\n",
       "      <td>-5.310933e-17</td>\n",
       "      <td>2.790360e-17</td>\n",
       "      <td>-6.294229e-17</td>\n",
       "      <td>3.115643e-17</td>\n",
       "    </tr>\n",
       "    <tr>\n",
       "      <th>4</th>\n",
       "      <td>-4.866301</td>\n",
       "      <td>2.656031</td>\n",
       "      <td>0.124340</td>\n",
       "      <td>0.446506</td>\n",
       "      <td>-0.757102</td>\n",
       "      <td>0.826351</td>\n",
       "      <td>0.047929</td>\n",
       "      <td>0.594808</td>\n",
       "      <td>-0.607095</td>\n",
       "      <td>0.273395</td>\n",
       "      <td>...</td>\n",
       "      <td>1.959370e-16</td>\n",
       "      <td>-1.158928e-16</td>\n",
       "      <td>-7.965953e-17</td>\n",
       "      <td>1.845706e-16</td>\n",
       "      <td>-1.404906e-17</td>\n",
       "      <td>2.625437e-18</td>\n",
       "      <td>-5.310933e-17</td>\n",
       "      <td>2.790360e-17</td>\n",
       "      <td>-6.294229e-17</td>\n",
       "      <td>3.115643e-17</td>\n",
       "    </tr>\n",
       "    <tr>\n",
       "      <th>...</th>\n",
       "      <td>...</td>\n",
       "      <td>...</td>\n",
       "      <td>...</td>\n",
       "      <td>...</td>\n",
       "      <td>...</td>\n",
       "      <td>...</td>\n",
       "      <td>...</td>\n",
       "      <td>...</td>\n",
       "      <td>...</td>\n",
       "      <td>...</td>\n",
       "      <td>...</td>\n",
       "      <td>...</td>\n",
       "      <td>...</td>\n",
       "      <td>...</td>\n",
       "      <td>...</td>\n",
       "      <td>...</td>\n",
       "      <td>...</td>\n",
       "      <td>...</td>\n",
       "      <td>...</td>\n",
       "      <td>...</td>\n",
       "      <td>...</td>\n",
       "    </tr>\n",
       "    <tr>\n",
       "      <th>85</th>\n",
       "      <td>3.820074</td>\n",
       "      <td>1.302023</td>\n",
       "      <td>-0.609078</td>\n",
       "      <td>0.961651</td>\n",
       "      <td>0.027758</td>\n",
       "      <td>-1.341097</td>\n",
       "      <td>-0.650355</td>\n",
       "      <td>-1.228095</td>\n",
       "      <td>1.045781</td>\n",
       "      <td>-1.179363</td>\n",
       "      <td>...</td>\n",
       "      <td>-5.469054e-16</td>\n",
       "      <td>-3.848663e-16</td>\n",
       "      <td>-1.280126e-16</td>\n",
       "      <td>4.752837e-16</td>\n",
       "      <td>-2.010211e-17</td>\n",
       "      <td>6.322834e-16</td>\n",
       "      <td>2.085512e-16</td>\n",
       "      <td>-2.310937e-16</td>\n",
       "      <td>1.945347e-16</td>\n",
       "      <td>-7.698012e-18</td>\n",
       "    </tr>\n",
       "    <tr>\n",
       "      <th>86</th>\n",
       "      <td>4.033917</td>\n",
       "      <td>1.412252</td>\n",
       "      <td>-0.751568</td>\n",
       "      <td>1.017746</td>\n",
       "      <td>0.814609</td>\n",
       "      <td>-0.687432</td>\n",
       "      <td>-0.899839</td>\n",
       "      <td>-1.494563</td>\n",
       "      <td>1.399952</td>\n",
       "      <td>-0.246326</td>\n",
       "      <td>...</td>\n",
       "      <td>-4.552631e-16</td>\n",
       "      <td>3.118719e-16</td>\n",
       "      <td>-1.369304e-16</td>\n",
       "      <td>-6.407865e-17</td>\n",
       "      <td>-1.530202e-17</td>\n",
       "      <td>7.348105e-16</td>\n",
       "      <td>-3.460559e-16</td>\n",
       "      <td>-1.595565e-16</td>\n",
       "      <td>-1.466790e-16</td>\n",
       "      <td>4.707545e-16</td>\n",
       "    </tr>\n",
       "    <tr>\n",
       "      <th>87</th>\n",
       "      <td>5.402497</td>\n",
       "      <td>2.363366</td>\n",
       "      <td>-0.630134</td>\n",
       "      <td>0.360010</td>\n",
       "      <td>1.115612</td>\n",
       "      <td>0.636320</td>\n",
       "      <td>-1.211306</td>\n",
       "      <td>-0.301518</td>\n",
       "      <td>0.557947</td>\n",
       "      <td>-1.235797</td>\n",
       "      <td>...</td>\n",
       "      <td>4.293759e-15</td>\n",
       "      <td>-7.768868e-16</td>\n",
       "      <td>4.351721e-16</td>\n",
       "      <td>8.491562e-17</td>\n",
       "      <td>-2.703211e-17</td>\n",
       "      <td>2.957693e-16</td>\n",
       "      <td>-5.472707e-17</td>\n",
       "      <td>-6.142414e-16</td>\n",
       "      <td>-3.052691e-16</td>\n",
       "      <td>-3.938479e-17</td>\n",
       "    </tr>\n",
       "    <tr>\n",
       "      <th>88</th>\n",
       "      <td>3.662205</td>\n",
       "      <td>0.979466</td>\n",
       "      <td>0.381161</td>\n",
       "      <td>-0.596499</td>\n",
       "      <td>-2.289190</td>\n",
       "      <td>-1.549295</td>\n",
       "      <td>-0.868769</td>\n",
       "      <td>-0.854964</td>\n",
       "      <td>0.691212</td>\n",
       "      <td>-0.731205</td>\n",
       "      <td>...</td>\n",
       "      <td>9.387795e-16</td>\n",
       "      <td>1.530806e-16</td>\n",
       "      <td>-3.130650e-17</td>\n",
       "      <td>-1.061425e-16</td>\n",
       "      <td>-7.996004e-18</td>\n",
       "      <td>-6.270325e-16</td>\n",
       "      <td>-3.147699e-16</td>\n",
       "      <td>2.869009e-16</td>\n",
       "      <td>-3.204193e-16</td>\n",
       "      <td>7.001088e-17</td>\n",
       "    </tr>\n",
       "    <tr>\n",
       "      <th>89</th>\n",
       "      <td>0.340493</td>\n",
       "      <td>-1.051653</td>\n",
       "      <td>-1.466278</td>\n",
       "      <td>0.608016</td>\n",
       "      <td>-3.296765</td>\n",
       "      <td>-4.999559</td>\n",
       "      <td>4.742652</td>\n",
       "      <td>-0.954793</td>\n",
       "      <td>0.541567</td>\n",
       "      <td>-2.701182</td>\n",
       "      <td>...</td>\n",
       "      <td>1.959370e-16</td>\n",
       "      <td>-1.158928e-16</td>\n",
       "      <td>-7.965953e-17</td>\n",
       "      <td>1.845706e-16</td>\n",
       "      <td>-1.404906e-17</td>\n",
       "      <td>2.625437e-18</td>\n",
       "      <td>-5.310933e-17</td>\n",
       "      <td>2.790360e-17</td>\n",
       "      <td>-6.294229e-17</td>\n",
       "      <td>3.115643e-17</td>\n",
       "    </tr>\n",
       "  </tbody>\n",
       "</table>\n",
       "<p>90 rows × 83 columns</p>\n",
       "</div>"
      ],
      "text/plain": [
       "          0         1         2         3         4         5         6   \\\n",
       "0  -4.909343  2.102922  0.215068 -1.788056 -0.332740 -1.363432 -3.117420   \n",
       "1  -5.231096  1.823497  0.184240 -2.016151 -0.151100 -1.251304 -2.532254   \n",
       "2  -4.945914  1.524776 -0.183703 -1.962335 -0.694782  1.357545  0.094652   \n",
       "3  -4.489703  1.080003  4.872438  0.012778 -0.175761  0.664685 -0.970878   \n",
       "4  -4.866301  2.656031  0.124340  0.446506 -0.757102  0.826351  0.047929   \n",
       "..       ...       ...       ...       ...       ...       ...       ...   \n",
       "85  3.820074  1.302023 -0.609078  0.961651  0.027758 -1.341097 -0.650355   \n",
       "86  4.033917  1.412252 -0.751568  1.017746  0.814609 -0.687432 -0.899839   \n",
       "87  5.402497  2.363366 -0.630134  0.360010  1.115612  0.636320 -1.211306   \n",
       "88  3.662205  0.979466  0.381161 -0.596499 -2.289190 -1.549295 -0.868769   \n",
       "89  0.340493 -1.051653 -1.466278  0.608016 -3.296765 -4.999559  4.742652   \n",
       "\n",
       "          7         8         9   ...            73            74  \\\n",
       "0   1.335301 -1.139545 -1.660355  ...  1.959370e-16 -1.158928e-16   \n",
       "1   1.586292 -1.160700 -1.459627  ...  1.959370e-16 -1.158928e-16   \n",
       "2  -1.054539  0.471459  1.117323  ...  1.959370e-16 -1.158928e-16   \n",
       "3  -1.031542  0.210331  1.146135  ...  1.959370e-16 -1.158928e-16   \n",
       "4   0.594808 -0.607095  0.273395  ...  1.959370e-16 -1.158928e-16   \n",
       "..       ...       ...       ...  ...           ...           ...   \n",
       "85 -1.228095  1.045781 -1.179363  ... -5.469054e-16 -3.848663e-16   \n",
       "86 -1.494563  1.399952 -0.246326  ... -4.552631e-16  3.118719e-16   \n",
       "87 -0.301518  0.557947 -1.235797  ...  4.293759e-15 -7.768868e-16   \n",
       "88 -0.854964  0.691212 -0.731205  ...  9.387795e-16  1.530806e-16   \n",
       "89 -0.954793  0.541567 -2.701182  ...  1.959370e-16 -1.158928e-16   \n",
       "\n",
       "              75            76            77            78            79  \\\n",
       "0  -7.965953e-17  1.845706e-16 -1.404906e-17  2.625437e-18 -5.310933e-17   \n",
       "1  -7.965953e-17  1.845706e-16 -1.404906e-17  2.625437e-18 -5.310933e-17   \n",
       "2  -7.965953e-17  1.845706e-16 -1.404906e-17  2.625437e-18 -5.310933e-17   \n",
       "3  -7.965953e-17  1.845706e-16 -1.404906e-17  2.625437e-18 -5.310933e-17   \n",
       "4  -7.965953e-17  1.845706e-16 -1.404906e-17  2.625437e-18 -5.310933e-17   \n",
       "..           ...           ...           ...           ...           ...   \n",
       "85 -1.280126e-16  4.752837e-16 -2.010211e-17  6.322834e-16  2.085512e-16   \n",
       "86 -1.369304e-16 -6.407865e-17 -1.530202e-17  7.348105e-16 -3.460559e-16   \n",
       "87  4.351721e-16  8.491562e-17 -2.703211e-17  2.957693e-16 -5.472707e-17   \n",
       "88 -3.130650e-17 -1.061425e-16 -7.996004e-18 -6.270325e-16 -3.147699e-16   \n",
       "89 -7.965953e-17  1.845706e-16 -1.404906e-17  2.625437e-18 -5.310933e-17   \n",
       "\n",
       "              80            81            82  \n",
       "0   2.790360e-17 -6.294229e-17  3.115643e-17  \n",
       "1   2.790360e-17 -6.294229e-17  3.115643e-17  \n",
       "2   2.790360e-17 -6.294229e-17  3.115643e-17  \n",
       "3   2.790360e-17 -6.294229e-17  3.115643e-17  \n",
       "4   2.790360e-17 -6.294229e-17  3.115643e-17  \n",
       "..           ...           ...           ...  \n",
       "85 -2.310937e-16  1.945347e-16 -7.698012e-18  \n",
       "86 -1.595565e-16 -1.466790e-16  4.707545e-16  \n",
       "87 -6.142414e-16 -3.052691e-16 -3.938479e-17  \n",
       "88  2.869009e-16 -3.204193e-16  7.001088e-17  \n",
       "89  2.790360e-17 -6.294229e-17  3.115643e-17  \n",
       "\n",
       "[90 rows x 83 columns]"
      ]
     },
     "execution_count": 53,
     "metadata": {},
     "output_type": "execute_result"
    }
   ],
   "source": [
    "pca = sklearn.decomposition.PCA(random_state=0)\n",
    "orig_features = X\n",
    "new_features = pca.fit_transform(orig_features)\n",
    "X2 = pd.DataFrame(new_features)\n",
    "X2"
   ]
  },
  {
   "cell_type": "markdown",
   "metadata": {},
   "source": [
    "We plot the cumulative explained variance normalized by the total explained variance as a function of how many components are included:"
   ]
  },
  {
   "cell_type": "code",
   "execution_count": 54,
   "metadata": {},
   "outputs": [
    {
     "data": {
      "image/png": "[encoded data removed]",
      "text/plain": [
       "<Figure size 432x288 with 1 Axes>"
      ]
     },
     "metadata": {
      "needs_background": "light"
     },
     "output_type": "display_data"
    }
   ],
   "source": [
    "plt.plot([1+x for x in range(len(pca.explained_variance_ratio_))],np.cumsum(pca.explained_variance_ratio_) * 100,marker='o')\n",
    "plt.xlabel('Component Number')\n",
    "plt.ylabel('Explained Variance Ratio [%]');"
   ]
  },
  {
   "cell_type": "markdown",
   "metadata": {},
   "source": [
    "The knee of decreasing marginal explained variance increase is at 55-60 components.  We re-run the analysis first for all components:"
   ]
  },
  {
   "cell_type": "code",
   "execution_count": 55,
   "metadata": {},
   "outputs": [],
   "source": [
    "X_train, X_test, Y_train, Y_test = train_test_split(X2, Y, test_size=0.2, random_state=2)"
   ]
  },
  {
   "cell_type": "code",
   "execution_count": 56,
   "metadata": {},
   "outputs": [],
   "source": [
    "df_results.insert(9,'PCA RKF10x10 Best Parameters',0)\n",
    "df_results.insert(10,'PCA RKF10x10 Train Accuracy',0)\n",
    "df_results.insert(11,'PCA RKF10x10 Test Accuracy',0)"
   ]
  },
  {
   "cell_type": "code",
   "execution_count": 57,
   "metadata": {},
   "outputs": [
    {
     "name": "stdout",
     "output_type": "stream",
     "text": [
      "LOGISTIC REGRESSION\n",
      "tuned hpyerparameters :(best parameters)  {'C': 0.01, 'penalty': 'l2', 'solver': 'lbfgs'}\n",
      "train accuracy : 0.8230357142857143\n",
      "test accuracy: 0.8333333333333334\n"
     ]
    },
    {
     "data": {
      "image/png": "[encoded data removed]",
      "text/plain": [
       "<Figure size 432x288 with 2 Axes>"
      ]
     },
     "metadata": {
      "needs_background": "light"
     },
     "output_type": "display_data"
    }
   ],
   "source": [
    "print('LOGISTIC REGRESSION')\n",
    "cv = RepeatedKFold(n_splits=10, n_repeats=10, random_state=2)\n",
    "parameters ={'C':[0.01,0.1,1],\n",
    "             'penalty':['l2'], # l1 lasso l2 ridge\n",
    "             'solver':['lbfgs'] # ‘newton-cg’, ‘lbfgs’, ‘liblinear’, ‘sag’, ‘saga’\n",
    "            }\n",
    "est=LogisticRegression()\n",
    "grid = GridSearchCV(estimator=est, param_grid=parameters, scoring=None, n_jobs=1, cv=cv)\n",
    "grid.fit(X_train,Y_train)\n",
    "print(\"tuned hpyerparameters :(best parameters) \",grid.best_params_)\n",
    "print(\"train accuracy :\",grid.best_score_)\n",
    "print(\"test accuracy:\",grid.score(X_test, Y_test))\n",
    "yhat=grid.predict(X_test)\n",
    "plot_confusion_matrix(Y_test,yhat)\n",
    "ii = 0\n",
    "df_results.iloc[ii,9] = [grid.best_params_]\n",
    "df_results.iloc[ii,10] = grid.best_score_\n",
    "df_results.iloc[ii,11] = grid.score(X_test, Y_test)"
   ]
  },
  {
   "cell_type": "code",
   "execution_count": 58,
   "metadata": {},
   "outputs": [
    {
     "name": "stdout",
     "output_type": "stream",
     "text": [
      "SUPPORT VECTOR MACHINE\n",
      "tuned hpyerparameters :(best parameters)  {'C': 1.0, 'gamma': 0.03162277660168379, 'kernel': 'sigmoid'}\n",
      "train accuracy : 0.8239285714285713\n",
      "test accuracy: 0.8333333333333334\n"
     ]
    },
    {
     "data": {
      "image/png": "[encoded data removed]",
      "text/plain": [
       "<Figure size 432x288 with 2 Axes>"
      ]
     },
     "metadata": {
      "needs_background": "light"
     },
     "output_type": "display_data"
    }
   ],
   "source": [
    "print('SUPPORT VECTOR MACHINE')\n",
    "cv = RepeatedKFold(n_splits=10, n_repeats=10, random_state=2)\n",
    "parameters = {'kernel':('linear', 'rbf','poly','rbf', 'sigmoid'),\n",
    "              'C': np.logspace(-3, 3, 5),\n",
    "              'gamma':np.logspace(-3, 3, 5)}\n",
    "est = SVC()\n",
    "grid = GridSearchCV(estimator=est, param_grid=parameters, scoring=None, n_jobs=1, cv=cv)\n",
    "grid.fit(X_train,Y_train)\n",
    "print(\"tuned hpyerparameters :(best parameters) \",grid.best_params_)\n",
    "print(\"train accuracy :\",grid.best_score_)\n",
    "print(\"test accuracy:\",grid.score(X_test, Y_test))\n",
    "yhat=grid.predict(X_test)\n",
    "plot_confusion_matrix(Y_test,yhat)\n",
    "ii = 1\n",
    "df_results.iloc[ii,9] = [grid.best_params_]\n",
    "df_results.iloc[ii,10] = grid.best_score_\n",
    "df_results.iloc[ii,11] = grid.score(X_test, Y_test)"
   ]
  },
  {
   "cell_type": "code",
   "execution_count": 59,
   "metadata": {},
   "outputs": [
    {
     "name": "stdout",
     "output_type": "stream",
     "text": [
      "DECISION TREE\n",
      "tuned hpyerparameters :(best parameters)  {'criterion': 'entropy', 'max_depth': 10, 'max_features': 'sqrt', 'min_samples_leaf': 1, 'min_samples_split': 10, 'splitter': 'best'}\n",
      "train accuracy : 0.7391071428571427\n",
      "test accuracy: 0.6111111111111112\n"
     ]
    },
    {
     "data": {
      "image/png": "[encoded data removed]",
      "text/plain": [
       "<Figure size 432x288 with 2 Axes>"
      ]
     },
     "metadata": {
      "needs_background": "light"
     },
     "output_type": "display_data"
    }
   ],
   "source": [
    "print('DECISION TREE')\n",
    "cv = RepeatedKFold(n_splits=10, n_repeats=10, random_state=2)\n",
    "parameters = {'criterion': ['gini', 'entropy'],\n",
    "     'splitter': ['best', 'random'],\n",
    "     'max_depth': [2*n for n in range(1,10)],\n",
    "     'max_features': ['auto', 'sqrt'],\n",
    "     'min_samples_leaf': [1, 2, 4],\n",
    "     'min_samples_split': [2, 5, 10]}\n",
    "est = DecisionTreeClassifier()\n",
    "grid = GridSearchCV(estimator=est, param_grid=parameters, scoring=None, n_jobs=1, cv=cv)\n",
    "grid.fit(X_train,Y_train)\n",
    "print(\"tuned hpyerparameters :(best parameters) \",grid.best_params_)\n",
    "print(\"train accuracy :\",grid.best_score_)\n",
    "print(\"test accuracy:\",grid.score(X_test, Y_test))\n",
    "yhat=grid.predict(X_test)\n",
    "plot_confusion_matrix(Y_test,yhat)\n",
    "ii = 2\n",
    "df_results.iloc[ii,9] = [grid.best_params_]\n",
    "df_results.iloc[ii,10] = grid.best_score_\n",
    "df_results.iloc[ii,11] = grid.score(X_test, Y_test)"
   ]
  },
  {
   "cell_type": "code",
   "execution_count": 60,
   "metadata": {},
   "outputs": [
    {
     "name": "stdout",
     "output_type": "stream",
     "text": [
      "K NEAREST NEIGHBORS\n",
      "tuned hpyerparameters :(best parameters)  {'algorithm': 'auto', 'n_neighbors': 4, 'p': 2}\n",
      "train accuracy : 0.8091071428571428\n",
      "test accuracy: 0.7777777777777778\n"
     ]
    },
    {
     "data": {
      "image/png": "[encoded data removed]",
      "text/plain": [
       "<Figure size 432x288 with 2 Axes>"
      ]
     },
     "metadata": {
      "needs_background": "light"
     },
     "output_type": "display_data"
    }
   ],
   "source": [
    "print('K NEAREST NEIGHBORS')\n",
    "cv = RepeatedKFold(n_splits=10, n_repeats=10, random_state=2)\n",
    "parameters = {'n_neighbors': [1, 2, 3, 4, 5, 6, 7, 8, 9, 10],\n",
    "              'algorithm': ['auto', 'ball_tree', 'kd_tree', 'brute'],\n",
    "              'p': [1,2]}\n",
    "est = KNeighborsClassifier()\n",
    "grid = GridSearchCV(estimator=est, param_grid=parameters, scoring=None, n_jobs=1, cv=cv)\n",
    "grid.fit(X_train,Y_train)\n",
    "print(\"tuned hpyerparameters :(best parameters) \",grid.best_params_)\n",
    "print(\"train accuracy :\",grid.best_score_)\n",
    "print(\"test accuracy:\",grid.score(X_test, Y_test))\n",
    "yhat=grid.predict(X_test)\n",
    "plot_confusion_matrix(Y_test,yhat)\n",
    "ii = 3\n",
    "df_results.iloc[ii,9] = [grid.best_params_]\n",
    "df_results.iloc[ii,10] = grid.best_score_\n",
    "df_results.iloc[ii,11] = grid.score(X_test, Y_test)"
   ]
  },
  {
   "cell_type": "markdown",
   "metadata": {},
   "source": [
    "This time Decision Tree is worse, indicating overfitting.\n",
    "\n",
    "Either Logistic Regression or Support Vector Machine is our current choice for model, with slight preference for Support Vector Machine with a higher cross-validation training accuracy score."
   ]
  },
  {
   "cell_type": "code",
   "execution_count": 61,
   "metadata": {},
   "outputs": [
    {
     "data": {
      "text/html": [
       "<div>\n",
       "<style scoped>\n",
       "    .dataframe tbody tr th:only-of-type {\n",
       "        vertical-align: middle;\n",
       "    }\n",
       "\n",
       "    .dataframe tbody tr th {\n",
       "        vertical-align: top;\n",
       "    }\n",
       "\n",
       "    .dataframe thead th {\n",
       "        text-align: right;\n",
       "    }\n",
       "</style>\n",
       "<table border=\"1\" class=\"dataframe\">\n",
       "  <thead>\n",
       "    <tr style=\"text-align: right;\">\n",
       "      <th></th>\n",
       "      <th>Best Parameters</th>\n",
       "      <th>Train Accuracy</th>\n",
       "      <th>Test Accuracy</th>\n",
       "      <th>RKF10x10 Best Parameters</th>\n",
       "      <th>RKF10x10 Train Accuracy</th>\n",
       "      <th>RKF10x10 Test Accuracy</th>\n",
       "      <th>TT2 RKF10x10 Best Parameters</th>\n",
       "      <th>TT2 RKF10x10 Train Accuracy</th>\n",
       "      <th>TT2 RKF10x10 Test Accuracy</th>\n",
       "      <th>PCA RKF10x10 Best Parameters</th>\n",
       "      <th>PCA RKF10x10 Train Accuracy</th>\n",
       "      <th>PCA RKF10x10 Test Accuracy</th>\n",
       "    </tr>\n",
       "  </thead>\n",
       "  <tbody>\n",
       "    <tr>\n",
       "      <th>Logistic Regression</th>\n",
       "      <td>[{'C': 0.01, 'penalty': 'l2', 'solver': 'lbfgs'}]</td>\n",
       "      <td>0.846429</td>\n",
       "      <td>0.833333</td>\n",
       "      <td>{'C': 0.01, 'penalty': 'l2', 'solver': 'lbfgs'}</td>\n",
       "      <td>0.823036</td>\n",
       "      <td>0.833333</td>\n",
       "      <td>{'C': 0.1, 'penalty': 'l2', 'solver': 'lbfgs'}</td>\n",
       "      <td>0.817500</td>\n",
       "      <td>0.833333</td>\n",
       "      <td>{'C': 0.01, 'penalty': 'l2', 'solver': 'lbfgs'}</td>\n",
       "      <td>0.823036</td>\n",
       "      <td>0.833333</td>\n",
       "    </tr>\n",
       "    <tr>\n",
       "      <th>Support Vector Machine</th>\n",
       "      <td>[{'C': 1.0, 'gamma': 0.03162277660168379, 'ker...</td>\n",
       "      <td>0.848214</td>\n",
       "      <td>0.833333</td>\n",
       "      <td>{'C': 1.0, 'gamma': 0.03162277660168379, 'kern...</td>\n",
       "      <td>0.823929</td>\n",
       "      <td>0.833333</td>\n",
       "      <td>{'C': 1.0, 'gamma': 0.03162277660168379, 'kern...</td>\n",
       "      <td>0.843214</td>\n",
       "      <td>0.833333</td>\n",
       "      <td>{'C': 1.0, 'gamma': 0.03162277660168379, 'kern...</td>\n",
       "      <td>0.823929</td>\n",
       "      <td>0.833333</td>\n",
       "    </tr>\n",
       "    <tr>\n",
       "      <th>Decision Tree</th>\n",
       "      <td>[{'criterion': 'gini', 'max_depth': 10, 'max_f...</td>\n",
       "      <td>0.876786</td>\n",
       "      <td>0.777778</td>\n",
       "      <td>{'criterion': 'entropy', 'max_depth': 4, 'max_...</td>\n",
       "      <td>0.827321</td>\n",
       "      <td>0.833333</td>\n",
       "      <td>{'criterion': 'entropy', 'max_depth': 4, 'max_...</td>\n",
       "      <td>0.853393</td>\n",
       "      <td>0.833333</td>\n",
       "      <td>{'criterion': 'entropy', 'max_depth': 10, 'max...</td>\n",
       "      <td>0.739107</td>\n",
       "      <td>0.611111</td>\n",
       "    </tr>\n",
       "    <tr>\n",
       "      <th>K Nearest Neighbor</th>\n",
       "      <td>[{'algorithm': 'auto', 'n_neighbors': 10, 'p':...</td>\n",
       "      <td>0.848214</td>\n",
       "      <td>0.833333</td>\n",
       "      <td>{'algorithm': 'auto', 'n_neighbors': 9, 'p': 1}</td>\n",
       "      <td>0.843571</td>\n",
       "      <td>0.833333</td>\n",
       "      <td>{'algorithm': 'auto', 'n_neighbors': 5, 'p': 1}</td>\n",
       "      <td>0.850536</td>\n",
       "      <td>0.777778</td>\n",
       "      <td>{'algorithm': 'auto', 'n_neighbors': 4, 'p': 2}</td>\n",
       "      <td>0.809107</td>\n",
       "      <td>0.777778</td>\n",
       "    </tr>\n",
       "  </tbody>\n",
       "</table>\n",
       "</div>"
      ],
      "text/plain": [
       "                                                          Best Parameters  \\\n",
       "Logistic Regression     [{'C': 0.01, 'penalty': 'l2', 'solver': 'lbfgs'}]   \n",
       "Support Vector Machine  [{'C': 1.0, 'gamma': 0.03162277660168379, 'ker...   \n",
       "Decision Tree           [{'criterion': 'gini', 'max_depth': 10, 'max_f...   \n",
       "K Nearest Neighbor      [{'algorithm': 'auto', 'n_neighbors': 10, 'p':...   \n",
       "\n",
       "                       Train Accuracy Test Accuracy  \\\n",
       "Logistic Regression          0.846429      0.833333   \n",
       "Support Vector Machine       0.848214      0.833333   \n",
       "Decision Tree                0.876786      0.777778   \n",
       "K Nearest Neighbor           0.848214      0.833333   \n",
       "\n",
       "                                                 RKF10x10 Best Parameters  \\\n",
       "Logistic Regression       {'C': 0.01, 'penalty': 'l2', 'solver': 'lbfgs'}   \n",
       "Support Vector Machine  {'C': 1.0, 'gamma': 0.03162277660168379, 'kern...   \n",
       "Decision Tree           {'criterion': 'entropy', 'max_depth': 4, 'max_...   \n",
       "K Nearest Neighbor        {'algorithm': 'auto', 'n_neighbors': 9, 'p': 1}   \n",
       "\n",
       "                        RKF10x10 Train Accuracy  RKF10x10 Test Accuracy  \\\n",
       "Logistic Regression                    0.823036                0.833333   \n",
       "Support Vector Machine                 0.823929                0.833333   \n",
       "Decision Tree                          0.827321                0.833333   \n",
       "K Nearest Neighbor                     0.843571                0.833333   \n",
       "\n",
       "                                             TT2 RKF10x10 Best Parameters  \\\n",
       "Logistic Regression        {'C': 0.1, 'penalty': 'l2', 'solver': 'lbfgs'}   \n",
       "Support Vector Machine  {'C': 1.0, 'gamma': 0.03162277660168379, 'kern...   \n",
       "Decision Tree           {'criterion': 'entropy', 'max_depth': 4, 'max_...   \n",
       "K Nearest Neighbor        {'algorithm': 'auto', 'n_neighbors': 5, 'p': 1}   \n",
       "\n",
       "                        TT2 RKF10x10 Train Accuracy  \\\n",
       "Logistic Regression                        0.817500   \n",
       "Support Vector Machine                     0.843214   \n",
       "Decision Tree                              0.853393   \n",
       "K Nearest Neighbor                         0.850536   \n",
       "\n",
       "                        TT2 RKF10x10 Test Accuracy  \\\n",
       "Logistic Regression                       0.833333   \n",
       "Support Vector Machine                    0.833333   \n",
       "Decision Tree                             0.833333   \n",
       "K Nearest Neighbor                        0.777778   \n",
       "\n",
       "                                             PCA RKF10x10 Best Parameters  \\\n",
       "Logistic Regression       {'C': 0.01, 'penalty': 'l2', 'solver': 'lbfgs'}   \n",
       "Support Vector Machine  {'C': 1.0, 'gamma': 0.03162277660168379, 'kern...   \n",
       "Decision Tree           {'criterion': 'entropy', 'max_depth': 10, 'max...   \n",
       "K Nearest Neighbor        {'algorithm': 'auto', 'n_neighbors': 4, 'p': 2}   \n",
       "\n",
       "                        PCA RKF10x10 Train Accuracy  \\\n",
       "Logistic Regression                        0.823036   \n",
       "Support Vector Machine                     0.823929   \n",
       "Decision Tree                              0.739107   \n",
       "K Nearest Neighbor                         0.809107   \n",
       "\n",
       "                        PCA RKF10x10 Test Accuracy  \n",
       "Logistic Regression                       0.833333  \n",
       "Support Vector Machine                    0.833333  \n",
       "Decision Tree                             0.611111  \n",
       "K Nearest Neighbor                        0.777778  "
      ]
     },
     "execution_count": 61,
     "metadata": {},
     "output_type": "execute_result"
    }
   ],
   "source": [
    "df_results"
   ]
  },
  {
   "cell_type": "code",
   "execution_count": 62,
   "metadata": {},
   "outputs": [
    {
     "data": {
      "image/png": "[encoded data removed]",
      "text/plain": [
       "<Figure size 432x288 with 1 Axes>"
      ]
     },
     "metadata": {
      "needs_background": "light"
     },
     "output_type": "display_data"
    }
   ],
   "source": [
    "df_results.reset_index().plot(kind='bar',x='index',y=['PCA RKF10x10 Train Accuracy','PCA RKF10x10 Test Accuracy'],rot=10,title='Tuned Model Results', xlabel='Model', ylabel='Accuracy');\n",
    "plt.legend(loc='upper left');\n",
    "plt.ylim([0.6,0.95]);"
   ]
  },
  {
   "cell_type": "markdown",
   "metadata": {},
   "source": [
    "Next we re-run for the 55 most important components:"
   ]
  },
  {
   "cell_type": "code",
   "execution_count": 63,
   "metadata": {},
   "outputs": [],
   "source": [
    "X_train, X_test, Y_train, Y_test = train_test_split(X2.loc[:,0:55], Y, test_size=0.2, random_state=2)"
   ]
  },
  {
   "cell_type": "code",
   "execution_count": 64,
   "metadata": {},
   "outputs": [],
   "source": [
    "dfinds = [12, 13, 14]"
   ]
  },
  {
   "cell_type": "code",
   "execution_count": 65,
   "metadata": {},
   "outputs": [],
   "source": [
    "df_results.insert(dfinds[0],'PCA(55) RKF10x10 Best Parameters',0)\n",
    "df_results.insert(dfinds[1],'PCA(55) RKF10x10 Train Accuracy',0)\n",
    "df_results.insert(dfinds[2],'PCA(55) RKF10x10 Test Accuracy',0)"
   ]
  },
  {
   "cell_type": "code",
   "execution_count": 66,
   "metadata": {},
   "outputs": [
    {
     "name": "stdout",
     "output_type": "stream",
     "text": [
      "LOGISTIC REGRESSION\n",
      "tuned hpyerparameters :(best parameters)  {'C': 0.01, 'penalty': 'l2', 'solver': 'lbfgs'}\n",
      "train accuracy : 0.8257142857142857\n",
      "test accuracy: 0.8333333333333334\n"
     ]
    },
    {
     "data": {
      "image/png": "[encoded data removed]",
      "text/plain": [
       "<Figure size 432x288 with 2 Axes>"
      ]
     },
     "metadata": {
      "needs_background": "light"
     },
     "output_type": "display_data"
    }
   ],
   "source": [
    "print('LOGISTIC REGRESSION')\n",
    "cv = RepeatedKFold(n_splits=10, n_repeats=10, random_state=2)\n",
    "parameters ={'C':[0.01,0.1,1],\n",
    "             'penalty':['l2'], # l1 lasso l2 ridge\n",
    "             'solver':['lbfgs'] # ‘newton-cg’, ‘lbfgs’, ‘liblinear’, ‘sag’, ‘saga’\n",
    "            }\n",
    "est=LogisticRegression()\n",
    "grid = GridSearchCV(estimator=est, param_grid=parameters, scoring=None, n_jobs=1, cv=cv)\n",
    "grid.fit(X_train,Y_train)\n",
    "print(\"tuned hpyerparameters :(best parameters) \",grid.best_params_)\n",
    "print(\"train accuracy :\",grid.best_score_)\n",
    "print(\"test accuracy:\",grid.score(X_test, Y_test))\n",
    "yhat=grid.predict(X_test)\n",
    "plot_confusion_matrix(Y_test,yhat)\n",
    "ii = 0\n",
    "df_results.iloc[ii,dfinds[0]] = [grid.best_params_]\n",
    "df_results.iloc[ii,dfinds[1]] = grid.best_score_\n",
    "df_results.iloc[ii,dfinds[2]] = grid.score(X_test, Y_test)"
   ]
  },
  {
   "cell_type": "code",
   "execution_count": 67,
   "metadata": {},
   "outputs": [
    {
     "name": "stdout",
     "output_type": "stream",
     "text": [
      "SUPPORT VECTOR MACHINE\n",
      "tuned hpyerparameters :(best parameters)  {'C': 1.0, 'gamma': 0.03162277660168379, 'kernel': 'sigmoid'}\n",
      "train accuracy : 0.8294642857142855\n",
      "test accuracy: 0.8333333333333334\n"
     ]
    },
    {
     "data": {
      "image/png": "[encoded data removed]",
      "text/plain": [
       "<Figure size 432x288 with 2 Axes>"
      ]
     },
     "metadata": {
      "needs_background": "light"
     },
     "output_type": "display_data"
    }
   ],
   "source": [
    "print('SUPPORT VECTOR MACHINE')\n",
    "cv = RepeatedKFold(n_splits=10, n_repeats=10, random_state=2)\n",
    "parameters = {'kernel':('linear', 'rbf','poly','rbf', 'sigmoid'),\n",
    "              'C': np.logspace(-3, 3, 5),\n",
    "              'gamma':np.logspace(-3, 3, 5)}\n",
    "est = SVC()\n",
    "grid = GridSearchCV(estimator=est, param_grid=parameters, scoring=None, n_jobs=1, cv=cv)\n",
    "grid.fit(X_train,Y_train)\n",
    "print(\"tuned hpyerparameters :(best parameters) \",grid.best_params_)\n",
    "print(\"train accuracy :\",grid.best_score_)\n",
    "print(\"test accuracy:\",grid.score(X_test, Y_test))\n",
    "yhat=grid.predict(X_test)\n",
    "plot_confusion_matrix(Y_test,yhat)\n",
    "ii = 1\n",
    "df_results.iloc[ii,dfinds[0]] = [grid.best_params_]\n",
    "df_results.iloc[ii,dfinds[1]] = grid.best_score_\n",
    "df_results.iloc[ii,dfinds[2]] = grid.score(X_test, Y_test)"
   ]
  },
  {
   "cell_type": "code",
   "execution_count": 68,
   "metadata": {},
   "outputs": [
    {
     "name": "stdout",
     "output_type": "stream",
     "text": [
      "DECISION TREE\n",
      "tuned hpyerparameters :(best parameters)  {'criterion': 'gini', 'max_depth': 18, 'max_features': 'sqrt', 'min_samples_leaf': 1, 'min_samples_split': 2, 'splitter': 'best'}\n",
      "train accuracy : 0.7507142857142856\n",
      "test accuracy: 0.6111111111111112\n"
     ]
    },
    {
     "data": {
      "image/png": "[encoded data removed]",
      "text/plain": [
       "<Figure size 432x288 with 2 Axes>"
      ]
     },
     "metadata": {
      "needs_background": "light"
     },
     "output_type": "display_data"
    }
   ],
   "source": [
    "print('DECISION TREE')\n",
    "cv = RepeatedKFold(n_splits=10, n_repeats=10, random_state=2)\n",
    "parameters = {'criterion': ['gini', 'entropy'],\n",
    "     'splitter': ['best', 'random'],\n",
    "     'max_depth': [2*n for n in range(1,10)],\n",
    "     'max_features': ['auto', 'sqrt'],\n",
    "     'min_samples_leaf': [1, 2, 4],\n",
    "     'min_samples_split': [2, 5, 10]}\n",
    "est = DecisionTreeClassifier()\n",
    "grid = GridSearchCV(estimator=est, param_grid=parameters, scoring=None, n_jobs=1, cv=cv)\n",
    "grid.fit(X_train,Y_train)\n",
    "print(\"tuned hpyerparameters :(best parameters) \",grid.best_params_)\n",
    "print(\"train accuracy :\",grid.best_score_)\n",
    "print(\"test accuracy:\",grid.score(X_test, Y_test))\n",
    "yhat=grid.predict(X_test)\n",
    "plot_confusion_matrix(Y_test,yhat)\n",
    "ii = 2\n",
    "df_results.iloc[ii,dfinds[0]] = [grid.best_params_]\n",
    "df_results.iloc[ii,dfinds[1]] = grid.best_score_\n",
    "df_results.iloc[ii,dfinds[2]] = grid.score(X_test, Y_test)"
   ]
  },
  {
   "cell_type": "code",
   "execution_count": 69,
   "metadata": {},
   "outputs": [
    {
     "name": "stdout",
     "output_type": "stream",
     "text": [
      "K NEAREST NEIGHBORS\n",
      "tuned hpyerparameters :(best parameters)  {'algorithm': 'auto', 'n_neighbors': 4, 'p': 2}\n",
      "train accuracy : 0.8373214285714284\n",
      "test accuracy: 0.7777777777777778\n"
     ]
    },
    {
     "data": {
      "image/png": "[encoded data removed]",
      "text/plain": [
       "<Figure size 432x288 with 2 Axes>"
      ]
     },
     "metadata": {
      "needs_background": "light"
     },
     "output_type": "display_data"
    }
   ],
   "source": [
    "print('K NEAREST NEIGHBORS')\n",
    "cv = RepeatedKFold(n_splits=10, n_repeats=10, random_state=2)\n",
    "parameters = {'n_neighbors': [1, 2, 3, 4, 5, 6, 7, 8, 9, 10],\n",
    "              'algorithm': ['auto', 'ball_tree', 'kd_tree', 'brute'],\n",
    "              'p': [1,2]}\n",
    "est = KNeighborsClassifier()\n",
    "grid = GridSearchCV(estimator=est, param_grid=parameters, scoring=None, n_jobs=1, cv=cv)\n",
    "grid.fit(X_train,Y_train)\n",
    "print(\"tuned hpyerparameters :(best parameters) \",grid.best_params_)\n",
    "print(\"train accuracy :\",grid.best_score_)\n",
    "print(\"test accuracy:\",grid.score(X_test, Y_test))\n",
    "yhat=grid.predict(X_test)\n",
    "plot_confusion_matrix(Y_test,yhat)\n",
    "ii = 3\n",
    "df_results.iloc[ii,dfinds[0]] = [grid.best_params_]\n",
    "df_results.iloc[ii,dfinds[1]] = grid.best_score_\n",
    "df_results.iloc[ii,dfinds[2]] = grid.score(X_test, Y_test)"
   ]
  },
  {
   "cell_type": "markdown",
   "metadata": {},
   "source": [
    "This time Decision Tree and K Nearest Neighbors suffer.\n",
    "\n",
    "Either Logistic Regression or Support Vector Machine is our current choice for model, with slight preference for Support Vector Machine with a higher cross-validation training accuracy score."
   ]
  },
  {
   "cell_type": "code",
   "execution_count": 70,
   "metadata": {},
   "outputs": [
    {
     "data": {
      "text/html": [
       "<div>\n",
       "<style scoped>\n",
       "    .dataframe tbody tr th:only-of-type {\n",
       "        vertical-align: middle;\n",
       "    }\n",
       "\n",
       "    .dataframe tbody tr th {\n",
       "        vertical-align: top;\n",
       "    }\n",
       "\n",
       "    .dataframe thead th {\n",
       "        text-align: right;\n",
       "    }\n",
       "</style>\n",
       "<table border=\"1\" class=\"dataframe\">\n",
       "  <thead>\n",
       "    <tr style=\"text-align: right;\">\n",
       "      <th></th>\n",
       "      <th>Best Parameters</th>\n",
       "      <th>Train Accuracy</th>\n",
       "      <th>Test Accuracy</th>\n",
       "      <th>RKF10x10 Best Parameters</th>\n",
       "      <th>RKF10x10 Train Accuracy</th>\n",
       "      <th>RKF10x10 Test Accuracy</th>\n",
       "      <th>TT2 RKF10x10 Best Parameters</th>\n",
       "      <th>TT2 RKF10x10 Train Accuracy</th>\n",
       "      <th>TT2 RKF10x10 Test Accuracy</th>\n",
       "      <th>PCA RKF10x10 Best Parameters</th>\n",
       "      <th>PCA RKF10x10 Train Accuracy</th>\n",
       "      <th>PCA RKF10x10 Test Accuracy</th>\n",
       "      <th>PCA(55) RKF10x10 Best Parameters</th>\n",
       "      <th>PCA(55) RKF10x10 Train Accuracy</th>\n",
       "      <th>PCA(55) RKF10x10 Test Accuracy</th>\n",
       "    </tr>\n",
       "  </thead>\n",
       "  <tbody>\n",
       "    <tr>\n",
       "      <th>Logistic Regression</th>\n",
       "      <td>[{'C': 0.01, 'penalty': 'l2', 'solver': 'lbfgs'}]</td>\n",
       "      <td>0.846429</td>\n",
       "      <td>0.833333</td>\n",
       "      <td>{'C': 0.01, 'penalty': 'l2', 'solver': 'lbfgs'}</td>\n",
       "      <td>0.823036</td>\n",
       "      <td>0.833333</td>\n",
       "      <td>{'C': 0.1, 'penalty': 'l2', 'solver': 'lbfgs'}</td>\n",
       "      <td>0.817500</td>\n",
       "      <td>0.833333</td>\n",
       "      <td>{'C': 0.01, 'penalty': 'l2', 'solver': 'lbfgs'}</td>\n",
       "      <td>0.823036</td>\n",
       "      <td>0.833333</td>\n",
       "      <td>{'C': 0.01, 'penalty': 'l2', 'solver': 'lbfgs'}</td>\n",
       "      <td>0.825714</td>\n",
       "      <td>0.833333</td>\n",
       "    </tr>\n",
       "    <tr>\n",
       "      <th>Support Vector Machine</th>\n",
       "      <td>[{'C': 1.0, 'gamma': 0.03162277660168379, 'ker...</td>\n",
       "      <td>0.848214</td>\n",
       "      <td>0.833333</td>\n",
       "      <td>{'C': 1.0, 'gamma': 0.03162277660168379, 'kern...</td>\n",
       "      <td>0.823929</td>\n",
       "      <td>0.833333</td>\n",
       "      <td>{'C': 1.0, 'gamma': 0.03162277660168379, 'kern...</td>\n",
       "      <td>0.843214</td>\n",
       "      <td>0.833333</td>\n",
       "      <td>{'C': 1.0, 'gamma': 0.03162277660168379, 'kern...</td>\n",
       "      <td>0.823929</td>\n",
       "      <td>0.833333</td>\n",
       "      <td>{'C': 1.0, 'gamma': 0.03162277660168379, 'kern...</td>\n",
       "      <td>0.829464</td>\n",
       "      <td>0.833333</td>\n",
       "    </tr>\n",
       "    <tr>\n",
       "      <th>Decision Tree</th>\n",
       "      <td>[{'criterion': 'gini', 'max_depth': 10, 'max_f...</td>\n",
       "      <td>0.876786</td>\n",
       "      <td>0.777778</td>\n",
       "      <td>{'criterion': 'entropy', 'max_depth': 4, 'max_...</td>\n",
       "      <td>0.827321</td>\n",
       "      <td>0.833333</td>\n",
       "      <td>{'criterion': 'entropy', 'max_depth': 4, 'max_...</td>\n",
       "      <td>0.853393</td>\n",
       "      <td>0.833333</td>\n",
       "      <td>{'criterion': 'entropy', 'max_depth': 10, 'max...</td>\n",
       "      <td>0.739107</td>\n",
       "      <td>0.611111</td>\n",
       "      <td>{'criterion': 'gini', 'max_depth': 18, 'max_fe...</td>\n",
       "      <td>0.750714</td>\n",
       "      <td>0.611111</td>\n",
       "    </tr>\n",
       "    <tr>\n",
       "      <th>K Nearest Neighbor</th>\n",
       "      <td>[{'algorithm': 'auto', 'n_neighbors': 10, 'p':...</td>\n",
       "      <td>0.848214</td>\n",
       "      <td>0.833333</td>\n",
       "      <td>{'algorithm': 'auto', 'n_neighbors': 9, 'p': 1}</td>\n",
       "      <td>0.843571</td>\n",
       "      <td>0.833333</td>\n",
       "      <td>{'algorithm': 'auto', 'n_neighbors': 5, 'p': 1}</td>\n",
       "      <td>0.850536</td>\n",
       "      <td>0.777778</td>\n",
       "      <td>{'algorithm': 'auto', 'n_neighbors': 4, 'p': 2}</td>\n",
       "      <td>0.809107</td>\n",
       "      <td>0.777778</td>\n",
       "      <td>{'algorithm': 'auto', 'n_neighbors': 4, 'p': 2}</td>\n",
       "      <td>0.837321</td>\n",
       "      <td>0.777778</td>\n",
       "    </tr>\n",
       "  </tbody>\n",
       "</table>\n",
       "</div>"
      ],
      "text/plain": [
       "                                                          Best Parameters  \\\n",
       "Logistic Regression     [{'C': 0.01, 'penalty': 'l2', 'solver': 'lbfgs'}]   \n",
       "Support Vector Machine  [{'C': 1.0, 'gamma': 0.03162277660168379, 'ker...   \n",
       "Decision Tree           [{'criterion': 'gini', 'max_depth': 10, 'max_f...   \n",
       "K Nearest Neighbor      [{'algorithm': 'auto', 'n_neighbors': 10, 'p':...   \n",
       "\n",
       "                       Train Accuracy Test Accuracy  \\\n",
       "Logistic Regression          0.846429      0.833333   \n",
       "Support Vector Machine       0.848214      0.833333   \n",
       "Decision Tree                0.876786      0.777778   \n",
       "K Nearest Neighbor           0.848214      0.833333   \n",
       "\n",
       "                                                 RKF10x10 Best Parameters  \\\n",
       "Logistic Regression       {'C': 0.01, 'penalty': 'l2', 'solver': 'lbfgs'}   \n",
       "Support Vector Machine  {'C': 1.0, 'gamma': 0.03162277660168379, 'kern...   \n",
       "Decision Tree           {'criterion': 'entropy', 'max_depth': 4, 'max_...   \n",
       "K Nearest Neighbor        {'algorithm': 'auto', 'n_neighbors': 9, 'p': 1}   \n",
       "\n",
       "                        RKF10x10 Train Accuracy  RKF10x10 Test Accuracy  \\\n",
       "Logistic Regression                    0.823036                0.833333   \n",
       "Support Vector Machine                 0.823929                0.833333   \n",
       "Decision Tree                          0.827321                0.833333   \n",
       "K Nearest Neighbor                     0.843571                0.833333   \n",
       "\n",
       "                                             TT2 RKF10x10 Best Parameters  \\\n",
       "Logistic Regression        {'C': 0.1, 'penalty': 'l2', 'solver': 'lbfgs'}   \n",
       "Support Vector Machine  {'C': 1.0, 'gamma': 0.03162277660168379, 'kern...   \n",
       "Decision Tree           {'criterion': 'entropy', 'max_depth': 4, 'max_...   \n",
       "K Nearest Neighbor        {'algorithm': 'auto', 'n_neighbors': 5, 'p': 1}   \n",
       "\n",
       "                        TT2 RKF10x10 Train Accuracy  \\\n",
       "Logistic Regression                        0.817500   \n",
       "Support Vector Machine                     0.843214   \n",
       "Decision Tree                              0.853393   \n",
       "K Nearest Neighbor                         0.850536   \n",
       "\n",
       "                        TT2 RKF10x10 Test Accuracy  \\\n",
       "Logistic Regression                       0.833333   \n",
       "Support Vector Machine                    0.833333   \n",
       "Decision Tree                             0.833333   \n",
       "K Nearest Neighbor                        0.777778   \n",
       "\n",
       "                                             PCA RKF10x10 Best Parameters  \\\n",
       "Logistic Regression       {'C': 0.01, 'penalty': 'l2', 'solver': 'lbfgs'}   \n",
       "Support Vector Machine  {'C': 1.0, 'gamma': 0.03162277660168379, 'kern...   \n",
       "Decision Tree           {'criterion': 'entropy', 'max_depth': 10, 'max...   \n",
       "K Nearest Neighbor        {'algorithm': 'auto', 'n_neighbors': 4, 'p': 2}   \n",
       "\n",
       "                        PCA RKF10x10 Train Accuracy  \\\n",
       "Logistic Regression                        0.823036   \n",
       "Support Vector Machine                     0.823929   \n",
       "Decision Tree                              0.739107   \n",
       "K Nearest Neighbor                         0.809107   \n",
       "\n",
       "                        PCA RKF10x10 Test Accuracy  \\\n",
       "Logistic Regression                       0.833333   \n",
       "Support Vector Machine                    0.833333   \n",
       "Decision Tree                             0.611111   \n",
       "K Nearest Neighbor                        0.777778   \n",
       "\n",
       "                                         PCA(55) RKF10x10 Best Parameters  \\\n",
       "Logistic Regression       {'C': 0.01, 'penalty': 'l2', 'solver': 'lbfgs'}   \n",
       "Support Vector Machine  {'C': 1.0, 'gamma': 0.03162277660168379, 'kern...   \n",
       "Decision Tree           {'criterion': 'gini', 'max_depth': 18, 'max_fe...   \n",
       "K Nearest Neighbor        {'algorithm': 'auto', 'n_neighbors': 4, 'p': 2}   \n",
       "\n",
       "                        PCA(55) RKF10x10 Train Accuracy  \\\n",
       "Logistic Regression                            0.825714   \n",
       "Support Vector Machine                         0.829464   \n",
       "Decision Tree                                  0.750714   \n",
       "K Nearest Neighbor                             0.837321   \n",
       "\n",
       "                        PCA(55) RKF10x10 Test Accuracy  \n",
       "Logistic Regression                           0.833333  \n",
       "Support Vector Machine                        0.833333  \n",
       "Decision Tree                                 0.611111  \n",
       "K Nearest Neighbor                            0.777778  "
      ]
     },
     "execution_count": 70,
     "metadata": {},
     "output_type": "execute_result"
    }
   ],
   "source": [
    "df_results"
   ]
  },
  {
   "cell_type": "code",
   "execution_count": 71,
   "metadata": {},
   "outputs": [
    {
     "data": {
      "image/png": "[encoded data removed]",
      "text/plain": [
       "<Figure size 432x288 with 1 Axes>"
      ]
     },
     "metadata": {
      "needs_background": "light"
     },
     "output_type": "display_data"
    }
   ],
   "source": [
    "df_results.reset_index().plot(kind='bar',x='index',y=list(df_results.columns[dfinds][1:3]),rot=10,title='Tuned Model Results', xlabel='Model', ylabel='Accuracy');\n",
    "plt.legend(loc='upper left');\n",
    "plt.ylim([0.6,0.95]);"
   ]
  },
  {
   "cell_type": "markdown",
   "metadata": {},
   "source": [
    "Next we re-run for the 17 most important components comprising 50% of explained variance:"
   ]
  },
  {
   "cell_type": "code",
   "execution_count": 72,
   "metadata": {},
   "outputs": [],
   "source": [
    "X_train, X_test, Y_train, Y_test = train_test_split(X2.loc[:,0:17], Y, test_size=0.2, random_state=2)"
   ]
  },
  {
   "cell_type": "code",
   "execution_count": 73,
   "metadata": {},
   "outputs": [],
   "source": [
    "dfinds = [15, 16, 17]"
   ]
  },
  {
   "cell_type": "code",
   "execution_count": 74,
   "metadata": {},
   "outputs": [],
   "source": [
    "df_results.insert(dfinds[0],'PCA(17) RKF10x10 Best Parameters',0)\n",
    "df_results.insert(dfinds[1],'PCA(17) RKF10x10 Train Accuracy',0)\n",
    "df_results.insert(dfinds[2],'PCA(17) RKF10x10 Test Accuracy',0)"
   ]
  },
  {
   "cell_type": "code",
   "execution_count": 75,
   "metadata": {},
   "outputs": [
    {
     "name": "stdout",
     "output_type": "stream",
     "text": [
      "LOGISTIC REGRESSION\n",
      "tuned hpyerparameters :(best parameters)  {'C': 0.1, 'penalty': 'l2', 'solver': 'lbfgs'}\n",
      "train accuracy : 0.8182142857142856\n",
      "test accuracy: 0.8333333333333334\n"
     ]
    },
    {
     "data": {
      "image/png": "[encoded data removed]",
      "text/plain": [
       "<Figure size 432x288 with 2 Axes>"
      ]
     },
     "metadata": {
      "needs_background": "light"
     },
     "output_type": "display_data"
    }
   ],
   "source": [
    "print('LOGISTIC REGRESSION')\n",
    "cv = RepeatedKFold(n_splits=10, n_repeats=10, random_state=2)\n",
    "parameters ={'C':[0.01,0.1,1],\n",
    "             'penalty':['l2'], # l1 lasso l2 ridge\n",
    "             'solver':['lbfgs'] # ‘newton-cg’, ‘lbfgs’, ‘liblinear’, ‘sag’, ‘saga’\n",
    "            }\n",
    "est=LogisticRegression()\n",
    "grid = GridSearchCV(estimator=est, param_grid=parameters, scoring=None, n_jobs=1, cv=cv)\n",
    "grid.fit(X_train,Y_train)\n",
    "print(\"tuned hpyerparameters :(best parameters) \",grid.best_params_)\n",
    "print(\"train accuracy :\",grid.best_score_)\n",
    "print(\"test accuracy:\",grid.score(X_test, Y_test))\n",
    "yhat=grid.predict(X_test)\n",
    "plot_confusion_matrix(Y_test,yhat)\n",
    "ii = 0\n",
    "df_results.iloc[ii,dfinds[0]] = [grid.best_params_]\n",
    "df_results.iloc[ii,dfinds[1]] = grid.best_score_\n",
    "df_results.iloc[ii,dfinds[2]] = grid.score(X_test, Y_test)"
   ]
  },
  {
   "cell_type": "code",
   "execution_count": 76,
   "metadata": {},
   "outputs": [
    {
     "name": "stdout",
     "output_type": "stream",
     "text": [
      "SUPPORT VECTOR MACHINE\n",
      "tuned hpyerparameters :(best parameters)  {'C': 0.03162277660168379, 'gamma': 0.001, 'kernel': 'linear'}\n",
      "train accuracy : 0.833392857142857\n",
      "test accuracy: 0.8333333333333334\n"
     ]
    },
    {
     "data": {
      "image/png": "[encoded data removed]",
      "text/plain": [
       "<Figure size 432x288 with 2 Axes>"
      ]
     },
     "metadata": {
      "needs_background": "light"
     },
     "output_type": "display_data"
    }
   ],
   "source": [
    "print('SUPPORT VECTOR MACHINE')\n",
    "cv = RepeatedKFold(n_splits=10, n_repeats=10, random_state=2)\n",
    "parameters = {'kernel':('linear', 'rbf','poly','rbf', 'sigmoid'),\n",
    "              'C': np.logspace(-3, 3, 5),\n",
    "              'gamma':np.logspace(-3, 3, 5)}\n",
    "est = SVC()\n",
    "grid = GridSearchCV(estimator=est, param_grid=parameters, scoring=None, n_jobs=1, cv=cv)\n",
    "grid.fit(X_train,Y_train)\n",
    "print(\"tuned hpyerparameters :(best parameters) \",grid.best_params_)\n",
    "print(\"train accuracy :\",grid.best_score_)\n",
    "print(\"test accuracy:\",grid.score(X_test, Y_test))\n",
    "yhat=grid.predict(X_test)\n",
    "plot_confusion_matrix(Y_test,yhat)\n",
    "ii = 1\n",
    "df_results.iloc[ii,dfinds[0]] = [grid.best_params_]\n",
    "df_results.iloc[ii,dfinds[1]] = grid.best_score_\n",
    "df_results.iloc[ii,dfinds[2]] = grid.score(X_test, Y_test)"
   ]
  },
  {
   "cell_type": "code",
   "execution_count": 77,
   "metadata": {},
   "outputs": [
    {
     "name": "stdout",
     "output_type": "stream",
     "text": [
      "DECISION TREE\n",
      "tuned hpyerparameters :(best parameters)  {'criterion': 'entropy', 'max_depth': 2, 'max_features': 'auto', 'min_samples_leaf': 4, 'min_samples_split': 2, 'splitter': 'best'}\n",
      "train accuracy : 0.7566071428571429\n",
      "test accuracy: 0.5555555555555556\n"
     ]
    },
    {
     "data": {
      "image/png": "[encoded data removed]",
      "text/plain": [
       "<Figure size 432x288 with 2 Axes>"
      ]
     },
     "metadata": {
      "needs_background": "light"
     },
     "output_type": "display_data"
    }
   ],
   "source": [
    "print('DECISION TREE')\n",
    "cv = RepeatedKFold(n_splits=10, n_repeats=10, random_state=2)\n",
    "parameters = {'criterion': ['gini', 'entropy'],\n",
    "     'splitter': ['best', 'random'],\n",
    "     'max_depth': [2*n for n in range(1,10)],\n",
    "     'max_features': ['auto', 'sqrt'],\n",
    "     'min_samples_leaf': [1, 2, 4],\n",
    "     'min_samples_split': [2, 5, 10]}\n",
    "est = DecisionTreeClassifier()\n",
    "grid = GridSearchCV(estimator=est, param_grid=parameters, scoring=None, n_jobs=1, cv=cv)\n",
    "grid.fit(X_train,Y_train)\n",
    "print(\"tuned hpyerparameters :(best parameters) \",grid.best_params_)\n",
    "print(\"train accuracy :\",grid.best_score_)\n",
    "print(\"test accuracy:\",grid.score(X_test, Y_test))\n",
    "yhat=grid.predict(X_test)\n",
    "plot_confusion_matrix(Y_test,yhat)\n",
    "ii = 2\n",
    "df_results.iloc[ii,dfinds[0]] = [grid.best_params_]\n",
    "df_results.iloc[ii,dfinds[1]] = grid.best_score_\n",
    "df_results.iloc[ii,dfinds[2]] = grid.score(X_test, Y_test)"
   ]
  },
  {
   "cell_type": "code",
   "execution_count": 78,
   "metadata": {},
   "outputs": [
    {
     "name": "stdout",
     "output_type": "stream",
     "text": [
      "K NEAREST NEIGHBORS\n",
      "tuned hpyerparameters :(best parameters)  {'algorithm': 'auto', 'n_neighbors': 8, 'p': 1}\n",
      "train accuracy : 0.8667857142857143\n",
      "test accuracy: 0.7222222222222222\n"
     ]
    },
    {
     "data": {
      "image/png": "[encoded data removed]",
      "text/plain": [
       "<Figure size 432x288 with 2 Axes>"
      ]
     },
     "metadata": {
      "needs_background": "light"
     },
     "output_type": "display_data"
    }
   ],
   "source": [
    "print('K NEAREST NEIGHBORS')\n",
    "cv = RepeatedKFold(n_splits=10, n_repeats=10, random_state=2)\n",
    "parameters = {'n_neighbors': [1, 2, 3, 4, 5, 6, 7, 8, 9, 10],\n",
    "              'algorithm': ['auto', 'ball_tree', 'kd_tree', 'brute'],\n",
    "              'p': [1,2]}\n",
    "est = KNeighborsClassifier()\n",
    "grid = GridSearchCV(estimator=est, param_grid=parameters, scoring=None, n_jobs=1, cv=cv)\n",
    "grid.fit(X_train,Y_train)\n",
    "print(\"tuned hpyerparameters :(best parameters) \",grid.best_params_)\n",
    "print(\"train accuracy :\",grid.best_score_)\n",
    "print(\"test accuracy:\",grid.score(X_test, Y_test))\n",
    "yhat=grid.predict(X_test)\n",
    "plot_confusion_matrix(Y_test,yhat)\n",
    "ii = 3\n",
    "df_results.iloc[ii,dfinds[0]] = [grid.best_params_]\n",
    "df_results.iloc[ii,dfinds[1]] = grid.best_score_\n",
    "df_results.iloc[ii,dfinds[2]] = grid.score(X_test, Y_test)"
   ]
  },
  {
   "cell_type": "markdown",
   "metadata": {},
   "source": [
    "This time Decision Tree and K Nearest Neighbors suffer even more, but it is interesting that Logistic Regression and Support Vector Machine maintain the same test accuracy.\n",
    "\n",
    "Either Logistic Regression or Support Vector Machine is our current choice for model, with slight preference for Support Vector Machine with a higher cross-validation training accuracy score."
   ]
  },
  {
   "cell_type": "code",
   "execution_count": 79,
   "metadata": {},
   "outputs": [
    {
     "data": {
      "text/html": [
       "<div>\n",
       "<style scoped>\n",
       "    .dataframe tbody tr th:only-of-type {\n",
       "        vertical-align: middle;\n",
       "    }\n",
       "\n",
       "    .dataframe tbody tr th {\n",
       "        vertical-align: top;\n",
       "    }\n",
       "\n",
       "    .dataframe thead th {\n",
       "        text-align: right;\n",
       "    }\n",
       "</style>\n",
       "<table border=\"1\" class=\"dataframe\">\n",
       "  <thead>\n",
       "    <tr style=\"text-align: right;\">\n",
       "      <th></th>\n",
       "      <th>Best Parameters</th>\n",
       "      <th>Train Accuracy</th>\n",
       "      <th>Test Accuracy</th>\n",
       "      <th>RKF10x10 Best Parameters</th>\n",
       "      <th>RKF10x10 Train Accuracy</th>\n",
       "      <th>RKF10x10 Test Accuracy</th>\n",
       "      <th>TT2 RKF10x10 Best Parameters</th>\n",
       "      <th>TT2 RKF10x10 Train Accuracy</th>\n",
       "      <th>TT2 RKF10x10 Test Accuracy</th>\n",
       "      <th>PCA RKF10x10 Best Parameters</th>\n",
       "      <th>PCA RKF10x10 Train Accuracy</th>\n",
       "      <th>PCA RKF10x10 Test Accuracy</th>\n",
       "      <th>PCA(55) RKF10x10 Best Parameters</th>\n",
       "      <th>PCA(55) RKF10x10 Train Accuracy</th>\n",
       "      <th>PCA(55) RKF10x10 Test Accuracy</th>\n",
       "      <th>PCA(17) RKF10x10 Best Parameters</th>\n",
       "      <th>PCA(17) RKF10x10 Train Accuracy</th>\n",
       "      <th>PCA(17) RKF10x10 Test Accuracy</th>\n",
       "    </tr>\n",
       "  </thead>\n",
       "  <tbody>\n",
       "    <tr>\n",
       "      <th>Logistic Regression</th>\n",
       "      <td>[{'C': 0.01, 'penalty': 'l2', 'solver': 'lbfgs'}]</td>\n",
       "      <td>0.846429</td>\n",
       "      <td>0.833333</td>\n",
       "      <td>{'C': 0.01, 'penalty': 'l2', 'solver': 'lbfgs'}</td>\n",
       "      <td>0.823036</td>\n",
       "      <td>0.833333</td>\n",
       "      <td>{'C': 0.1, 'penalty': 'l2', 'solver': 'lbfgs'}</td>\n",
       "      <td>0.817500</td>\n",
       "      <td>0.833333</td>\n",
       "      <td>{'C': 0.01, 'penalty': 'l2', 'solver': 'lbfgs'}</td>\n",
       "      <td>0.823036</td>\n",
       "      <td>0.833333</td>\n",
       "      <td>{'C': 0.01, 'penalty': 'l2', 'solver': 'lbfgs'}</td>\n",
       "      <td>0.825714</td>\n",
       "      <td>0.833333</td>\n",
       "      <td>{'C': 0.1, 'penalty': 'l2', 'solver': 'lbfgs'}</td>\n",
       "      <td>0.818214</td>\n",
       "      <td>0.833333</td>\n",
       "    </tr>\n",
       "    <tr>\n",
       "      <th>Support Vector Machine</th>\n",
       "      <td>[{'C': 1.0, 'gamma': 0.03162277660168379, 'ker...</td>\n",
       "      <td>0.848214</td>\n",
       "      <td>0.833333</td>\n",
       "      <td>{'C': 1.0, 'gamma': 0.03162277660168379, 'kern...</td>\n",
       "      <td>0.823929</td>\n",
       "      <td>0.833333</td>\n",
       "      <td>{'C': 1.0, 'gamma': 0.03162277660168379, 'kern...</td>\n",
       "      <td>0.843214</td>\n",
       "      <td>0.833333</td>\n",
       "      <td>{'C': 1.0, 'gamma': 0.03162277660168379, 'kern...</td>\n",
       "      <td>0.823929</td>\n",
       "      <td>0.833333</td>\n",
       "      <td>{'C': 1.0, 'gamma': 0.03162277660168379, 'kern...</td>\n",
       "      <td>0.829464</td>\n",
       "      <td>0.833333</td>\n",
       "      <td>{'C': 0.03162277660168379, 'gamma': 0.001, 'ke...</td>\n",
       "      <td>0.833393</td>\n",
       "      <td>0.833333</td>\n",
       "    </tr>\n",
       "    <tr>\n",
       "      <th>Decision Tree</th>\n",
       "      <td>[{'criterion': 'gini', 'max_depth': 10, 'max_f...</td>\n",
       "      <td>0.876786</td>\n",
       "      <td>0.777778</td>\n",
       "      <td>{'criterion': 'entropy', 'max_depth': 4, 'max_...</td>\n",
       "      <td>0.827321</td>\n",
       "      <td>0.833333</td>\n",
       "      <td>{'criterion': 'entropy', 'max_depth': 4, 'max_...</td>\n",
       "      <td>0.853393</td>\n",
       "      <td>0.833333</td>\n",
       "      <td>{'criterion': 'entropy', 'max_depth': 10, 'max...</td>\n",
       "      <td>0.739107</td>\n",
       "      <td>0.611111</td>\n",
       "      <td>{'criterion': 'gini', 'max_depth': 18, 'max_fe...</td>\n",
       "      <td>0.750714</td>\n",
       "      <td>0.611111</td>\n",
       "      <td>{'criterion': 'entropy', 'max_depth': 2, 'max_...</td>\n",
       "      <td>0.756607</td>\n",
       "      <td>0.555556</td>\n",
       "    </tr>\n",
       "    <tr>\n",
       "      <th>K Nearest Neighbor</th>\n",
       "      <td>[{'algorithm': 'auto', 'n_neighbors': 10, 'p':...</td>\n",
       "      <td>0.848214</td>\n",
       "      <td>0.833333</td>\n",
       "      <td>{'algorithm': 'auto', 'n_neighbors': 9, 'p': 1}</td>\n",
       "      <td>0.843571</td>\n",
       "      <td>0.833333</td>\n",
       "      <td>{'algorithm': 'auto', 'n_neighbors': 5, 'p': 1}</td>\n",
       "      <td>0.850536</td>\n",
       "      <td>0.777778</td>\n",
       "      <td>{'algorithm': 'auto', 'n_neighbors': 4, 'p': 2}</td>\n",
       "      <td>0.809107</td>\n",
       "      <td>0.777778</td>\n",
       "      <td>{'algorithm': 'auto', 'n_neighbors': 4, 'p': 2}</td>\n",
       "      <td>0.837321</td>\n",
       "      <td>0.777778</td>\n",
       "      <td>{'algorithm': 'auto', 'n_neighbors': 8, 'p': 1}</td>\n",
       "      <td>0.866786</td>\n",
       "      <td>0.722222</td>\n",
       "    </tr>\n",
       "  </tbody>\n",
       "</table>\n",
       "</div>"
      ],
      "text/plain": [
       "                                                          Best Parameters  \\\n",
       "Logistic Regression     [{'C': 0.01, 'penalty': 'l2', 'solver': 'lbfgs'}]   \n",
       "Support Vector Machine  [{'C': 1.0, 'gamma': 0.03162277660168379, 'ker...   \n",
       "Decision Tree           [{'criterion': 'gini', 'max_depth': 10, 'max_f...   \n",
       "K Nearest Neighbor      [{'algorithm': 'auto', 'n_neighbors': 10, 'p':...   \n",
       "\n",
       "                       Train Accuracy Test Accuracy  \\\n",
       "Logistic Regression          0.846429      0.833333   \n",
       "Support Vector Machine       0.848214      0.833333   \n",
       "Decision Tree                0.876786      0.777778   \n",
       "K Nearest Neighbor           0.848214      0.833333   \n",
       "\n",
       "                                                 RKF10x10 Best Parameters  \\\n",
       "Logistic Regression       {'C': 0.01, 'penalty': 'l2', 'solver': 'lbfgs'}   \n",
       "Support Vector Machine  {'C': 1.0, 'gamma': 0.03162277660168379, 'kern...   \n",
       "Decision Tree           {'criterion': 'entropy', 'max_depth': 4, 'max_...   \n",
       "K Nearest Neighbor        {'algorithm': 'auto', 'n_neighbors': 9, 'p': 1}   \n",
       "\n",
       "                        RKF10x10 Train Accuracy  RKF10x10 Test Accuracy  \\\n",
       "Logistic Regression                    0.823036                0.833333   \n",
       "Support Vector Machine                 0.823929                0.833333   \n",
       "Decision Tree                          0.827321                0.833333   \n",
       "K Nearest Neighbor                     0.843571                0.833333   \n",
       "\n",
       "                                             TT2 RKF10x10 Best Parameters  \\\n",
       "Logistic Regression        {'C': 0.1, 'penalty': 'l2', 'solver': 'lbfgs'}   \n",
       "Support Vector Machine  {'C': 1.0, 'gamma': 0.03162277660168379, 'kern...   \n",
       "Decision Tree           {'criterion': 'entropy', 'max_depth': 4, 'max_...   \n",
       "K Nearest Neighbor        {'algorithm': 'auto', 'n_neighbors': 5, 'p': 1}   \n",
       "\n",
       "                        TT2 RKF10x10 Train Accuracy  \\\n",
       "Logistic Regression                        0.817500   \n",
       "Support Vector Machine                     0.843214   \n",
       "Decision Tree                              0.853393   \n",
       "K Nearest Neighbor                         0.850536   \n",
       "\n",
       "                        TT2 RKF10x10 Test Accuracy  \\\n",
       "Logistic Regression                       0.833333   \n",
       "Support Vector Machine                    0.833333   \n",
       "Decision Tree                             0.833333   \n",
       "K Nearest Neighbor                        0.777778   \n",
       "\n",
       "                                             PCA RKF10x10 Best Parameters  \\\n",
       "Logistic Regression       {'C': 0.01, 'penalty': 'l2', 'solver': 'lbfgs'}   \n",
       "Support Vector Machine  {'C': 1.0, 'gamma': 0.03162277660168379, 'kern...   \n",
       "Decision Tree           {'criterion': 'entropy', 'max_depth': 10, 'max...   \n",
       "K Nearest Neighbor        {'algorithm': 'auto', 'n_neighbors': 4, 'p': 2}   \n",
       "\n",
       "                        PCA RKF10x10 Train Accuracy  \\\n",
       "Logistic Regression                        0.823036   \n",
       "Support Vector Machine                     0.823929   \n",
       "Decision Tree                              0.739107   \n",
       "K Nearest Neighbor                         0.809107   \n",
       "\n",
       "                        PCA RKF10x10 Test Accuracy  \\\n",
       "Logistic Regression                       0.833333   \n",
       "Support Vector Machine                    0.833333   \n",
       "Decision Tree                             0.611111   \n",
       "K Nearest Neighbor                        0.777778   \n",
       "\n",
       "                                         PCA(55) RKF10x10 Best Parameters  \\\n",
       "Logistic Regression       {'C': 0.01, 'penalty': 'l2', 'solver': 'lbfgs'}   \n",
       "Support Vector Machine  {'C': 1.0, 'gamma': 0.03162277660168379, 'kern...   \n",
       "Decision Tree           {'criterion': 'gini', 'max_depth': 18, 'max_fe...   \n",
       "K Nearest Neighbor        {'algorithm': 'auto', 'n_neighbors': 4, 'p': 2}   \n",
       "\n",
       "                        PCA(55) RKF10x10 Train Accuracy  \\\n",
       "Logistic Regression                            0.825714   \n",
       "Support Vector Machine                         0.829464   \n",
       "Decision Tree                                  0.750714   \n",
       "K Nearest Neighbor                             0.837321   \n",
       "\n",
       "                        PCA(55) RKF10x10 Test Accuracy  \\\n",
       "Logistic Regression                           0.833333   \n",
       "Support Vector Machine                        0.833333   \n",
       "Decision Tree                                 0.611111   \n",
       "K Nearest Neighbor                            0.777778   \n",
       "\n",
       "                                         PCA(17) RKF10x10 Best Parameters  \\\n",
       "Logistic Regression        {'C': 0.1, 'penalty': 'l2', 'solver': 'lbfgs'}   \n",
       "Support Vector Machine  {'C': 0.03162277660168379, 'gamma': 0.001, 'ke...   \n",
       "Decision Tree           {'criterion': 'entropy', 'max_depth': 2, 'max_...   \n",
       "K Nearest Neighbor        {'algorithm': 'auto', 'n_neighbors': 8, 'p': 1}   \n",
       "\n",
       "                        PCA(17) RKF10x10 Train Accuracy  \\\n",
       "Logistic Regression                            0.818214   \n",
       "Support Vector Machine                         0.833393   \n",
       "Decision Tree                                  0.756607   \n",
       "K Nearest Neighbor                             0.866786   \n",
       "\n",
       "                        PCA(17) RKF10x10 Test Accuracy  \n",
       "Logistic Regression                           0.833333  \n",
       "Support Vector Machine                        0.833333  \n",
       "Decision Tree                                 0.555556  \n",
       "K Nearest Neighbor                            0.722222  "
      ]
     },
     "execution_count": 79,
     "metadata": {},
     "output_type": "execute_result"
    }
   ],
   "source": [
    "df_results"
   ]
  },
  {
   "cell_type": "code",
   "execution_count": 80,
   "metadata": {},
   "outputs": [
    {
     "data": {
      "image/png": "[encoded data removed]",
      "text/plain": [
       "<Figure size 432x288 with 1 Axes>"
      ]
     },
     "metadata": {
      "needs_background": "light"
     },
     "output_type": "display_data"
    }
   ],
   "source": [
    "df_results.reset_index().plot(kind='bar',x='index',y=list(df_results.columns[dfinds][1:3]),rot=10,title='Tuned Model Results', xlabel='Model', ylabel='Accuracy');\n",
    "plt.legend(loc='upper left');\n",
    "plt.ylim([0.6,0.95]);"
   ]
  },
  {
   "cell_type": "markdown",
   "metadata": {
    "tags": []
   },
   "source": [
    "### Feature importance of original features"
   ]
  },
  {
   "cell_type": "markdown",
   "metadata": {},
   "source": [
    "First we examine the p-values of our current features:"
   ]
  },
  {
   "cell_type": "code",
   "execution_count": 81,
   "metadata": {},
   "outputs": [],
   "source": [
    "f = sklearn.feature_selection.f_classif(X, Y)"
   ]
  },
  {
   "cell_type": "code",
   "execution_count": 82,
   "metadata": {},
   "outputs": [
    {
     "data": {
      "text/html": [
       "<div>\n",
       "<style scoped>\n",
       "    .dataframe tbody tr th:only-of-type {\n",
       "        vertical-align: middle;\n",
       "    }\n",
       "\n",
       "    .dataframe tbody tr th {\n",
       "        vertical-align: top;\n",
       "    }\n",
       "\n",
       "    .dataframe thead th {\n",
       "        text-align: right;\n",
       "    }\n",
       "</style>\n",
       "<table border=\"1\" class=\"dataframe\">\n",
       "  <thead>\n",
       "    <tr style=\"text-align: right;\">\n",
       "      <th></th>\n",
       "      <th>F-Statistic</th>\n",
       "      <th>P-Value</th>\n",
       "    </tr>\n",
       "  </thead>\n",
       "  <tbody>\n",
       "    <tr>\n",
       "      <th>Legs_True</th>\n",
       "      <td>7.318398e+01</td>\n",
       "      <td>3.383519e-13</td>\n",
       "    </tr>\n",
       "    <tr>\n",
       "      <th>Legs_False</th>\n",
       "      <td>7.318398e+01</td>\n",
       "      <td>3.383519e-13</td>\n",
       "    </tr>\n",
       "    <tr>\n",
       "      <th>GridFins_True</th>\n",
       "      <td>6.187835e+01</td>\n",
       "      <td>8.683107e-12</td>\n",
       "    </tr>\n",
       "    <tr>\n",
       "      <th>GridFins_False</th>\n",
       "      <td>6.187835e+01</td>\n",
       "      <td>8.683107e-12</td>\n",
       "    </tr>\n",
       "    <tr>\n",
       "      <th>ReusedCount</th>\n",
       "      <td>2.448886e+01</td>\n",
       "      <td>3.564904e-06</td>\n",
       "    </tr>\n",
       "    <tr>\n",
       "      <th>Block</th>\n",
       "      <td>1.841751e+01</td>\n",
       "      <td>4.543415e-05</td>\n",
       "    </tr>\n",
       "    <tr>\n",
       "      <th>FlightNumber</th>\n",
       "      <td>1.695454e+01</td>\n",
       "      <td>8.615393e-05</td>\n",
       "    </tr>\n",
       "    <tr>\n",
       "      <th>LandingPad_5e9e3032383ecb6bb234e7ca</th>\n",
       "      <td>1.020290e+01</td>\n",
       "      <td>1.946502e-03</td>\n",
       "    </tr>\n",
       "    <tr>\n",
       "      <th>LandingPad_5e9e3032383ecb267a34e7c7</th>\n",
       "      <td>4.626709e+00</td>\n",
       "      <td>3.421866e-02</td>\n",
       "    </tr>\n",
       "    <tr>\n",
       "      <th>LandingPad_5e9e3032383ecb761634e7cb</th>\n",
       "      <td>4.190476e+00</td>\n",
       "      <td>4.363427e-02</td>\n",
       "    </tr>\n",
       "    <tr>\n",
       "      <th>LandingPad_5e9e3033383ecbb9e534e7cc</th>\n",
       "      <td>3.979899e+00</td>\n",
       "      <td>4.914028e-02</td>\n",
       "    </tr>\n",
       "    <tr>\n",
       "      <th>Reused_True</th>\n",
       "      <td>3.962697e+00</td>\n",
       "      <td>4.962197e-02</td>\n",
       "    </tr>\n",
       "    <tr>\n",
       "      <th>Reused_False</th>\n",
       "      <td>3.962697e+00</td>\n",
       "      <td>4.962197e-02</td>\n",
       "    </tr>\n",
       "    <tr>\n",
       "      <th>Orbit_GTO</th>\n",
       "      <td>3.889503e+00</td>\n",
       "      <td>5.172895e-02</td>\n",
       "    </tr>\n",
       "    <tr>\n",
       "      <th>PayloadMass</th>\n",
       "      <td>3.666345e+00</td>\n",
       "      <td>5.877053e-02</td>\n",
       "    </tr>\n",
       "    <tr>\n",
       "      <th>Serial_B1049</th>\n",
       "      <td>3.259259e+00</td>\n",
       "      <td>7.444098e-02</td>\n",
       "    </tr>\n",
       "    <tr>\n",
       "      <th>LaunchSite_CCAFS SLC 40</th>\n",
       "      <td>2.855457e+00</td>\n",
       "      <td>9.460422e-02</td>\n",
       "    </tr>\n",
       "    <tr>\n",
       "      <th>Orbit_VLEO</th>\n",
       "      <td>2.728682e+00</td>\n",
       "      <td>1.021247e-01</td>\n",
       "    </tr>\n",
       "    <tr>\n",
       "      <th>Orbit_SSO</th>\n",
       "      <td>2.666667e+00</td>\n",
       "      <td>1.060436e-01</td>\n",
       "    </tr>\n",
       "    <tr>\n",
       "      <th>Serial_B1051</th>\n",
       "      <td>2.666667e+00</td>\n",
       "      <td>1.060436e-01</td>\n",
       "    </tr>\n",
       "    <tr>\n",
       "      <th>Serial_B1059</th>\n",
       "      <td>2.095238e+00</td>\n",
       "      <td>1.513119e-01</td>\n",
       "    </tr>\n",
       "    <tr>\n",
       "      <th>Serial_B1016</th>\n",
       "      <td>2.022989e+00</td>\n",
       "      <td>1.584689e-01</td>\n",
       "    </tr>\n",
       "    <tr>\n",
       "      <th>Serial_B1017</th>\n",
       "      <td>2.022989e+00</td>\n",
       "      <td>1.584689e-01</td>\n",
       "    </tr>\n",
       "    <tr>\n",
       "      <th>Serial_B1018</th>\n",
       "      <td>2.022989e+00</td>\n",
       "      <td>1.584689e-01</td>\n",
       "    </tr>\n",
       "    <tr>\n",
       "      <th>Serial_B1054</th>\n",
       "      <td>2.022989e+00</td>\n",
       "      <td>1.584689e-01</td>\n",
       "    </tr>\n",
       "    <tr>\n",
       "      <th>Serial_B1020</th>\n",
       "      <td>2.022989e+00</td>\n",
       "      <td>1.584689e-01</td>\n",
       "    </tr>\n",
       "    <tr>\n",
       "      <th>Serial_B1050</th>\n",
       "      <td>2.022989e+00</td>\n",
       "      <td>1.584689e-01</td>\n",
       "    </tr>\n",
       "    <tr>\n",
       "      <th>Serial_B1034</th>\n",
       "      <td>2.022989e+00</td>\n",
       "      <td>1.584689e-01</td>\n",
       "    </tr>\n",
       "    <tr>\n",
       "      <th>Serial_B1030</th>\n",
       "      <td>2.022989e+00</td>\n",
       "      <td>1.584689e-01</td>\n",
       "    </tr>\n",
       "    <tr>\n",
       "      <th>Serial_B1015</th>\n",
       "      <td>2.022989e+00</td>\n",
       "      <td>1.584689e-01</td>\n",
       "    </tr>\n",
       "    <tr>\n",
       "      <th>Serial_B1044</th>\n",
       "      <td>2.022989e+00</td>\n",
       "      <td>1.584689e-01</td>\n",
       "    </tr>\n",
       "    <tr>\n",
       "      <th>Serial_B1028</th>\n",
       "      <td>2.022989e+00</td>\n",
       "      <td>1.584689e-01</td>\n",
       "    </tr>\n",
       "    <tr>\n",
       "      <th>Serial_B1037</th>\n",
       "      <td>2.022989e+00</td>\n",
       "      <td>1.584689e-01</td>\n",
       "    </tr>\n",
       "    <tr>\n",
       "      <th>Serial_B1012</th>\n",
       "      <td>2.022989e+00</td>\n",
       "      <td>1.584689e-01</td>\n",
       "    </tr>\n",
       "    <tr>\n",
       "      <th>Serial_B1008</th>\n",
       "      <td>2.022989e+00</td>\n",
       "      <td>1.584689e-01</td>\n",
       "    </tr>\n",
       "    <tr>\n",
       "      <th>Serial_B1010</th>\n",
       "      <td>2.022989e+00</td>\n",
       "      <td>1.584689e-01</td>\n",
       "    </tr>\n",
       "    <tr>\n",
       "      <th>Serial_B1005</th>\n",
       "      <td>2.022989e+00</td>\n",
       "      <td>1.584689e-01</td>\n",
       "    </tr>\n",
       "    <tr>\n",
       "      <th>Serial_B1004</th>\n",
       "      <td>2.022989e+00</td>\n",
       "      <td>1.584689e-01</td>\n",
       "    </tr>\n",
       "    <tr>\n",
       "      <th>Serial_B1003</th>\n",
       "      <td>2.022989e+00</td>\n",
       "      <td>1.584689e-01</td>\n",
       "    </tr>\n",
       "    <tr>\n",
       "      <th>Serial_B0007</th>\n",
       "      <td>2.022989e+00</td>\n",
       "      <td>1.584689e-01</td>\n",
       "    </tr>\n",
       "    <tr>\n",
       "      <th>Serial_B0005</th>\n",
       "      <td>2.022989e+00</td>\n",
       "      <td>1.584689e-01</td>\n",
       "    </tr>\n",
       "    <tr>\n",
       "      <th>Serial_B0003</th>\n",
       "      <td>2.022989e+00</td>\n",
       "      <td>1.584689e-01</td>\n",
       "    </tr>\n",
       "    <tr>\n",
       "      <th>Serial_B1011</th>\n",
       "      <td>2.022989e+00</td>\n",
       "      <td>1.584689e-01</td>\n",
       "    </tr>\n",
       "    <tr>\n",
       "      <th>Orbit_SO</th>\n",
       "      <td>2.022989e+00</td>\n",
       "      <td>1.584689e-01</td>\n",
       "    </tr>\n",
       "    <tr>\n",
       "      <th>Flights</th>\n",
       "      <td>2.019697e+00</td>\n",
       "      <td>1.588041e-01</td>\n",
       "    </tr>\n",
       "    <tr>\n",
       "      <th>Serial_B1058</th>\n",
       "      <td>1.543860e+00</td>\n",
       "      <td>2.173450e-01</td>\n",
       "    </tr>\n",
       "    <tr>\n",
       "      <th>Serial_B1060</th>\n",
       "      <td>1.543860e+00</td>\n",
       "      <td>2.173450e-01</td>\n",
       "    </tr>\n",
       "    <tr>\n",
       "      <th>LaunchSite_KSC LC 39A</th>\n",
       "      <td>1.465172e+00</td>\n",
       "      <td>2.293502e-01</td>\n",
       "    </tr>\n",
       "    <tr>\n",
       "      <th>Serial_B1036</th>\n",
       "      <td>1.011494e+00</td>\n",
       "      <td>3.173026e-01</td>\n",
       "    </tr>\n",
       "    <tr>\n",
       "      <th>Serial_B1035</th>\n",
       "      <td>1.011494e+00</td>\n",
       "      <td>3.173026e-01</td>\n",
       "    </tr>\n",
       "    <tr>\n",
       "      <th>Serial_B1032</th>\n",
       "      <td>1.011494e+00</td>\n",
       "      <td>3.173026e-01</td>\n",
       "    </tr>\n",
       "    <tr>\n",
       "      <th>LandingPad_5e9e3032383ecb554034e7c9</th>\n",
       "      <td>1.011494e+00</td>\n",
       "      <td>3.173026e-01</td>\n",
       "    </tr>\n",
       "    <tr>\n",
       "      <th>Serial_B1029</th>\n",
       "      <td>1.011494e+00</td>\n",
       "      <td>3.173026e-01</td>\n",
       "    </tr>\n",
       "    <tr>\n",
       "      <th>Serial_B1021</th>\n",
       "      <td>1.011494e+00</td>\n",
       "      <td>3.173026e-01</td>\n",
       "    </tr>\n",
       "    <tr>\n",
       "      <th>Serial_B1031</th>\n",
       "      <td>1.011494e+00</td>\n",
       "      <td>3.173026e-01</td>\n",
       "    </tr>\n",
       "    <tr>\n",
       "      <th>LaunchSite_VAFB SLC 4E</th>\n",
       "      <td>7.089627e-01</td>\n",
       "      <td>4.020708e-01</td>\n",
       "    </tr>\n",
       "    <tr>\n",
       "      <th>Serial_B1062</th>\n",
       "      <td>4.971751e-01</td>\n",
       "      <td>4.826061e-01</td>\n",
       "    </tr>\n",
       "    <tr>\n",
       "      <th>Serial_B1043</th>\n",
       "      <td>4.971751e-01</td>\n",
       "      <td>4.826061e-01</td>\n",
       "    </tr>\n",
       "    <tr>\n",
       "      <th>Serial_B1042</th>\n",
       "      <td>4.971751e-01</td>\n",
       "      <td>4.826061e-01</td>\n",
       "    </tr>\n",
       "    <tr>\n",
       "      <th>Serial_B1022</th>\n",
       "      <td>4.971751e-01</td>\n",
       "      <td>4.826061e-01</td>\n",
       "    </tr>\n",
       "    <tr>\n",
       "      <th>Orbit_ES-L1</th>\n",
       "      <td>4.971751e-01</td>\n",
       "      <td>4.826061e-01</td>\n",
       "    </tr>\n",
       "    <tr>\n",
       "      <th>Orbit_HEO</th>\n",
       "      <td>4.971751e-01</td>\n",
       "      <td>4.826061e-01</td>\n",
       "    </tr>\n",
       "    <tr>\n",
       "      <th>Serial_B1006</th>\n",
       "      <td>4.971751e-01</td>\n",
       "      <td>4.826061e-01</td>\n",
       "    </tr>\n",
       "    <tr>\n",
       "      <th>Serial_B1007</th>\n",
       "      <td>4.971751e-01</td>\n",
       "      <td>4.826061e-01</td>\n",
       "    </tr>\n",
       "    <tr>\n",
       "      <th>Serial_B1013</th>\n",
       "      <td>4.971751e-01</td>\n",
       "      <td>4.826061e-01</td>\n",
       "    </tr>\n",
       "    <tr>\n",
       "      <th>Orbit_GEO</th>\n",
       "      <td>4.971751e-01</td>\n",
       "      <td>4.826061e-01</td>\n",
       "    </tr>\n",
       "    <tr>\n",
       "      <th>Serial_B1023</th>\n",
       "      <td>4.971751e-01</td>\n",
       "      <td>4.826061e-01</td>\n",
       "    </tr>\n",
       "    <tr>\n",
       "      <th>Serial_B1025</th>\n",
       "      <td>4.971751e-01</td>\n",
       "      <td>4.826061e-01</td>\n",
       "    </tr>\n",
       "    <tr>\n",
       "      <th>Serial_B1019</th>\n",
       "      <td>4.971751e-01</td>\n",
       "      <td>4.826061e-01</td>\n",
       "    </tr>\n",
       "    <tr>\n",
       "      <th>Serial_B1026</th>\n",
       "      <td>4.971751e-01</td>\n",
       "      <td>4.826061e-01</td>\n",
       "    </tr>\n",
       "    <tr>\n",
       "      <th>Serial_B1038</th>\n",
       "      <td>4.971751e-01</td>\n",
       "      <td>4.826061e-01</td>\n",
       "    </tr>\n",
       "    <tr>\n",
       "      <th>Orbit_ISS</th>\n",
       "      <td>2.741433e-01</td>\n",
       "      <td>6.018819e-01</td>\n",
       "    </tr>\n",
       "    <tr>\n",
       "      <th>Serial_B1040</th>\n",
       "      <td>2.507123e-01</td>\n",
       "      <td>6.178241e-01</td>\n",
       "    </tr>\n",
       "    <tr>\n",
       "      <th>Serial_B1045</th>\n",
       "      <td>2.507123e-01</td>\n",
       "      <td>6.178241e-01</td>\n",
       "    </tr>\n",
       "    <tr>\n",
       "      <th>Serial_B1039</th>\n",
       "      <td>2.507123e-01</td>\n",
       "      <td>6.178241e-01</td>\n",
       "    </tr>\n",
       "    <tr>\n",
       "      <th>Serial_B1041</th>\n",
       "      <td>2.507123e-01</td>\n",
       "      <td>6.178241e-01</td>\n",
       "    </tr>\n",
       "    <tr>\n",
       "      <th>Serial_B1046</th>\n",
       "      <td>1.280932e-01</td>\n",
       "      <td>7.212744e-01</td>\n",
       "    </tr>\n",
       "    <tr>\n",
       "      <th>Serial_B1056</th>\n",
       "      <td>1.280932e-01</td>\n",
       "      <td>7.212744e-01</td>\n",
       "    </tr>\n",
       "    <tr>\n",
       "      <th>Serial_B1048</th>\n",
       "      <td>1.280932e-01</td>\n",
       "      <td>7.212744e-01</td>\n",
       "    </tr>\n",
       "    <tr>\n",
       "      <th>Orbit_LEO</th>\n",
       "      <td>7.579673e-02</td>\n",
       "      <td>7.837219e-01</td>\n",
       "    </tr>\n",
       "    <tr>\n",
       "      <th>Serial_B1047</th>\n",
       "      <td>2.410408e-33</td>\n",
       "      <td>1.000000e+00</td>\n",
       "    </tr>\n",
       "    <tr>\n",
       "      <th>Orbit_PO</th>\n",
       "      <td>1.741520e-31</td>\n",
       "      <td>1.000000e+00</td>\n",
       "    </tr>\n",
       "    <tr>\n",
       "      <th>Orbit_MEO</th>\n",
       "      <td>4.392969e-31</td>\n",
       "      <td>1.000000e+00</td>\n",
       "    </tr>\n",
       "  </tbody>\n",
       "</table>\n",
       "</div>"
      ],
      "text/plain": [
       "                                      F-Statistic       P-Value\n",
       "Legs_True                            7.318398e+01  3.383519e-13\n",
       "Legs_False                           7.318398e+01  3.383519e-13\n",
       "GridFins_True                        6.187835e+01  8.683107e-12\n",
       "GridFins_False                       6.187835e+01  8.683107e-12\n",
       "ReusedCount                          2.448886e+01  3.564904e-06\n",
       "Block                                1.841751e+01  4.543415e-05\n",
       "FlightNumber                         1.695454e+01  8.615393e-05\n",
       "LandingPad_5e9e3032383ecb6bb234e7ca  1.020290e+01  1.946502e-03\n",
       "LandingPad_5e9e3032383ecb267a34e7c7  4.626709e+00  3.421866e-02\n",
       "LandingPad_5e9e3032383ecb761634e7cb  4.190476e+00  4.363427e-02\n",
       "LandingPad_5e9e3033383ecbb9e534e7cc  3.979899e+00  4.914028e-02\n",
       "Reused_True                          3.962697e+00  4.962197e-02\n",
       "Reused_False                         3.962697e+00  4.962197e-02\n",
       "Orbit_GTO                            3.889503e+00  5.172895e-02\n",
       "PayloadMass                          3.666345e+00  5.877053e-02\n",
       "Serial_B1049                         3.259259e+00  7.444098e-02\n",
       "LaunchSite_CCAFS SLC 40              2.855457e+00  9.460422e-02\n",
       "Orbit_VLEO                           2.728682e+00  1.021247e-01\n",
       "Orbit_SSO                            2.666667e+00  1.060436e-01\n",
       "Serial_B1051                         2.666667e+00  1.060436e-01\n",
       "Serial_B1059                         2.095238e+00  1.513119e-01\n",
       "Serial_B1016                         2.022989e+00  1.584689e-01\n",
       "Serial_B1017                         2.022989e+00  1.584689e-01\n",
       "Serial_B1018                         2.022989e+00  1.584689e-01\n",
       "Serial_B1054                         2.022989e+00  1.584689e-01\n",
       "Serial_B1020                         2.022989e+00  1.584689e-01\n",
       "Serial_B1050                         2.022989e+00  1.584689e-01\n",
       "Serial_B1034                         2.022989e+00  1.584689e-01\n",
       "Serial_B1030                         2.022989e+00  1.584689e-01\n",
       "Serial_B1015                         2.022989e+00  1.584689e-01\n",
       "Serial_B1044                         2.022989e+00  1.584689e-01\n",
       "Serial_B1028                         2.022989e+00  1.584689e-01\n",
       "Serial_B1037                         2.022989e+00  1.584689e-01\n",
       "Serial_B1012                         2.022989e+00  1.584689e-01\n",
       "Serial_B1008                         2.022989e+00  1.584689e-01\n",
       "Serial_B1010                         2.022989e+00  1.584689e-01\n",
       "Serial_B1005                         2.022989e+00  1.584689e-01\n",
       "Serial_B1004                         2.022989e+00  1.584689e-01\n",
       "Serial_B1003                         2.022989e+00  1.584689e-01\n",
       "Serial_B0007                         2.022989e+00  1.584689e-01\n",
       "Serial_B0005                         2.022989e+00  1.584689e-01\n",
       "Serial_B0003                         2.022989e+00  1.584689e-01\n",
       "Serial_B1011                         2.022989e+00  1.584689e-01\n",
       "Orbit_SO                             2.022989e+00  1.584689e-01\n",
       "Flights                              2.019697e+00  1.588041e-01\n",
       "Serial_B1058                         1.543860e+00  2.173450e-01\n",
       "Serial_B1060                         1.543860e+00  2.173450e-01\n",
       "LaunchSite_KSC LC 39A                1.465172e+00  2.293502e-01\n",
       "Serial_B1036                         1.011494e+00  3.173026e-01\n",
       "Serial_B1035                         1.011494e+00  3.173026e-01\n",
       "Serial_B1032                         1.011494e+00  3.173026e-01\n",
       "LandingPad_5e9e3032383ecb554034e7c9  1.011494e+00  3.173026e-01\n",
       "Serial_B1029                         1.011494e+00  3.173026e-01\n",
       "Serial_B1021                         1.011494e+00  3.173026e-01\n",
       "Serial_B1031                         1.011494e+00  3.173026e-01\n",
       "LaunchSite_VAFB SLC 4E               7.089627e-01  4.020708e-01\n",
       "Serial_B1062                         4.971751e-01  4.826061e-01\n",
       "Serial_B1043                         4.971751e-01  4.826061e-01\n",
       "Serial_B1042                         4.971751e-01  4.826061e-01\n",
       "Serial_B1022                         4.971751e-01  4.826061e-01\n",
       "Orbit_ES-L1                          4.971751e-01  4.826061e-01\n",
       "Orbit_HEO                            4.971751e-01  4.826061e-01\n",
       "Serial_B1006                         4.971751e-01  4.826061e-01\n",
       "Serial_B1007                         4.971751e-01  4.826061e-01\n",
       "Serial_B1013                         4.971751e-01  4.826061e-01\n",
       "Orbit_GEO                            4.971751e-01  4.826061e-01\n",
       "Serial_B1023                         4.971751e-01  4.826061e-01\n",
       "Serial_B1025                         4.971751e-01  4.826061e-01\n",
       "Serial_B1019                         4.971751e-01  4.826061e-01\n",
       "Serial_B1026                         4.971751e-01  4.826061e-01\n",
       "Serial_B1038                         4.971751e-01  4.826061e-01\n",
       "Orbit_ISS                            2.741433e-01  6.018819e-01\n",
       "Serial_B1040                         2.507123e-01  6.178241e-01\n",
       "Serial_B1045                         2.507123e-01  6.178241e-01\n",
       "Serial_B1039                         2.507123e-01  6.178241e-01\n",
       "Serial_B1041                         2.507123e-01  6.178241e-01\n",
       "Serial_B1046                         1.280932e-01  7.212744e-01\n",
       "Serial_B1056                         1.280932e-01  7.212744e-01\n",
       "Serial_B1048                         1.280932e-01  7.212744e-01\n",
       "Orbit_LEO                            7.579673e-02  7.837219e-01\n",
       "Serial_B1047                         2.410408e-33  1.000000e+00\n",
       "Orbit_PO                             1.741520e-31  1.000000e+00\n",
       "Orbit_MEO                            4.392969e-31  1.000000e+00"
      ]
     },
     "execution_count": 82,
     "metadata": {},
     "output_type": "execute_result"
    }
   ],
   "source": [
    "df_f = pd.DataFrame(f, columns=features.columns, index=['F-Statistic','P-Value']).T.sort_values('P-Value')\n",
    "pd.set_option('display.max_rows', None)\n",
    "df_f"
   ]
  },
  {
   "cell_type": "code",
   "execution_count": 83,
   "metadata": {},
   "outputs": [
    {
     "data": {
      "image/png": "[encoded data removed]",
      "text/plain": [
       "<Figure size 432x288 with 1 Axes>"
      ]
     },
     "metadata": {
      "needs_background": "light"
     },
     "output_type": "display_data"
    }
   ],
   "source": [
    "df_f.reset_index().plot(x='index',y='P-Value',logy=True,label='Feature p-value')\n",
    "plt.plot([0,82],[0.05,0.05],label='Cutoff p-value')\n",
    "plt.legend();"
   ]
  },
  {
   "cell_type": "code",
   "execution_count": 84,
   "metadata": {},
   "outputs": [
    {
     "name": "stdout",
     "output_type": "stream",
     "text": [
      "There are 13 features significant at the p=0.05 level\n"
     ]
    },
    {
     "data": {
      "text/html": [
       "<div>\n",
       "<style scoped>\n",
       "    .dataframe tbody tr th:only-of-type {\n",
       "        vertical-align: middle;\n",
       "    }\n",
       "\n",
       "    .dataframe tbody tr th {\n",
       "        vertical-align: top;\n",
       "    }\n",
       "\n",
       "    .dataframe thead th {\n",
       "        text-align: right;\n",
       "    }\n",
       "</style>\n",
       "<table border=\"1\" class=\"dataframe\">\n",
       "  <thead>\n",
       "    <tr style=\"text-align: right;\">\n",
       "      <th></th>\n",
       "      <th>F-Statistic</th>\n",
       "      <th>P-Value</th>\n",
       "    </tr>\n",
       "  </thead>\n",
       "  <tbody>\n",
       "    <tr>\n",
       "      <th>Legs_True</th>\n",
       "      <td>73.183978</td>\n",
       "      <td>3.383519e-13</td>\n",
       "    </tr>\n",
       "    <tr>\n",
       "      <th>Legs_False</th>\n",
       "      <td>73.183978</td>\n",
       "      <td>3.383519e-13</td>\n",
       "    </tr>\n",
       "    <tr>\n",
       "      <th>GridFins_True</th>\n",
       "      <td>61.878345</td>\n",
       "      <td>8.683107e-12</td>\n",
       "    </tr>\n",
       "    <tr>\n",
       "      <th>GridFins_False</th>\n",
       "      <td>61.878345</td>\n",
       "      <td>8.683107e-12</td>\n",
       "    </tr>\n",
       "    <tr>\n",
       "      <th>ReusedCount</th>\n",
       "      <td>24.488856</td>\n",
       "      <td>3.564904e-06</td>\n",
       "    </tr>\n",
       "    <tr>\n",
       "      <th>Block</th>\n",
       "      <td>18.417512</td>\n",
       "      <td>4.543415e-05</td>\n",
       "    </tr>\n",
       "    <tr>\n",
       "      <th>FlightNumber</th>\n",
       "      <td>16.954541</td>\n",
       "      <td>8.615393e-05</td>\n",
       "    </tr>\n",
       "    <tr>\n",
       "      <th>LandingPad_5e9e3032383ecb6bb234e7ca</th>\n",
       "      <td>10.202899</td>\n",
       "      <td>1.946502e-03</td>\n",
       "    </tr>\n",
       "    <tr>\n",
       "      <th>LandingPad_5e9e3032383ecb267a34e7c7</th>\n",
       "      <td>4.626709</td>\n",
       "      <td>3.421866e-02</td>\n",
       "    </tr>\n",
       "    <tr>\n",
       "      <th>LandingPad_5e9e3032383ecb761634e7cb</th>\n",
       "      <td>4.190476</td>\n",
       "      <td>4.363427e-02</td>\n",
       "    </tr>\n",
       "    <tr>\n",
       "      <th>LandingPad_5e9e3033383ecbb9e534e7cc</th>\n",
       "      <td>3.979899</td>\n",
       "      <td>4.914028e-02</td>\n",
       "    </tr>\n",
       "    <tr>\n",
       "      <th>Reused_True</th>\n",
       "      <td>3.962697</td>\n",
       "      <td>4.962197e-02</td>\n",
       "    </tr>\n",
       "    <tr>\n",
       "      <th>Reused_False</th>\n",
       "      <td>3.962697</td>\n",
       "      <td>4.962197e-02</td>\n",
       "    </tr>\n",
       "  </tbody>\n",
       "</table>\n",
       "</div>"
      ],
      "text/plain": [
       "                                     F-Statistic       P-Value\n",
       "Legs_True                              73.183978  3.383519e-13\n",
       "Legs_False                             73.183978  3.383519e-13\n",
       "GridFins_True                          61.878345  8.683107e-12\n",
       "GridFins_False                         61.878345  8.683107e-12\n",
       "ReusedCount                            24.488856  3.564904e-06\n",
       "Block                                  18.417512  4.543415e-05\n",
       "FlightNumber                           16.954541  8.615393e-05\n",
       "LandingPad_5e9e3032383ecb6bb234e7ca    10.202899  1.946502e-03\n",
       "LandingPad_5e9e3032383ecb267a34e7c7     4.626709  3.421866e-02\n",
       "LandingPad_5e9e3032383ecb761634e7cb     4.190476  4.363427e-02\n",
       "LandingPad_5e9e3033383ecbb9e534e7cc     3.979899  4.914028e-02\n",
       "Reused_True                             3.962697  4.962197e-02\n",
       "Reused_False                            3.962697  4.962197e-02"
      ]
     },
     "execution_count": 84,
     "metadata": {},
     "output_type": "execute_result"
    }
   ],
   "source": [
    "threshold = 0.05\n",
    "print('There are',sum(df_f['P-Value']<threshold),f'features significant at the p={threshold} level')\n",
    "df_f.loc[df_f['P-Value']<threshold,:]"
   ]
  },
  {
   "cell_type": "markdown",
   "metadata": {},
   "source": [
    "Next we fit to just these features; again we expect there to be no improvement in the maximum predictive accuracy."
   ]
  },
  {
   "cell_type": "code",
   "execution_count": 85,
   "metadata": {},
   "outputs": [],
   "source": [
    "cols = df_f.loc[df_f['P-Value']<threshold,:].index"
   ]
  },
  {
   "cell_type": "code",
   "execution_count": 86,
   "metadata": {},
   "outputs": [],
   "source": [
    "X_train, X_test, Y_train, Y_test = train_test_split(X[:,[x in cols for x in features.columns]], Y, test_size=0.2, random_state=2)"
   ]
  },
  {
   "cell_type": "code",
   "execution_count": 87,
   "metadata": {},
   "outputs": [],
   "source": [
    "dfinds = [18, 19, 20]"
   ]
  },
  {
   "cell_type": "code",
   "execution_count": 88,
   "metadata": {},
   "outputs": [],
   "source": [
    "df_results.insert(dfinds[0],'P-Value(13) RKF10x10 Best Parameters',0)\n",
    "df_results.insert(dfinds[1],'P-Value(13) RKF10x10 Train Accuracy',0)\n",
    "df_results.insert(dfinds[2],'P-Value(13) RKF10x10 Test Accuracy',0)"
   ]
  },
  {
   "cell_type": "code",
   "execution_count": 89,
   "metadata": {},
   "outputs": [
    {
     "name": "stdout",
     "output_type": "stream",
     "text": [
      "LOGISTIC REGRESSION\n",
      "tuned hpyerparameters :(best parameters)  {'C': 0.1, 'penalty': 'l2', 'solver': 'lbfgs'}\n",
      "train accuracy : 0.832142857142857\n",
      "test accuracy: 0.8333333333333334\n",
      "Wall time: 1.27 s\n"
     ]
    },
    {
     "data": {
      "image/png": "[encoded data removed]",
      "text/plain": [
       "<Figure size 432x288 with 2 Axes>"
      ]
     },
     "metadata": {
      "needs_background": "light"
     },
     "output_type": "display_data"
    }
   ],
   "source": [
    "%%time\n",
    "print('LOGISTIC REGRESSION')\n",
    "cv = RepeatedKFold(n_splits=10, n_repeats=10, random_state=2)\n",
    "parameters ={'C':[0.01,0.1,1],\n",
    "             'penalty':['l2'], # l1 lasso l2 ridge\n",
    "             'solver':['lbfgs'] # ‘newton-cg’, ‘lbfgs’, ‘liblinear’, ‘sag’, ‘saga’\n",
    "            }\n",
    "est=LogisticRegression()\n",
    "grid = GridSearchCV(estimator=est, param_grid=parameters, scoring=None, n_jobs=1, cv=cv)\n",
    "grid.fit(X_train,Y_train)\n",
    "print(\"tuned hpyerparameters :(best parameters) \",grid.best_params_)\n",
    "print(\"train accuracy :\",grid.best_score_)\n",
    "print(\"test accuracy:\",grid.score(X_test, Y_test))\n",
    "yhat=grid.predict(X_test)\n",
    "plot_confusion_matrix(Y_test,yhat)\n",
    "ii = 0\n",
    "df_results.iloc[ii,dfinds[0]] = [grid.best_params_]\n",
    "df_results.iloc[ii,dfinds[1]] = grid.best_score_\n",
    "df_results.iloc[ii,dfinds[2]] = grid.score(X_test, Y_test)"
   ]
  },
  {
   "cell_type": "code",
   "execution_count": 90,
   "metadata": {},
   "outputs": [
    {
     "name": "stdout",
     "output_type": "stream",
     "text": [
      "SUPPORT VECTOR MACHINE\n",
      "tuned hpyerparameters :(best parameters)  {'C': 31.622776601683793, 'gamma': 31.622776601683793, 'kernel': 'rbf'}\n",
      "train accuracy : 0.8819642857142856\n",
      "test accuracy: 0.8333333333333334\n",
      "Wall time: 2min 30s\n"
     ]
    },
    {
     "data": {
      "image/png": "[encoded data removed]",
      "text/plain": [
       "<Figure size 432x288 with 2 Axes>"
      ]
     },
     "metadata": {
      "needs_background": "light"
     },
     "output_type": "display_data"
    }
   ],
   "source": [
    "%%time\n",
    "print('SUPPORT VECTOR MACHINE')\n",
    "cv = RepeatedKFold(n_splits=10, n_repeats=10, random_state=2)\n",
    "parameters = {'kernel':('linear', 'rbf','poly','rbf', 'sigmoid'),\n",
    "              'C': np.logspace(-3, 3, 5),\n",
    "              'gamma':np.logspace(-3, 3, 5)}\n",
    "est = SVC()\n",
    "grid = GridSearchCV(estimator=est, param_grid=parameters, scoring=None, n_jobs=1, cv=cv)\n",
    "grid.fit(X_train,Y_train)\n",
    "print(\"tuned hpyerparameters :(best parameters) \",grid.best_params_)\n",
    "print(\"train accuracy :\",grid.best_score_)\n",
    "print(\"test accuracy:\",grid.score(X_test, Y_test))\n",
    "yhat=grid.predict(X_test)\n",
    "plot_confusion_matrix(Y_test,yhat)\n",
    "ii = 1\n",
    "df_results.iloc[ii,dfinds[0]] = [grid.best_params_]\n",
    "df_results.iloc[ii,dfinds[1]] = grid.best_score_\n",
    "df_results.iloc[ii,dfinds[2]] = grid.score(X_test, Y_test)"
   ]
  },
  {
   "cell_type": "code",
   "execution_count": 91,
   "metadata": {},
   "outputs": [
    {
     "name": "stdout",
     "output_type": "stream",
     "text": [
      "DECISION TREE\n",
      "tuned hpyerparameters :(best parameters)  {'criterion': 'gini', 'max_depth': 12, 'max_features': 'auto', 'min_samples_leaf': 1, 'min_samples_split': 2, 'splitter': 'best'}\n",
      "train accuracy : 0.8576785714285714\n",
      "test accuracy: 0.7777777777777778\n",
      "Wall time: 1min 27s\n"
     ]
    },
    {
     "data": {
      "image/png": "[encoded data removed]",
      "text/plain": [
       "<Figure size 432x288 with 2 Axes>"
      ]
     },
     "metadata": {
      "needs_background": "light"
     },
     "output_type": "display_data"
    }
   ],
   "source": [
    "%%time\n",
    "print('DECISION TREE')\n",
    "cv = RepeatedKFold(n_splits=10, n_repeats=10, random_state=2)\n",
    "parameters = {'criterion': ['gini', 'entropy'],\n",
    "     'splitter': ['best', 'random'],\n",
    "     'max_depth': [2*n for n in range(1,10)],\n",
    "     'max_features': ['auto', 'sqrt'],\n",
    "     'min_samples_leaf': [1, 2, 4],\n",
    "     'min_samples_split': [2, 5, 10]}\n",
    "est = DecisionTreeClassifier()\n",
    "grid = GridSearchCV(estimator=est, param_grid=parameters, scoring=None, n_jobs=1, cv=cv)\n",
    "grid.fit(X_train,Y_train)\n",
    "print(\"tuned hpyerparameters :(best parameters) \",grid.best_params_)\n",
    "print(\"train accuracy :\",grid.best_score_)\n",
    "print(\"test accuracy:\",grid.score(X_test, Y_test))\n",
    "yhat=grid.predict(X_test)\n",
    "plot_confusion_matrix(Y_test,yhat)\n",
    "ii = 2\n",
    "df_results.iloc[ii,dfinds[0]] = [grid.best_params_]\n",
    "df_results.iloc[ii,dfinds[1]] = grid.best_score_\n",
    "df_results.iloc[ii,dfinds[2]] = grid.score(X_test, Y_test)"
   ]
  },
  {
   "cell_type": "code",
   "execution_count": 92,
   "metadata": {},
   "outputs": [
    {
     "name": "stdout",
     "output_type": "stream",
     "text": [
      "K NEAREST NEIGHBORS\n",
      "tuned hpyerparameters :(best parameters)  {'algorithm': 'auto', 'n_neighbors': 1, 'p': 2}\n",
      "train accuracy : 0.8673214285714286\n",
      "test accuracy: 0.8333333333333334\n",
      "Wall time: 15.3 s\n"
     ]
    },
    {
     "data": {
      "image/png": "[encoded data removed]",
      "text/plain": [
       "<Figure size 432x288 with 2 Axes>"
      ]
     },
     "metadata": {
      "needs_background": "light"
     },
     "output_type": "display_data"
    }
   ],
   "source": [
    "%%time\n",
    "print('K NEAREST NEIGHBORS')\n",
    "cv = RepeatedKFold(n_splits=10, n_repeats=10, random_state=2)\n",
    "parameters = {'n_neighbors': [1, 2, 3, 4, 5, 6, 7, 8, 9, 10],\n",
    "              'algorithm': ['auto', 'ball_tree', 'kd_tree', 'brute'],\n",
    "              'p': [1,2]}\n",
    "est = KNeighborsClassifier()\n",
    "grid = GridSearchCV(estimator=est, param_grid=parameters, scoring=None, n_jobs=1, cv=cv)\n",
    "grid.fit(X_train,Y_train)\n",
    "print(\"tuned hpyerparameters :(best parameters) \",grid.best_params_)\n",
    "print(\"train accuracy :\",grid.best_score_)\n",
    "print(\"test accuracy:\",grid.score(X_test, Y_test))\n",
    "yhat=grid.predict(X_test)\n",
    "plot_confusion_matrix(Y_test,yhat)\n",
    "ii = 3\n",
    "df_results.iloc[ii,dfinds[0]] = [grid.best_params_]\n",
    "df_results.iloc[ii,dfinds[1]] = grid.best_score_\n",
    "df_results.iloc[ii,dfinds[2]] = grid.score(X_test, Y_test)"
   ]
  },
  {
   "cell_type": "markdown",
   "metadata": {},
   "source": [
    "This time only the Decision Tree is suboptimal, but note that training set fits are the best yet, indicating potential for better fitting."
   ]
  },
  {
   "cell_type": "code",
   "execution_count": 93,
   "metadata": {},
   "outputs": [
    {
     "data": {
      "text/html": [
       "<div>\n",
       "<style scoped>\n",
       "    .dataframe tbody tr th:only-of-type {\n",
       "        vertical-align: middle;\n",
       "    }\n",
       "\n",
       "    .dataframe tbody tr th {\n",
       "        vertical-align: top;\n",
       "    }\n",
       "\n",
       "    .dataframe thead th {\n",
       "        text-align: right;\n",
       "    }\n",
       "</style>\n",
       "<table border=\"1\" class=\"dataframe\">\n",
       "  <thead>\n",
       "    <tr style=\"text-align: right;\">\n",
       "      <th></th>\n",
       "      <th>Best Parameters</th>\n",
       "      <th>Train Accuracy</th>\n",
       "      <th>Test Accuracy</th>\n",
       "      <th>RKF10x10 Best Parameters</th>\n",
       "      <th>RKF10x10 Train Accuracy</th>\n",
       "      <th>RKF10x10 Test Accuracy</th>\n",
       "      <th>TT2 RKF10x10 Best Parameters</th>\n",
       "      <th>TT2 RKF10x10 Train Accuracy</th>\n",
       "      <th>TT2 RKF10x10 Test Accuracy</th>\n",
       "      <th>PCA RKF10x10 Best Parameters</th>\n",
       "      <th>...</th>\n",
       "      <th>PCA RKF10x10 Test Accuracy</th>\n",
       "      <th>PCA(55) RKF10x10 Best Parameters</th>\n",
       "      <th>PCA(55) RKF10x10 Train Accuracy</th>\n",
       "      <th>PCA(55) RKF10x10 Test Accuracy</th>\n",
       "      <th>PCA(17) RKF10x10 Best Parameters</th>\n",
       "      <th>PCA(17) RKF10x10 Train Accuracy</th>\n",
       "      <th>PCA(17) RKF10x10 Test Accuracy</th>\n",
       "      <th>P-Value(13) RKF10x10 Best Parameters</th>\n",
       "      <th>P-Value(13) RKF10x10 Train Accuracy</th>\n",
       "      <th>P-Value(13) RKF10x10 Test Accuracy</th>\n",
       "    </tr>\n",
       "  </thead>\n",
       "  <tbody>\n",
       "    <tr>\n",
       "      <th>Logistic Regression</th>\n",
       "      <td>[{'C': 0.01, 'penalty': 'l2', 'solver': 'lbfgs'}]</td>\n",
       "      <td>0.846429</td>\n",
       "      <td>0.833333</td>\n",
       "      <td>{'C': 0.01, 'penalty': 'l2', 'solver': 'lbfgs'}</td>\n",
       "      <td>0.823036</td>\n",
       "      <td>0.833333</td>\n",
       "      <td>{'C': 0.1, 'penalty': 'l2', 'solver': 'lbfgs'}</td>\n",
       "      <td>0.817500</td>\n",
       "      <td>0.833333</td>\n",
       "      <td>{'C': 0.01, 'penalty': 'l2', 'solver': 'lbfgs'}</td>\n",
       "      <td>...</td>\n",
       "      <td>0.833333</td>\n",
       "      <td>{'C': 0.01, 'penalty': 'l2', 'solver': 'lbfgs'}</td>\n",
       "      <td>0.825714</td>\n",
       "      <td>0.833333</td>\n",
       "      <td>{'C': 0.1, 'penalty': 'l2', 'solver': 'lbfgs'}</td>\n",
       "      <td>0.818214</td>\n",
       "      <td>0.833333</td>\n",
       "      <td>{'C': 0.1, 'penalty': 'l2', 'solver': 'lbfgs'}</td>\n",
       "      <td>0.832143</td>\n",
       "      <td>0.833333</td>\n",
       "    </tr>\n",
       "    <tr>\n",
       "      <th>Support Vector Machine</th>\n",
       "      <td>[{'C': 1.0, 'gamma': 0.03162277660168379, 'ker...</td>\n",
       "      <td>0.848214</td>\n",
       "      <td>0.833333</td>\n",
       "      <td>{'C': 1.0, 'gamma': 0.03162277660168379, 'kern...</td>\n",
       "      <td>0.823929</td>\n",
       "      <td>0.833333</td>\n",
       "      <td>{'C': 1.0, 'gamma': 0.03162277660168379, 'kern...</td>\n",
       "      <td>0.843214</td>\n",
       "      <td>0.833333</td>\n",
       "      <td>{'C': 1.0, 'gamma': 0.03162277660168379, 'kern...</td>\n",
       "      <td>...</td>\n",
       "      <td>0.833333</td>\n",
       "      <td>{'C': 1.0, 'gamma': 0.03162277660168379, 'kern...</td>\n",
       "      <td>0.829464</td>\n",
       "      <td>0.833333</td>\n",
       "      <td>{'C': 0.03162277660168379, 'gamma': 0.001, 'ke...</td>\n",
       "      <td>0.833393</td>\n",
       "      <td>0.833333</td>\n",
       "      <td>{'C': 31.622776601683793, 'gamma': 31.62277660...</td>\n",
       "      <td>0.881964</td>\n",
       "      <td>0.833333</td>\n",
       "    </tr>\n",
       "    <tr>\n",
       "      <th>Decision Tree</th>\n",
       "      <td>[{'criterion': 'gini', 'max_depth': 10, 'max_f...</td>\n",
       "      <td>0.876786</td>\n",
       "      <td>0.777778</td>\n",
       "      <td>{'criterion': 'entropy', 'max_depth': 4, 'max_...</td>\n",
       "      <td>0.827321</td>\n",
       "      <td>0.833333</td>\n",
       "      <td>{'criterion': 'entropy', 'max_depth': 4, 'max_...</td>\n",
       "      <td>0.853393</td>\n",
       "      <td>0.833333</td>\n",
       "      <td>{'criterion': 'entropy', 'max_depth': 10, 'max...</td>\n",
       "      <td>...</td>\n",
       "      <td>0.611111</td>\n",
       "      <td>{'criterion': 'gini', 'max_depth': 18, 'max_fe...</td>\n",
       "      <td>0.750714</td>\n",
       "      <td>0.611111</td>\n",
       "      <td>{'criterion': 'entropy', 'max_depth': 2, 'max_...</td>\n",
       "      <td>0.756607</td>\n",
       "      <td>0.555556</td>\n",
       "      <td>{'criterion': 'gini', 'max_depth': 12, 'max_fe...</td>\n",
       "      <td>0.857679</td>\n",
       "      <td>0.777778</td>\n",
       "    </tr>\n",
       "    <tr>\n",
       "      <th>K Nearest Neighbor</th>\n",
       "      <td>[{'algorithm': 'auto', 'n_neighbors': 10, 'p':...</td>\n",
       "      <td>0.848214</td>\n",
       "      <td>0.833333</td>\n",
       "      <td>{'algorithm': 'auto', 'n_neighbors': 9, 'p': 1}</td>\n",
       "      <td>0.843571</td>\n",
       "      <td>0.833333</td>\n",
       "      <td>{'algorithm': 'auto', 'n_neighbors': 5, 'p': 1}</td>\n",
       "      <td>0.850536</td>\n",
       "      <td>0.777778</td>\n",
       "      <td>{'algorithm': 'auto', 'n_neighbors': 4, 'p': 2}</td>\n",
       "      <td>...</td>\n",
       "      <td>0.777778</td>\n",
       "      <td>{'algorithm': 'auto', 'n_neighbors': 4, 'p': 2}</td>\n",
       "      <td>0.837321</td>\n",
       "      <td>0.777778</td>\n",
       "      <td>{'algorithm': 'auto', 'n_neighbors': 8, 'p': 1}</td>\n",
       "      <td>0.866786</td>\n",
       "      <td>0.722222</td>\n",
       "      <td>{'algorithm': 'auto', 'n_neighbors': 1, 'p': 2}</td>\n",
       "      <td>0.867321</td>\n",
       "      <td>0.833333</td>\n",
       "    </tr>\n",
       "  </tbody>\n",
       "</table>\n",
       "<p>4 rows × 21 columns</p>\n",
       "</div>"
      ],
      "text/plain": [
       "                                                          Best Parameters  \\\n",
       "Logistic Regression     [{'C': 0.01, 'penalty': 'l2', 'solver': 'lbfgs'}]   \n",
       "Support Vector Machine  [{'C': 1.0, 'gamma': 0.03162277660168379, 'ker...   \n",
       "Decision Tree           [{'criterion': 'gini', 'max_depth': 10, 'max_f...   \n",
       "K Nearest Neighbor      [{'algorithm': 'auto', 'n_neighbors': 10, 'p':...   \n",
       "\n",
       "                       Train Accuracy Test Accuracy  \\\n",
       "Logistic Regression          0.846429      0.833333   \n",
       "Support Vector Machine       0.848214      0.833333   \n",
       "Decision Tree                0.876786      0.777778   \n",
       "K Nearest Neighbor           0.848214      0.833333   \n",
       "\n",
       "                                                 RKF10x10 Best Parameters  \\\n",
       "Logistic Regression       {'C': 0.01, 'penalty': 'l2', 'solver': 'lbfgs'}   \n",
       "Support Vector Machine  {'C': 1.0, 'gamma': 0.03162277660168379, 'kern...   \n",
       "Decision Tree           {'criterion': 'entropy', 'max_depth': 4, 'max_...   \n",
       "K Nearest Neighbor        {'algorithm': 'auto', 'n_neighbors': 9, 'p': 1}   \n",
       "\n",
       "                        RKF10x10 Train Accuracy  RKF10x10 Test Accuracy  \\\n",
       "Logistic Regression                    0.823036                0.833333   \n",
       "Support Vector Machine                 0.823929                0.833333   \n",
       "Decision Tree                          0.827321                0.833333   \n",
       "K Nearest Neighbor                     0.843571                0.833333   \n",
       "\n",
       "                                             TT2 RKF10x10 Best Parameters  \\\n",
       "Logistic Regression        {'C': 0.1, 'penalty': 'l2', 'solver': 'lbfgs'}   \n",
       "Support Vector Machine  {'C': 1.0, 'gamma': 0.03162277660168379, 'kern...   \n",
       "Decision Tree           {'criterion': 'entropy', 'max_depth': 4, 'max_...   \n",
       "K Nearest Neighbor        {'algorithm': 'auto', 'n_neighbors': 5, 'p': 1}   \n",
       "\n",
       "                        TT2 RKF10x10 Train Accuracy  \\\n",
       "Logistic Regression                        0.817500   \n",
       "Support Vector Machine                     0.843214   \n",
       "Decision Tree                              0.853393   \n",
       "K Nearest Neighbor                         0.850536   \n",
       "\n",
       "                        TT2 RKF10x10 Test Accuracy  \\\n",
       "Logistic Regression                       0.833333   \n",
       "Support Vector Machine                    0.833333   \n",
       "Decision Tree                             0.833333   \n",
       "K Nearest Neighbor                        0.777778   \n",
       "\n",
       "                                             PCA RKF10x10 Best Parameters  \\\n",
       "Logistic Regression       {'C': 0.01, 'penalty': 'l2', 'solver': 'lbfgs'}   \n",
       "Support Vector Machine  {'C': 1.0, 'gamma': 0.03162277660168379, 'kern...   \n",
       "Decision Tree           {'criterion': 'entropy', 'max_depth': 10, 'max...   \n",
       "K Nearest Neighbor        {'algorithm': 'auto', 'n_neighbors': 4, 'p': 2}   \n",
       "\n",
       "                        ...  PCA RKF10x10 Test Accuracy  \\\n",
       "Logistic Regression     ...                    0.833333   \n",
       "Support Vector Machine  ...                    0.833333   \n",
       "Decision Tree           ...                    0.611111   \n",
       "K Nearest Neighbor      ...                    0.777778   \n",
       "\n",
       "                                         PCA(55) RKF10x10 Best Parameters  \\\n",
       "Logistic Regression       {'C': 0.01, 'penalty': 'l2', 'solver': 'lbfgs'}   \n",
       "Support Vector Machine  {'C': 1.0, 'gamma': 0.03162277660168379, 'kern...   \n",
       "Decision Tree           {'criterion': 'gini', 'max_depth': 18, 'max_fe...   \n",
       "K Nearest Neighbor        {'algorithm': 'auto', 'n_neighbors': 4, 'p': 2}   \n",
       "\n",
       "                       PCA(55) RKF10x10 Train Accuracy  \\\n",
       "Logistic Regression                           0.825714   \n",
       "Support Vector Machine                        0.829464   \n",
       "Decision Tree                                 0.750714   \n",
       "K Nearest Neighbor                            0.837321   \n",
       "\n",
       "                        PCA(55) RKF10x10 Test Accuracy  \\\n",
       "Logistic Regression                           0.833333   \n",
       "Support Vector Machine                        0.833333   \n",
       "Decision Tree                                 0.611111   \n",
       "K Nearest Neighbor                            0.777778   \n",
       "\n",
       "                                         PCA(17) RKF10x10 Best Parameters  \\\n",
       "Logistic Regression        {'C': 0.1, 'penalty': 'l2', 'solver': 'lbfgs'}   \n",
       "Support Vector Machine  {'C': 0.03162277660168379, 'gamma': 0.001, 'ke...   \n",
       "Decision Tree           {'criterion': 'entropy', 'max_depth': 2, 'max_...   \n",
       "K Nearest Neighbor        {'algorithm': 'auto', 'n_neighbors': 8, 'p': 1}   \n",
       "\n",
       "                       PCA(17) RKF10x10 Train Accuracy  \\\n",
       "Logistic Regression                           0.818214   \n",
       "Support Vector Machine                        0.833393   \n",
       "Decision Tree                                 0.756607   \n",
       "K Nearest Neighbor                            0.866786   \n",
       "\n",
       "                        PCA(17) RKF10x10 Test Accuracy  \\\n",
       "Logistic Regression                           0.833333   \n",
       "Support Vector Machine                        0.833333   \n",
       "Decision Tree                                 0.555556   \n",
       "K Nearest Neighbor                            0.722222   \n",
       "\n",
       "                                     P-Value(13) RKF10x10 Best Parameters  \\\n",
       "Logistic Regression        {'C': 0.1, 'penalty': 'l2', 'solver': 'lbfgs'}   \n",
       "Support Vector Machine  {'C': 31.622776601683793, 'gamma': 31.62277660...   \n",
       "Decision Tree           {'criterion': 'gini', 'max_depth': 12, 'max_fe...   \n",
       "K Nearest Neighbor        {'algorithm': 'auto', 'n_neighbors': 1, 'p': 2}   \n",
       "\n",
       "                       P-Value(13) RKF10x10 Train Accuracy  \\\n",
       "Logistic Regression                               0.832143   \n",
       "Support Vector Machine                            0.881964   \n",
       "Decision Tree                                     0.857679   \n",
       "K Nearest Neighbor                                0.867321   \n",
       "\n",
       "                        P-Value(13) RKF10x10 Test Accuracy  \n",
       "Logistic Regression                               0.833333  \n",
       "Support Vector Machine                            0.833333  \n",
       "Decision Tree                                     0.777778  \n",
       "K Nearest Neighbor                                0.833333  \n",
       "\n",
       "[4 rows x 21 columns]"
      ]
     },
     "execution_count": 93,
     "metadata": {},
     "output_type": "execute_result"
    }
   ],
   "source": [
    "df_results"
   ]
  },
  {
   "cell_type": "code",
   "execution_count": 94,
   "metadata": {},
   "outputs": [
    {
     "data": {
      "image/png": "[encoded data removed]",
      "text/plain": [
       "<Figure size 432x288 with 1 Axes>"
      ]
     },
     "metadata": {
      "needs_background": "light"
     },
     "output_type": "display_data"
    }
   ],
   "source": [
    "df_results.reset_index().plot(kind='bar',x='index',y=list(df_results.columns[dfinds][1:3]),rot=10,title='Tuned Model Results', xlabel='Model', ylabel='Accuracy');\n",
    "plt.legend(loc='upper right');\n",
    "plt.ylim([0.60,.95]);"
   ]
  },
  {
   "cell_type": "markdown",
   "metadata": {},
   "source": [
    "Again Logistic Regression and Support Vector Machine maintain their unbroken lead in prediction accuracy, but Support Vector Machine has the highest training accuracy yet, so we prefer this model.  Note however that the training time is different for the various models, and this could come be a factor in a production environment."
   ]
  },
  {
   "cell_type": "markdown",
   "metadata": {},
   "source": [
    "## Future Work: Feature Improvement\n",
    "\n",
    "Some features were inconsiderately split, and rectifying this can improve the succinctness of the models:\n",
    "* GridFins, Legs, Reused should not be one-hot encoded as they are already binary variables\n",
    "* Serial should be a continuous variable; it is probably covered by FlightNumber, Block, and Reused\n",
    "\n",
    "Additional features may potentially improve the accuracy of the models:\n",
    "* Orbit should be broken into Equatorial (boolean), and MeanOrbitHeight (float) as these are more mission-descriptive and capture similarities between categories\n",
    "\n",
    "Multiple test/train splits should be considered to evaluate the robustness of various models to new data."
   ]
  },
  {
   "cell_type": "markdown",
   "metadata": {},
   "source": [
    "## Authors\n"
   ]
  },
  {
   "cell_type": "markdown",
   "metadata": {},
   "source": [
    "<a href=\"https://www.linkedin.com/in/joseph-s-50398b136/?utm_medium=Exinfluencer&utm_source=Exinfluencer&utm_content=000026UJ&utm_term=10006555&utm_id=NA-SkillsNetwork-Channel-SkillsNetworkCoursesIBMDS0321ENSkillsNetwork26802033-2021-01-01\">Joseph Santarcangelo</a> has a PhD in Electrical Engineering, his research focused on using machine learning, signal processing, and computer vision to determine how videos impact human cognition. Joseph has been working for IBM since he completed his PhD.\n",
    "\n",
    "<a href=\"https://www.linkedin.com/in/daniel-nezich-2990ab16/\">Daniel Nezich</a> has a PhD in Physics, his research focused on electronics of low-dimensional materials, high-temperature material growth, and laboratory system design.  Daniel has completed a postdoc and worked for Bluestone Global Tech and MIT Lincoln Laboratory since he completed his PhD."
   ]
  },
  {
   "cell_type": "markdown",
   "metadata": {},
   "source": [
    "## Change Log\n"
   ]
  },
  {
   "cell_type": "markdown",
   "metadata": {},
   "source": [
    "| Date (YYYY-MM-DD) | Version | Changed By    | Change Description      |\n",
    "| ----------------- | ------- | ------------- | ----------------------- |\n",
    "| 2021-09-24        | 1.2     | Daniel Nezich | Completed contents and extensions |\n",
    "| 2021-08-31        | 1.1     | Lakshmi Holla | Modified markdown       |\n",
    "| 2020-09-20        | 1.0     | Joseph        | Modified Multiple Areas |\n"
   ]
  },
  {
   "cell_type": "markdown",
   "metadata": {},
   "source": [
    "Template Copyright © 2020 IBM Corporation. All rights reserved.\n",
    "Additions Copyright © 2021 Daniel Nezich. All rights reserved."
   ]
  }
 ],
 "metadata": {
  "kernelspec": {
   "display_name": "Python 3 (ipykernel)",
   "language": "python",
   "name": "python3"
  },
  "language_info": {
   "codemirror_mode": {
    "name": "ipython",
    "version": 3
   },
   "file_extension": ".py",
   "mimetype": "text/x-python",
   "name": "python",
   "nbconvert_exporter": "python",
   "pygments_lexer": "ipython3",
   "version": "3.7.8"
  }
 },
 "nbformat": 4,
 "nbformat_minor": 4
}
