{
 "cells": [
  {
   "cell_type": "markdown",
   "id": "312ab3f6-c9e3-4404-a438-fd4d73039405",
   "metadata": {},
   "source": [
    "# How to display Dash apps in Jupyterlab"
   ]
  },
  {
   "cell_type": "markdown",
   "id": "72963498-eaf3-4060-901e-4a2634f976a3",
   "metadata": {
    "tags": []
   },
   "source": [
    "## Pure dash in a script file\n",
    "\n",
    "This runs, but is blocking:\n",
    "```python\n",
    "%run spacex_dash_app\n",
    "```"
   ]
  },
  {
   "cell_type": "markdown",
   "id": "789117bb-4130-4948-aee8-18fc3bb533e6",
   "metadata": {},
   "source": [
    "## jupyterlab-dash\n",
    "\n",
    "Example from GitHub repository for [jupyterlab-dash](https://github.com/plotly/jupyterlab-dash), but the extension is not yet compatible with windows:"
   ]
  },
  {
   "cell_type": "markdown",
   "id": "558463d3-e81b-455e-be64-8f78c21c631e",
   "metadata": {},
   "source": [
    "    import jupyterlab_dash\n",
    "    import dash\n",
    "    import dash_html_components as html\n",
    "\n",
    "    import spacex_dash_app as sda # use the baseline dash.Dash for the app constructor\n",
    "\n",
    "    viewer = jupyterlab_dash.AppViewer()\n",
    "    viewer.show(sda.app)"
   ]
  },
  {
   "cell_type": "markdown",
   "id": "2c7cccda-d00c-41ad-af3b-f5e2c57bed14",
   "metadata": {},
   "source": [
    "## jupyter-dash\n",
    "\n",
    "Example based on [StackOverflow answer](https://stackoverflow.com/questions/45490002/how-to-use-dash-within-jupyter-notebook-or-jupyterlab) using [jupyter-dash](https://github.com/plotly/jupyter-dash) instead, which also supports jupyterlab (also requires extension jupyterlab-dash installation in Jupyterlab):\n",
    "\n",
    "Note that the slider doesn't show because of this error:\n",
    "\n",
    "    Invalid argument `marks.0` passed into RangeSlider with ID \"payload-slider\".\n",
    "\n",
    "This is fixed by setting the value to a string for the marks declaration.\n",
    "\n",
    "Also there was an issue with chained assignment to DataFrames - fixed by using .copy when assigning a new DataFrame from a .loc of another to avoid it being a view.\n",
    "\n",
    "Note: mode=['external','inline','jupyterlab'] can all link to the same server/port; the most recently run dashboard dominates."
   ]
  },
  {
   "cell_type": "code",
   "execution_count": 1,
   "id": "486d3918-7764-47a8-803a-a7c9a0eafc49",
   "metadata": {
    "tags": []
   },
   "outputs": [],
   "source": [
    "# import jupyter_dash\n",
    "# import dash\n",
    "# import dash_html_components as html\n",
    "\n",
    "import spacex_dash_app as sda # use jupyter_dash.JupyterDash for the app constructor - this was updated to happen automatically based on load as module or run as program"
   ]
  },
  {
   "cell_type": "code",
   "execution_count": 2,
   "id": "2086ca06-2730-4547-b448-35d33104c962",
   "metadata": {},
   "outputs": [
    {
     "data": {
      "text/html": [
       "\n",
       "        <iframe\n",
       "            width=\"100%\"\n",
       "            height=\"1200\"\n",
       "            src=\"http://127.0.0.1:8090/\"\n",
       "            frameborder=\"0\"\n",
       "            allowfullscreen\n",
       "        ></iframe>\n",
       "        "
      ],
      "text/plain": [
       "<IPython.lib.display.IFrame at 0x272bd19fd08>"
      ]
     },
     "metadata": {},
     "output_type": "display_data"
    }
   ],
   "source": [
    "sda.app.run_server(mode='inline', port = 8090, dev_tools_ui=True, #debug=True,\n",
    "              dev_tools_hot_reload =True, threaded=True, height=1200)"
   ]
  },
  {
   "cell_type": "code",
   "execution_count": 3,
   "id": "42a9fe1f-63a2-4809-837e-f4be5e5c6097",
   "metadata": {},
   "outputs": [
    {
     "name": "stdout",
     "output_type": "stream",
     "text": [
      "Dash app running on http://127.0.0.1:8090/\n"
     ]
    },
    {
     "name": "stderr",
     "output_type": "stream",
     "text": [
      "C:\\Users\\Arkadiatri\\anaconda3\\envs\\Coursera\\lib\\site-packages\\jupyter_dash\\jupyter_app.py:139: UserWarning:\n",
      "\n",
      "The 'environ['werkzeug.server.shutdown']' function is deprecated and will be removed in Werkzeug 2.1.\n",
      "\n"
     ]
    }
   ],
   "source": [
    "sda.app.run_server(mode='external', port = 8090, dev_tools_ui=True, #debug=True,\n",
    "              dev_tools_hot_reload =True, threaded=True)"
   ]
  },
  {
   "cell_type": "code",
   "execution_count": 4,
   "id": "95e91632-05d7-446d-8b0f-da53dd296dde",
   "metadata": {
    "tags": []
   },
   "outputs": [],
   "source": [
    "sda.app.run_server(mode='jupyterlab', port = 8090, dev_tools_ui=True, #debug=True,\n",
    "              dev_tools_hot_reload =True, threaded=True,)"
   ]
  },
  {
   "cell_type": "markdown",
   "id": "fd8b127c-1dc0-4199-bf9e-55bd970fd3ec",
   "metadata": {},
   "source": [
    "## jupyter-plotly-dash\n",
    "\n",
    "[jupyter-plotly-dash](https://pypi.org/project/jupyter-plotly-dash/) but is not available on Anaconda:\n",
    "\n",
    "jupyter_plotly_dash.JupyterDash for the app constructor instead of dash.Dash"
   ]
  },
  {
   "cell_type": "markdown",
   "id": "03c8aa0d-b22b-424b-899e-eba21cc382bb",
   "metadata": {},
   "source": [
    "    import jupyter_plotly_dash\n",
    "    import dash\n",
    "    import dash_html_components as html\n",
    "\n",
    "    import spacex_dash_app as sda # use jupyter_dash.JupyterDash for the app constructor\n",
    "\n",
    "    sda.app.run_server(mode='jupyterlab', port = 8090, dev_tools_ui=True, #debug=True,\n",
    "                  dev_tools_hot_reload =True, threaded=True)"
   ]
  }
 ],
 "metadata": {
  "kernelspec": {
   "display_name": "Python 3 (ipykernel)",
   "language": "python",
   "name": "python3"
  },
  "language_info": {
   "codemirror_mode": {
    "name": "ipython",
    "version": 3
   },
   "file_extension": ".py",
   "mimetype": "text/x-python",
   "name": "python",
   "nbconvert_exporter": "python",
   "pygments_lexer": "ipython3",
   "version": "3.7.8"
  }
 },
 "nbformat": 4,
 "nbformat_minor": 5
}
